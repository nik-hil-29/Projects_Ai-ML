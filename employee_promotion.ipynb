{
  "cells": [
    {
      "cell_type": "markdown",
      "metadata": {
        "id": "view-in-github",
        "colab_type": "text"
      },
      "source": [
        "<a href=\"https://colab.research.google.com/github/nik-hil-29/employee_promotion/blob/main/employee_promotion.ipynb\" target=\"_parent\"><img src=\"https://colab.research.google.com/assets/colab-badge.svg\" alt=\"Open In Colab\"/></a>"
      ]
    },
    {
      "cell_type": "code",
      "execution_count": null,
      "metadata": {
        "colab": {
          "base_uri": "https://localhost:8080/"
        },
        "id": "T9UeA99FgN4w",
        "outputId": "e7a240c7-7e4e-448c-ca65-61c0abb942c4"
      },
      "outputs": [
        {
          "output_type": "stream",
          "name": "stdout",
          "text": [
            "Mounted at /gdrive\n"
          ]
        }
      ],
      "source": [
        "from google.colab import drive\n",
        "drive.mount('/gdrive')"
      ]
    },
    {
      "cell_type": "code",
      "execution_count": null,
      "metadata": {
        "id": "SHC3EtQOgi4p"
      },
      "outputs": [],
      "source": [
        "# Set the path to the CSV file in your Google Drive\n",
        "csv_path = '/gdrive/MyDrive/employee_promotion.csv'\n",
        "\n",
        "# Read the CSV file into a Pandas dataframe\n",
        "import pandas as pd\n",
        "df = pd.read_csv(csv_path)\n",
        "\n",
        "\n"
      ]
    },
    {
      "cell_type": "code",
      "execution_count": null,
      "metadata": {
        "colab": {
          "base_uri": "https://localhost:8080/",
          "height": 568
        },
        "id": "zU68JHTR_gVd",
        "outputId": "35786a4d-77b3-4c99-b62b-550f2956dfa2"
      },
      "outputs": [
        {
          "output_type": "execute_result",
          "data": {
            "text/plain": [
              "       employee_id         department     region         education gender  \\\n",
              "0            65438  Sales & Marketing   region_7  Master's & above      f   \n",
              "1            65141         Operations  region_22        Bachelor's      m   \n",
              "2             7513  Sales & Marketing  region_19        Bachelor's      m   \n",
              "3             2542  Sales & Marketing  region_23        Bachelor's      m   \n",
              "4            48945         Technology  region_26        Bachelor's      m   \n",
              "...            ...                ...        ...               ...    ...   \n",
              "54803         3030         Technology  region_14        Bachelor's      m   \n",
              "54804        74592         Operations  region_27  Master's & above      f   \n",
              "54805        13918          Analytics   region_1        Bachelor's      m   \n",
              "54806        13614  Sales & Marketing   region_9               NaN      m   \n",
              "54807        51526                 HR  region_22        Bachelor's      m   \n",
              "\n",
              "      recruitment_channel  no_of_trainings  age  previous_year_rating  \\\n",
              "0                sourcing                1   35                   5.0   \n",
              "1                   other                1   30                   5.0   \n",
              "2                sourcing                1   34                   3.0   \n",
              "3                   other                2   39                   1.0   \n",
              "4                   other                1   45                   3.0   \n",
              "...                   ...              ...  ...                   ...   \n",
              "54803            sourcing                1   48                   3.0   \n",
              "54804               other                1   37                   2.0   \n",
              "54805               other                1   27                   5.0   \n",
              "54806            sourcing                1   29                   1.0   \n",
              "54807               other                1   27                   1.0   \n",
              "\n",
              "       length_of_service  awards_won  avg_training_score  is_promoted  \n",
              "0                      8           0                49.0            0  \n",
              "1                      4           0                60.0            0  \n",
              "2                      7           0                50.0            0  \n",
              "3                     10           0                50.0            0  \n",
              "4                      2           0                73.0            0  \n",
              "...                  ...         ...                 ...          ...  \n",
              "54803                 17           0                78.0            0  \n",
              "54804                  6           0                56.0            0  \n",
              "54805                  3           0                79.0            0  \n",
              "54806                  2           0                 NaN            0  \n",
              "54807                  5           0                49.0            0  \n",
              "\n",
              "[54808 rows x 13 columns]"
            ],
            "text/html": [
              "\n",
              "  <div id=\"df-ee0cfae0-29e4-40d0-85a3-adb3e2213f11\">\n",
              "    <div class=\"colab-df-container\">\n",
              "      <div>\n",
              "<style scoped>\n",
              "    .dataframe tbody tr th:only-of-type {\n",
              "        vertical-align: middle;\n",
              "    }\n",
              "\n",
              "    .dataframe tbody tr th {\n",
              "        vertical-align: top;\n",
              "    }\n",
              "\n",
              "    .dataframe thead th {\n",
              "        text-align: right;\n",
              "    }\n",
              "</style>\n",
              "<table border=\"1\" class=\"dataframe\">\n",
              "  <thead>\n",
              "    <tr style=\"text-align: right;\">\n",
              "      <th></th>\n",
              "      <th>employee_id</th>\n",
              "      <th>department</th>\n",
              "      <th>region</th>\n",
              "      <th>education</th>\n",
              "      <th>gender</th>\n",
              "      <th>recruitment_channel</th>\n",
              "      <th>no_of_trainings</th>\n",
              "      <th>age</th>\n",
              "      <th>previous_year_rating</th>\n",
              "      <th>length_of_service</th>\n",
              "      <th>awards_won</th>\n",
              "      <th>avg_training_score</th>\n",
              "      <th>is_promoted</th>\n",
              "    </tr>\n",
              "  </thead>\n",
              "  <tbody>\n",
              "    <tr>\n",
              "      <th>0</th>\n",
              "      <td>65438</td>\n",
              "      <td>Sales &amp; Marketing</td>\n",
              "      <td>region_7</td>\n",
              "      <td>Master's &amp; above</td>\n",
              "      <td>f</td>\n",
              "      <td>sourcing</td>\n",
              "      <td>1</td>\n",
              "      <td>35</td>\n",
              "      <td>5.0</td>\n",
              "      <td>8</td>\n",
              "      <td>0</td>\n",
              "      <td>49.0</td>\n",
              "      <td>0</td>\n",
              "    </tr>\n",
              "    <tr>\n",
              "      <th>1</th>\n",
              "      <td>65141</td>\n",
              "      <td>Operations</td>\n",
              "      <td>region_22</td>\n",
              "      <td>Bachelor's</td>\n",
              "      <td>m</td>\n",
              "      <td>other</td>\n",
              "      <td>1</td>\n",
              "      <td>30</td>\n",
              "      <td>5.0</td>\n",
              "      <td>4</td>\n",
              "      <td>0</td>\n",
              "      <td>60.0</td>\n",
              "      <td>0</td>\n",
              "    </tr>\n",
              "    <tr>\n",
              "      <th>2</th>\n",
              "      <td>7513</td>\n",
              "      <td>Sales &amp; Marketing</td>\n",
              "      <td>region_19</td>\n",
              "      <td>Bachelor's</td>\n",
              "      <td>m</td>\n",
              "      <td>sourcing</td>\n",
              "      <td>1</td>\n",
              "      <td>34</td>\n",
              "      <td>3.0</td>\n",
              "      <td>7</td>\n",
              "      <td>0</td>\n",
              "      <td>50.0</td>\n",
              "      <td>0</td>\n",
              "    </tr>\n",
              "    <tr>\n",
              "      <th>3</th>\n",
              "      <td>2542</td>\n",
              "      <td>Sales &amp; Marketing</td>\n",
              "      <td>region_23</td>\n",
              "      <td>Bachelor's</td>\n",
              "      <td>m</td>\n",
              "      <td>other</td>\n",
              "      <td>2</td>\n",
              "      <td>39</td>\n",
              "      <td>1.0</td>\n",
              "      <td>10</td>\n",
              "      <td>0</td>\n",
              "      <td>50.0</td>\n",
              "      <td>0</td>\n",
              "    </tr>\n",
              "    <tr>\n",
              "      <th>4</th>\n",
              "      <td>48945</td>\n",
              "      <td>Technology</td>\n",
              "      <td>region_26</td>\n",
              "      <td>Bachelor's</td>\n",
              "      <td>m</td>\n",
              "      <td>other</td>\n",
              "      <td>1</td>\n",
              "      <td>45</td>\n",
              "      <td>3.0</td>\n",
              "      <td>2</td>\n",
              "      <td>0</td>\n",
              "      <td>73.0</td>\n",
              "      <td>0</td>\n",
              "    </tr>\n",
              "    <tr>\n",
              "      <th>...</th>\n",
              "      <td>...</td>\n",
              "      <td>...</td>\n",
              "      <td>...</td>\n",
              "      <td>...</td>\n",
              "      <td>...</td>\n",
              "      <td>...</td>\n",
              "      <td>...</td>\n",
              "      <td>...</td>\n",
              "      <td>...</td>\n",
              "      <td>...</td>\n",
              "      <td>...</td>\n",
              "      <td>...</td>\n",
              "      <td>...</td>\n",
              "    </tr>\n",
              "    <tr>\n",
              "      <th>54803</th>\n",
              "      <td>3030</td>\n",
              "      <td>Technology</td>\n",
              "      <td>region_14</td>\n",
              "      <td>Bachelor's</td>\n",
              "      <td>m</td>\n",
              "      <td>sourcing</td>\n",
              "      <td>1</td>\n",
              "      <td>48</td>\n",
              "      <td>3.0</td>\n",
              "      <td>17</td>\n",
              "      <td>0</td>\n",
              "      <td>78.0</td>\n",
              "      <td>0</td>\n",
              "    </tr>\n",
              "    <tr>\n",
              "      <th>54804</th>\n",
              "      <td>74592</td>\n",
              "      <td>Operations</td>\n",
              "      <td>region_27</td>\n",
              "      <td>Master's &amp; above</td>\n",
              "      <td>f</td>\n",
              "      <td>other</td>\n",
              "      <td>1</td>\n",
              "      <td>37</td>\n",
              "      <td>2.0</td>\n",
              "      <td>6</td>\n",
              "      <td>0</td>\n",
              "      <td>56.0</td>\n",
              "      <td>0</td>\n",
              "    </tr>\n",
              "    <tr>\n",
              "      <th>54805</th>\n",
              "      <td>13918</td>\n",
              "      <td>Analytics</td>\n",
              "      <td>region_1</td>\n",
              "      <td>Bachelor's</td>\n",
              "      <td>m</td>\n",
              "      <td>other</td>\n",
              "      <td>1</td>\n",
              "      <td>27</td>\n",
              "      <td>5.0</td>\n",
              "      <td>3</td>\n",
              "      <td>0</td>\n",
              "      <td>79.0</td>\n",
              "      <td>0</td>\n",
              "    </tr>\n",
              "    <tr>\n",
              "      <th>54806</th>\n",
              "      <td>13614</td>\n",
              "      <td>Sales &amp; Marketing</td>\n",
              "      <td>region_9</td>\n",
              "      <td>NaN</td>\n",
              "      <td>m</td>\n",
              "      <td>sourcing</td>\n",
              "      <td>1</td>\n",
              "      <td>29</td>\n",
              "      <td>1.0</td>\n",
              "      <td>2</td>\n",
              "      <td>0</td>\n",
              "      <td>NaN</td>\n",
              "      <td>0</td>\n",
              "    </tr>\n",
              "    <tr>\n",
              "      <th>54807</th>\n",
              "      <td>51526</td>\n",
              "      <td>HR</td>\n",
              "      <td>region_22</td>\n",
              "      <td>Bachelor's</td>\n",
              "      <td>m</td>\n",
              "      <td>other</td>\n",
              "      <td>1</td>\n",
              "      <td>27</td>\n",
              "      <td>1.0</td>\n",
              "      <td>5</td>\n",
              "      <td>0</td>\n",
              "      <td>49.0</td>\n",
              "      <td>0</td>\n",
              "    </tr>\n",
              "  </tbody>\n",
              "</table>\n",
              "<p>54808 rows × 13 columns</p>\n",
              "</div>\n",
              "      <button class=\"colab-df-convert\" onclick=\"convertToInteractive('df-ee0cfae0-29e4-40d0-85a3-adb3e2213f11')\"\n",
              "              title=\"Convert this dataframe to an interactive table.\"\n",
              "              style=\"display:none;\">\n",
              "        \n",
              "  <svg xmlns=\"http://www.w3.org/2000/svg\" height=\"24px\"viewBox=\"0 0 24 24\"\n",
              "       width=\"24px\">\n",
              "    <path d=\"M0 0h24v24H0V0z\" fill=\"none\"/>\n",
              "    <path d=\"M18.56 5.44l.94 2.06.94-2.06 2.06-.94-2.06-.94-.94-2.06-.94 2.06-2.06.94zm-11 1L8.5 8.5l.94-2.06 2.06-.94-2.06-.94L8.5 2.5l-.94 2.06-2.06.94zm10 10l.94 2.06.94-2.06 2.06-.94-2.06-.94-.94-2.06-.94 2.06-2.06.94z\"/><path d=\"M17.41 7.96l-1.37-1.37c-.4-.4-.92-.59-1.43-.59-.52 0-1.04.2-1.43.59L10.3 9.45l-7.72 7.72c-.78.78-.78 2.05 0 2.83L4 21.41c.39.39.9.59 1.41.59.51 0 1.02-.2 1.41-.59l7.78-7.78 2.81-2.81c.8-.78.8-2.07 0-2.86zM5.41 20L4 18.59l7.72-7.72 1.47 1.35L5.41 20z\"/>\n",
              "  </svg>\n",
              "      </button>\n",
              "      \n",
              "  <style>\n",
              "    .colab-df-container {\n",
              "      display:flex;\n",
              "      flex-wrap:wrap;\n",
              "      gap: 12px;\n",
              "    }\n",
              "\n",
              "    .colab-df-convert {\n",
              "      background-color: #E8F0FE;\n",
              "      border: none;\n",
              "      border-radius: 50%;\n",
              "      cursor: pointer;\n",
              "      display: none;\n",
              "      fill: #1967D2;\n",
              "      height: 32px;\n",
              "      padding: 0 0 0 0;\n",
              "      width: 32px;\n",
              "    }\n",
              "\n",
              "    .colab-df-convert:hover {\n",
              "      background-color: #E2EBFA;\n",
              "      box-shadow: 0px 1px 2px rgba(60, 64, 67, 0.3), 0px 1px 3px 1px rgba(60, 64, 67, 0.15);\n",
              "      fill: #174EA6;\n",
              "    }\n",
              "\n",
              "    [theme=dark] .colab-df-convert {\n",
              "      background-color: #3B4455;\n",
              "      fill: #D2E3FC;\n",
              "    }\n",
              "\n",
              "    [theme=dark] .colab-df-convert:hover {\n",
              "      background-color: #434B5C;\n",
              "      box-shadow: 0px 1px 3px 1px rgba(0, 0, 0, 0.15);\n",
              "      filter: drop-shadow(0px 1px 2px rgba(0, 0, 0, 0.3));\n",
              "      fill: #FFFFFF;\n",
              "    }\n",
              "  </style>\n",
              "\n",
              "      <script>\n",
              "        const buttonEl =\n",
              "          document.querySelector('#df-ee0cfae0-29e4-40d0-85a3-adb3e2213f11 button.colab-df-convert');\n",
              "        buttonEl.style.display =\n",
              "          google.colab.kernel.accessAllowed ? 'block' : 'none';\n",
              "\n",
              "        async function convertToInteractive(key) {\n",
              "          const element = document.querySelector('#df-ee0cfae0-29e4-40d0-85a3-adb3e2213f11');\n",
              "          const dataTable =\n",
              "            await google.colab.kernel.invokeFunction('convertToInteractive',\n",
              "                                                     [key], {});\n",
              "          if (!dataTable) return;\n",
              "\n",
              "          const docLinkHtml = 'Like what you see? Visit the ' +\n",
              "            '<a target=\"_blank\" href=https://colab.research.google.com/notebooks/data_table.ipynb>data table notebook</a>'\n",
              "            + ' to learn more about interactive tables.';\n",
              "          element.innerHTML = '';\n",
              "          dataTable['output_type'] = 'display_data';\n",
              "          await google.colab.output.renderOutput(dataTable, element);\n",
              "          const docLink = document.createElement('div');\n",
              "          docLink.innerHTML = docLinkHtml;\n",
              "          element.appendChild(docLink);\n",
              "        }\n",
              "      </script>\n",
              "    </div>\n",
              "  </div>\n",
              "  "
            ]
          },
          "metadata": {},
          "execution_count": 3
        }
      ],
      "source": [
        "df"
      ]
    },
    {
      "cell_type": "code",
      "execution_count": null,
      "metadata": {
        "id": "VFS6KlqAP5jb"
      },
      "outputs": [],
      "source": [
        "# lets do some EDA (Exporatory Data Analysis)"
      ]
    },
    {
      "cell_type": "code",
      "source": [],
      "metadata": {
        "id": "4Lm8-D_USiAt"
      },
      "execution_count": null,
      "outputs": []
    },
    {
      "cell_type": "code",
      "execution_count": null,
      "metadata": {
        "colab": {
          "base_uri": "https://localhost:8080/",
          "height": 807
        },
        "id": "n3qHvbhRzErk",
        "outputId": "9e8f5b06-7631-4771-feec-eaed724904e4"
      },
      "outputs": [
        {
          "output_type": "display_data",
          "data": {
            "text/plain": [
              "<Figure size 1000x1000 with 1 Axes>"
            ],
            "image/png": "[encoded data removed]"
          },
          "metadata": {}
        }
      ],
      "source": [
        "from matplotlib import pyplot as plt\n",
        "plt.figure(figsize=(10,10))\n",
        "df['department'].value_counts().plot(kind='pie').legend()\n",
        "plt.show()\n"
      ]
    },
    {
      "cell_type": "code",
      "execution_count": null,
      "metadata": {
        "colab": {
          "base_uri": "https://localhost:8080/"
        },
        "id": "6UyiR2eghnBS",
        "outputId": "7fd2484c-3657-4295-e1fc-1f2e552311a7"
      },
      "outputs": [
        {
          "output_type": "execute_result",
          "data": {
            "text/plain": [
              "(54808, 13)"
            ]
          },
          "metadata": {},
          "execution_count": 77
        }
      ],
      "source": [
        "df.shape"
      ]
    },
    {
      "cell_type": "code",
      "execution_count": null,
      "metadata": {
        "colab": {
          "base_uri": "https://localhost:8080/"
        },
        "id": "riSIbxMUjCdV",
        "outputId": "b08e0798-8813-4a8b-e62a-21007cb38362"
      },
      "outputs": [
        {
          "output_type": "execute_result",
          "data": {
            "text/plain": [
              "712504"
            ]
          },
          "metadata": {},
          "execution_count": 78
        }
      ],
      "source": [
        "df.size"
      ]
    },
    {
      "cell_type": "code",
      "execution_count": null,
      "metadata": {
        "colab": {
          "base_uri": "https://localhost:8080/",
          "height": 297
        },
        "id": "ddjvQG11OCts",
        "outputId": "f262e567-74f0-4e24-b717-32153fd862e1"
      },
      "outputs": [
        {
          "output_type": "execute_result",
          "data": {
            "text/plain": [
              "        employee_id  no_of_trainings           age  previous_year_rating  \\\n",
              "count  54808.000000     54808.000000  54808.000000          50684.000000   \n",
              "mean   39195.830627         1.253011     34.803915              3.329256   \n",
              "std    22586.581449         0.609264      7.660169              1.259993   \n",
              "min        1.000000         1.000000     20.000000              1.000000   \n",
              "25%    19669.750000         1.000000     29.000000              3.000000   \n",
              "50%    39225.500000         1.000000     33.000000              3.000000   \n",
              "75%    58730.500000         1.000000     39.000000              4.000000   \n",
              "max    78298.000000        10.000000     60.000000              5.000000   \n",
              "\n",
              "       length_of_service    awards_won  avg_training_score   is_promoted  \n",
              "count       54808.000000  54808.000000        52248.000000  54808.000000  \n",
              "mean            5.865512      0.023172           63.712238      0.085170  \n",
              "std             4.265094      0.150450           13.521910      0.279137  \n",
              "min             1.000000      0.000000           39.000000      0.000000  \n",
              "25%             3.000000      0.000000           51.000000      0.000000  \n",
              "50%             5.000000      0.000000           60.000000      0.000000  \n",
              "75%             7.000000      0.000000           77.000000      0.000000  \n",
              "max            37.000000      1.000000           99.000000      1.000000  "
            ],
            "text/html": [
              "\n",
              "  <div id=\"df-79b28114-2a04-4711-96c5-1b4638f65eb7\">\n",
              "    <div class=\"colab-df-container\">\n",
              "      <div>\n",
              "<style scoped>\n",
              "    .dataframe tbody tr th:only-of-type {\n",
              "        vertical-align: middle;\n",
              "    }\n",
              "\n",
              "    .dataframe tbody tr th {\n",
              "        vertical-align: top;\n",
              "    }\n",
              "\n",
              "    .dataframe thead th {\n",
              "        text-align: right;\n",
              "    }\n",
              "</style>\n",
              "<table border=\"1\" class=\"dataframe\">\n",
              "  <thead>\n",
              "    <tr style=\"text-align: right;\">\n",
              "      <th></th>\n",
              "      <th>employee_id</th>\n",
              "      <th>no_of_trainings</th>\n",
              "      <th>age</th>\n",
              "      <th>previous_year_rating</th>\n",
              "      <th>length_of_service</th>\n",
              "      <th>awards_won</th>\n",
              "      <th>avg_training_score</th>\n",
              "      <th>is_promoted</th>\n",
              "    </tr>\n",
              "  </thead>\n",
              "  <tbody>\n",
              "    <tr>\n",
              "      <th>count</th>\n",
              "      <td>54808.000000</td>\n",
              "      <td>54808.000000</td>\n",
              "      <td>54808.000000</td>\n",
              "      <td>50684.000000</td>\n",
              "      <td>54808.000000</td>\n",
              "      <td>54808.000000</td>\n",
              "      <td>52248.000000</td>\n",
              "      <td>54808.000000</td>\n",
              "    </tr>\n",
              "    <tr>\n",
              "      <th>mean</th>\n",
              "      <td>39195.830627</td>\n",
              "      <td>1.253011</td>\n",
              "      <td>34.803915</td>\n",
              "      <td>3.329256</td>\n",
              "      <td>5.865512</td>\n",
              "      <td>0.023172</td>\n",
              "      <td>63.712238</td>\n",
              "      <td>0.085170</td>\n",
              "    </tr>\n",
              "    <tr>\n",
              "      <th>std</th>\n",
              "      <td>22586.581449</td>\n",
              "      <td>0.609264</td>\n",
              "      <td>7.660169</td>\n",
              "      <td>1.259993</td>\n",
              "      <td>4.265094</td>\n",
              "      <td>0.150450</td>\n",
              "      <td>13.521910</td>\n",
              "      <td>0.279137</td>\n",
              "    </tr>\n",
              "    <tr>\n",
              "      <th>min</th>\n",
              "      <td>1.000000</td>\n",
              "      <td>1.000000</td>\n",
              "      <td>20.000000</td>\n",
              "      <td>1.000000</td>\n",
              "      <td>1.000000</td>\n",
              "      <td>0.000000</td>\n",
              "      <td>39.000000</td>\n",
              "      <td>0.000000</td>\n",
              "    </tr>\n",
              "    <tr>\n",
              "      <th>25%</th>\n",
              "      <td>19669.750000</td>\n",
              "      <td>1.000000</td>\n",
              "      <td>29.000000</td>\n",
              "      <td>3.000000</td>\n",
              "      <td>3.000000</td>\n",
              "      <td>0.000000</td>\n",
              "      <td>51.000000</td>\n",
              "      <td>0.000000</td>\n",
              "    </tr>\n",
              "    <tr>\n",
              "      <th>50%</th>\n",
              "      <td>39225.500000</td>\n",
              "      <td>1.000000</td>\n",
              "      <td>33.000000</td>\n",
              "      <td>3.000000</td>\n",
              "      <td>5.000000</td>\n",
              "      <td>0.000000</td>\n",
              "      <td>60.000000</td>\n",
              "      <td>0.000000</td>\n",
              "    </tr>\n",
              "    <tr>\n",
              "      <th>75%</th>\n",
              "      <td>58730.500000</td>\n",
              "      <td>1.000000</td>\n",
              "      <td>39.000000</td>\n",
              "      <td>4.000000</td>\n",
              "      <td>7.000000</td>\n",
              "      <td>0.000000</td>\n",
              "      <td>77.000000</td>\n",
              "      <td>0.000000</td>\n",
              "    </tr>\n",
              "    <tr>\n",
              "      <th>max</th>\n",
              "      <td>78298.000000</td>\n",
              "      <td>10.000000</td>\n",
              "      <td>60.000000</td>\n",
              "      <td>5.000000</td>\n",
              "      <td>37.000000</td>\n",
              "      <td>1.000000</td>\n",
              "      <td>99.000000</td>\n",
              "      <td>1.000000</td>\n",
              "    </tr>\n",
              "  </tbody>\n",
              "</table>\n",
              "</div>\n",
              "      <button class=\"colab-df-convert\" onclick=\"convertToInteractive('df-79b28114-2a04-4711-96c5-1b4638f65eb7')\"\n",
              "              title=\"Convert this dataframe to an interactive table.\"\n",
              "              style=\"display:none;\">\n",
              "        \n",
              "  <svg xmlns=\"http://www.w3.org/2000/svg\" height=\"24px\"viewBox=\"0 0 24 24\"\n",
              "       width=\"24px\">\n",
              "    <path d=\"M0 0h24v24H0V0z\" fill=\"none\"/>\n",
              "    <path d=\"M18.56 5.44l.94 2.06.94-2.06 2.06-.94-2.06-.94-.94-2.06-.94 2.06-2.06.94zm-11 1L8.5 8.5l.94-2.06 2.06-.94-2.06-.94L8.5 2.5l-.94 2.06-2.06.94zm10 10l.94 2.06.94-2.06 2.06-.94-2.06-.94-.94-2.06-.94 2.06-2.06.94z\"/><path d=\"M17.41 7.96l-1.37-1.37c-.4-.4-.92-.59-1.43-.59-.52 0-1.04.2-1.43.59L10.3 9.45l-7.72 7.72c-.78.78-.78 2.05 0 2.83L4 21.41c.39.39.9.59 1.41.59.51 0 1.02-.2 1.41-.59l7.78-7.78 2.81-2.81c.8-.78.8-2.07 0-2.86zM5.41 20L4 18.59l7.72-7.72 1.47 1.35L5.41 20z\"/>\n",
              "  </svg>\n",
              "      </button>\n",
              "      \n",
              "  <style>\n",
              "    .colab-df-container {\n",
              "      display:flex;\n",
              "      flex-wrap:wrap;\n",
              "      gap: 12px;\n",
              "    }\n",
              "\n",
              "    .colab-df-convert {\n",
              "      background-color: #E8F0FE;\n",
              "      border: none;\n",
              "      border-radius: 50%;\n",
              "      cursor: pointer;\n",
              "      display: none;\n",
              "      fill: #1967D2;\n",
              "      height: 32px;\n",
              "      padding: 0 0 0 0;\n",
              "      width: 32px;\n",
              "    }\n",
              "\n",
              "    .colab-df-convert:hover {\n",
              "      background-color: #E2EBFA;\n",
              "      box-shadow: 0px 1px 2px rgba(60, 64, 67, 0.3), 0px 1px 3px 1px rgba(60, 64, 67, 0.15);\n",
              "      fill: #174EA6;\n",
              "    }\n",
              "\n",
              "    [theme=dark] .colab-df-convert {\n",
              "      background-color: #3B4455;\n",
              "      fill: #D2E3FC;\n",
              "    }\n",
              "\n",
              "    [theme=dark] .colab-df-convert:hover {\n",
              "      background-color: #434B5C;\n",
              "      box-shadow: 0px 1px 3px 1px rgba(0, 0, 0, 0.15);\n",
              "      filter: drop-shadow(0px 1px 2px rgba(0, 0, 0, 0.3));\n",
              "      fill: #FFFFFF;\n",
              "    }\n",
              "  </style>\n",
              "\n",
              "      <script>\n",
              "        const buttonEl =\n",
              "          document.querySelector('#df-79b28114-2a04-4711-96c5-1b4638f65eb7 button.colab-df-convert');\n",
              "        buttonEl.style.display =\n",
              "          google.colab.kernel.accessAllowed ? 'block' : 'none';\n",
              "\n",
              "        async function convertToInteractive(key) {\n",
              "          const element = document.querySelector('#df-79b28114-2a04-4711-96c5-1b4638f65eb7');\n",
              "          const dataTable =\n",
              "            await google.colab.kernel.invokeFunction('convertToInteractive',\n",
              "                                                     [key], {});\n",
              "          if (!dataTable) return;\n",
              "\n",
              "          const docLinkHtml = 'Like what you see? Visit the ' +\n",
              "            '<a target=\"_blank\" href=https://colab.research.google.com/notebooks/data_table.ipynb>data table notebook</a>'\n",
              "            + ' to learn more about interactive tables.';\n",
              "          element.innerHTML = '';\n",
              "          dataTable['output_type'] = 'display_data';\n",
              "          await google.colab.output.renderOutput(dataTable, element);\n",
              "          const docLink = document.createElement('div');\n",
              "          docLink.innerHTML = docLinkHtml;\n",
              "          element.appendChild(docLink);\n",
              "        }\n",
              "      </script>\n",
              "    </div>\n",
              "  </div>\n",
              "  "
            ]
          },
          "metadata": {},
          "execution_count": 79
        }
      ],
      "source": [
        "df.describe()"
      ]
    },
    {
      "cell_type": "code",
      "execution_count": null,
      "metadata": {
        "colab": {
          "base_uri": "https://localhost:8080/",
          "height": 428
        },
        "id": "WY9o0JWVzglM",
        "outputId": "fe08bba5-aab6-4733-c382-95d64b9a3813"
      },
      "outputs": [
        {
          "output_type": "display_data",
          "data": {
            "text/plain": [
              "<Figure size 640x480 with 1 Axes>"
            ],
            "image/png": "[encoded data removed]"
          },
          "metadata": {}
        }
      ],
      "source": [
        "\n",
        "channel_counts = df['recruitment_channel'].value_counts()\n",
        "plt.pie(channel_counts, labels=channel_counts.index, colors=['gold', 'silver', 'blue'])\n",
        "plt.title('Recruitment Channel Distribution')\n",
        "plt.show()"
      ]
    },
    {
      "cell_type": "code",
      "execution_count": null,
      "metadata": {
        "colab": {
          "base_uri": "https://localhost:8080/"
        },
        "id": "-bojJEg1LiZ-",
        "outputId": "ee2f0836-0609-459a-eb78-6163b6d2d617"
      },
      "outputs": [
        {
          "output_type": "execute_result",
          "data": {
            "text/plain": [
              "2409"
            ]
          },
          "metadata": {},
          "execution_count": 81
        }
      ],
      "source": [
        "# Get total missing values in 'education' column\n",
        "df.education.isnull().sum()"
      ]
    },
    {
      "cell_type": "code",
      "execution_count": null,
      "metadata": {
        "colab": {
          "base_uri": "https://localhost:8080/"
        },
        "id": "xUHxXMPGLwtf",
        "outputId": "92a53ed3-c596-40ad-bd4c-3ad9cf9b738d"
      },
      "outputs": [
        {
          "output_type": "execute_result",
          "data": {
            "text/plain": [
              "4124"
            ]
          },
          "metadata": {},
          "execution_count": 82
        }
      ],
      "source": [
        "# Get total missing values in 'previous_year_rating' column\n",
        "df.previous_year_rating.isnull().sum()"
      ]
    },
    {
      "cell_type": "code",
      "execution_count": null,
      "metadata": {
        "colab": {
          "base_uri": "https://localhost:8080/"
        },
        "id": "O5N2HkU9L6TU",
        "outputId": "af4c3375-265f-4a05-c16b-cf12936706d8"
      },
      "outputs": [
        {
          "output_type": "execute_result",
          "data": {
            "text/plain": [
              "2560"
            ]
          },
          "metadata": {},
          "execution_count": 83
        }
      ],
      "source": [
        "# Get total missing values in 'avg_training_score' column\n",
        "df.avg_training_score.isnull().sum()"
      ]
    },
    {
      "cell_type": "code",
      "execution_count": null,
      "metadata": {
        "colab": {
          "base_uri": "https://localhost:8080/",
          "height": 568
        },
        "id": "nq9leOTOGkO5",
        "outputId": "068c9a9b-63fb-4f16-8c67-e8e640dd713a"
      },
      "outputs": [
        {
          "output_type": "execute_result",
          "data": {
            "text/plain": [
              "       employee_id         department     region         education gender  \\\n",
              "0            65438  Sales & Marketing   region_7  Master's & above      f   \n",
              "1            65141         Operations  region_22        Bachelor's      m   \n",
              "2             7513  Sales & Marketing  region_19        Bachelor's      m   \n",
              "3             2542  Sales & Marketing  region_23        Bachelor's      m   \n",
              "4            48945         Technology  region_26        Bachelor's      m   \n",
              "...            ...                ...        ...               ...    ...   \n",
              "54803         3030         Technology  region_14        Bachelor's      m   \n",
              "54804        74592         Operations  region_27  Master's & above      f   \n",
              "54805        13918          Analytics   region_1        Bachelor's      m   \n",
              "54806        13614  Sales & Marketing   region_9               NaN      m   \n",
              "54807        51526                 HR  region_22        Bachelor's      m   \n",
              "\n",
              "      recruitment_channel  no_of_trainings  age  previous_year_rating  \\\n",
              "0                sourcing                1   35                   5.0   \n",
              "1                   other                1   30                   5.0   \n",
              "2                sourcing                1   34                   3.0   \n",
              "3                   other                2   39                   1.0   \n",
              "4                   other                1   45                   3.0   \n",
              "...                   ...              ...  ...                   ...   \n",
              "54803            sourcing                1   48                   3.0   \n",
              "54804               other                1   37                   2.0   \n",
              "54805               other                1   27                   5.0   \n",
              "54806            sourcing                1   29                   1.0   \n",
              "54807               other                1   27                   1.0   \n",
              "\n",
              "       length_of_service  awards_won  avg_training_score  is_promoted  \n",
              "0                      8           0                49.0            0  \n",
              "1                      4           0                60.0            0  \n",
              "2                      7           0                50.0            0  \n",
              "3                     10           0                50.0            0  \n",
              "4                      2           0                73.0            0  \n",
              "...                  ...         ...                 ...          ...  \n",
              "54803                 17           0                78.0            0  \n",
              "54804                  6           0                56.0            0  \n",
              "54805                  3           0                79.0            0  \n",
              "54806                  2           0                 NaN            0  \n",
              "54807                  5           0                49.0            0  \n",
              "\n",
              "[54808 rows x 13 columns]"
            ],
            "text/html": [
              "\n",
              "  <div id=\"df-eaf3e2ae-2520-44b3-8460-52b2c38c9c7d\">\n",
              "    <div class=\"colab-df-container\">\n",
              "      <div>\n",
              "<style scoped>\n",
              "    .dataframe tbody tr th:only-of-type {\n",
              "        vertical-align: middle;\n",
              "    }\n",
              "\n",
              "    .dataframe tbody tr th {\n",
              "        vertical-align: top;\n",
              "    }\n",
              "\n",
              "    .dataframe thead th {\n",
              "        text-align: right;\n",
              "    }\n",
              "</style>\n",
              "<table border=\"1\" class=\"dataframe\">\n",
              "  <thead>\n",
              "    <tr style=\"text-align: right;\">\n",
              "      <th></th>\n",
              "      <th>employee_id</th>\n",
              "      <th>department</th>\n",
              "      <th>region</th>\n",
              "      <th>education</th>\n",
              "      <th>gender</th>\n",
              "      <th>recruitment_channel</th>\n",
              "      <th>no_of_trainings</th>\n",
              "      <th>age</th>\n",
              "      <th>previous_year_rating</th>\n",
              "      <th>length_of_service</th>\n",
              "      <th>awards_won</th>\n",
              "      <th>avg_training_score</th>\n",
              "      <th>is_promoted</th>\n",
              "    </tr>\n",
              "  </thead>\n",
              "  <tbody>\n",
              "    <tr>\n",
              "      <th>0</th>\n",
              "      <td>65438</td>\n",
              "      <td>Sales &amp; Marketing</td>\n",
              "      <td>region_7</td>\n",
              "      <td>Master's &amp; above</td>\n",
              "      <td>f</td>\n",
              "      <td>sourcing</td>\n",
              "      <td>1</td>\n",
              "      <td>35</td>\n",
              "      <td>5.0</td>\n",
              "      <td>8</td>\n",
              "      <td>0</td>\n",
              "      <td>49.0</td>\n",
              "      <td>0</td>\n",
              "    </tr>\n",
              "    <tr>\n",
              "      <th>1</th>\n",
              "      <td>65141</td>\n",
              "      <td>Operations</td>\n",
              "      <td>region_22</td>\n",
              "      <td>Bachelor's</td>\n",
              "      <td>m</td>\n",
              "      <td>other</td>\n",
              "      <td>1</td>\n",
              "      <td>30</td>\n",
              "      <td>5.0</td>\n",
              "      <td>4</td>\n",
              "      <td>0</td>\n",
              "      <td>60.0</td>\n",
              "      <td>0</td>\n",
              "    </tr>\n",
              "    <tr>\n",
              "      <th>2</th>\n",
              "      <td>7513</td>\n",
              "      <td>Sales &amp; Marketing</td>\n",
              "      <td>region_19</td>\n",
              "      <td>Bachelor's</td>\n",
              "      <td>m</td>\n",
              "      <td>sourcing</td>\n",
              "      <td>1</td>\n",
              "      <td>34</td>\n",
              "      <td>3.0</td>\n",
              "      <td>7</td>\n",
              "      <td>0</td>\n",
              "      <td>50.0</td>\n",
              "      <td>0</td>\n",
              "    </tr>\n",
              "    <tr>\n",
              "      <th>3</th>\n",
              "      <td>2542</td>\n",
              "      <td>Sales &amp; Marketing</td>\n",
              "      <td>region_23</td>\n",
              "      <td>Bachelor's</td>\n",
              "      <td>m</td>\n",
              "      <td>other</td>\n",
              "      <td>2</td>\n",
              "      <td>39</td>\n",
              "      <td>1.0</td>\n",
              "      <td>10</td>\n",
              "      <td>0</td>\n",
              "      <td>50.0</td>\n",
              "      <td>0</td>\n",
              "    </tr>\n",
              "    <tr>\n",
              "      <th>4</th>\n",
              "      <td>48945</td>\n",
              "      <td>Technology</td>\n",
              "      <td>region_26</td>\n",
              "      <td>Bachelor's</td>\n",
              "      <td>m</td>\n",
              "      <td>other</td>\n",
              "      <td>1</td>\n",
              "      <td>45</td>\n",
              "      <td>3.0</td>\n",
              "      <td>2</td>\n",
              "      <td>0</td>\n",
              "      <td>73.0</td>\n",
              "      <td>0</td>\n",
              "    </tr>\n",
              "    <tr>\n",
              "      <th>...</th>\n",
              "      <td>...</td>\n",
              "      <td>...</td>\n",
              "      <td>...</td>\n",
              "      <td>...</td>\n",
              "      <td>...</td>\n",
              "      <td>...</td>\n",
              "      <td>...</td>\n",
              "      <td>...</td>\n",
              "      <td>...</td>\n",
              "      <td>...</td>\n",
              "      <td>...</td>\n",
              "      <td>...</td>\n",
              "      <td>...</td>\n",
              "    </tr>\n",
              "    <tr>\n",
              "      <th>54803</th>\n",
              "      <td>3030</td>\n",
              "      <td>Technology</td>\n",
              "      <td>region_14</td>\n",
              "      <td>Bachelor's</td>\n",
              "      <td>m</td>\n",
              "      <td>sourcing</td>\n",
              "      <td>1</td>\n",
              "      <td>48</td>\n",
              "      <td>3.0</td>\n",
              "      <td>17</td>\n",
              "      <td>0</td>\n",
              "      <td>78.0</td>\n",
              "      <td>0</td>\n",
              "    </tr>\n",
              "    <tr>\n",
              "      <th>54804</th>\n",
              "      <td>74592</td>\n",
              "      <td>Operations</td>\n",
              "      <td>region_27</td>\n",
              "      <td>Master's &amp; above</td>\n",
              "      <td>f</td>\n",
              "      <td>other</td>\n",
              "      <td>1</td>\n",
              "      <td>37</td>\n",
              "      <td>2.0</td>\n",
              "      <td>6</td>\n",
              "      <td>0</td>\n",
              "      <td>56.0</td>\n",
              "      <td>0</td>\n",
              "    </tr>\n",
              "    <tr>\n",
              "      <th>54805</th>\n",
              "      <td>13918</td>\n",
              "      <td>Analytics</td>\n",
              "      <td>region_1</td>\n",
              "      <td>Bachelor's</td>\n",
              "      <td>m</td>\n",
              "      <td>other</td>\n",
              "      <td>1</td>\n",
              "      <td>27</td>\n",
              "      <td>5.0</td>\n",
              "      <td>3</td>\n",
              "      <td>0</td>\n",
              "      <td>79.0</td>\n",
              "      <td>0</td>\n",
              "    </tr>\n",
              "    <tr>\n",
              "      <th>54806</th>\n",
              "      <td>13614</td>\n",
              "      <td>Sales &amp; Marketing</td>\n",
              "      <td>region_9</td>\n",
              "      <td>NaN</td>\n",
              "      <td>m</td>\n",
              "      <td>sourcing</td>\n",
              "      <td>1</td>\n",
              "      <td>29</td>\n",
              "      <td>1.0</td>\n",
              "      <td>2</td>\n",
              "      <td>0</td>\n",
              "      <td>NaN</td>\n",
              "      <td>0</td>\n",
              "    </tr>\n",
              "    <tr>\n",
              "      <th>54807</th>\n",
              "      <td>51526</td>\n",
              "      <td>HR</td>\n",
              "      <td>region_22</td>\n",
              "      <td>Bachelor's</td>\n",
              "      <td>m</td>\n",
              "      <td>other</td>\n",
              "      <td>1</td>\n",
              "      <td>27</td>\n",
              "      <td>1.0</td>\n",
              "      <td>5</td>\n",
              "      <td>0</td>\n",
              "      <td>49.0</td>\n",
              "      <td>0</td>\n",
              "    </tr>\n",
              "  </tbody>\n",
              "</table>\n",
              "<p>54808 rows × 13 columns</p>\n",
              "</div>\n",
              "      <button class=\"colab-df-convert\" onclick=\"convertToInteractive('df-eaf3e2ae-2520-44b3-8460-52b2c38c9c7d')\"\n",
              "              title=\"Convert this dataframe to an interactive table.\"\n",
              "              style=\"display:none;\">\n",
              "        \n",
              "  <svg xmlns=\"http://www.w3.org/2000/svg\" height=\"24px\"viewBox=\"0 0 24 24\"\n",
              "       width=\"24px\">\n",
              "    <path d=\"M0 0h24v24H0V0z\" fill=\"none\"/>\n",
              "    <path d=\"M18.56 5.44l.94 2.06.94-2.06 2.06-.94-2.06-.94-.94-2.06-.94 2.06-2.06.94zm-11 1L8.5 8.5l.94-2.06 2.06-.94-2.06-.94L8.5 2.5l-.94 2.06-2.06.94zm10 10l.94 2.06.94-2.06 2.06-.94-2.06-.94-.94-2.06-.94 2.06-2.06.94z\"/><path d=\"M17.41 7.96l-1.37-1.37c-.4-.4-.92-.59-1.43-.59-.52 0-1.04.2-1.43.59L10.3 9.45l-7.72 7.72c-.78.78-.78 2.05 0 2.83L4 21.41c.39.39.9.59 1.41.59.51 0 1.02-.2 1.41-.59l7.78-7.78 2.81-2.81c.8-.78.8-2.07 0-2.86zM5.41 20L4 18.59l7.72-7.72 1.47 1.35L5.41 20z\"/>\n",
              "  </svg>\n",
              "      </button>\n",
              "      \n",
              "  <style>\n",
              "    .colab-df-container {\n",
              "      display:flex;\n",
              "      flex-wrap:wrap;\n",
              "      gap: 12px;\n",
              "    }\n",
              "\n",
              "    .colab-df-convert {\n",
              "      background-color: #E8F0FE;\n",
              "      border: none;\n",
              "      border-radius: 50%;\n",
              "      cursor: pointer;\n",
              "      display: none;\n",
              "      fill: #1967D2;\n",
              "      height: 32px;\n",
              "      padding: 0 0 0 0;\n",
              "      width: 32px;\n",
              "    }\n",
              "\n",
              "    .colab-df-convert:hover {\n",
              "      background-color: #E2EBFA;\n",
              "      box-shadow: 0px 1px 2px rgba(60, 64, 67, 0.3), 0px 1px 3px 1px rgba(60, 64, 67, 0.15);\n",
              "      fill: #174EA6;\n",
              "    }\n",
              "\n",
              "    [theme=dark] .colab-df-convert {\n",
              "      background-color: #3B4455;\n",
              "      fill: #D2E3FC;\n",
              "    }\n",
              "\n",
              "    [theme=dark] .colab-df-convert:hover {\n",
              "      background-color: #434B5C;\n",
              "      box-shadow: 0px 1px 3px 1px rgba(0, 0, 0, 0.15);\n",
              "      filter: drop-shadow(0px 1px 2px rgba(0, 0, 0, 0.3));\n",
              "      fill: #FFFFFF;\n",
              "    }\n",
              "  </style>\n",
              "\n",
              "      <script>\n",
              "        const buttonEl =\n",
              "          document.querySelector('#df-eaf3e2ae-2520-44b3-8460-52b2c38c9c7d button.colab-df-convert');\n",
              "        buttonEl.style.display =\n",
              "          google.colab.kernel.accessAllowed ? 'block' : 'none';\n",
              "\n",
              "        async function convertToInteractive(key) {\n",
              "          const element = document.querySelector('#df-eaf3e2ae-2520-44b3-8460-52b2c38c9c7d');\n",
              "          const dataTable =\n",
              "            await google.colab.kernel.invokeFunction('convertToInteractive',\n",
              "                                                     [key], {});\n",
              "          if (!dataTable) return;\n",
              "\n",
              "          const docLinkHtml = 'Like what you see? Visit the ' +\n",
              "            '<a target=\"_blank\" href=https://colab.research.google.com/notebooks/data_table.ipynb>data table notebook</a>'\n",
              "            + ' to learn more about interactive tables.';\n",
              "          element.innerHTML = '';\n",
              "          dataTable['output_type'] = 'display_data';\n",
              "          await google.colab.output.renderOutput(dataTable, element);\n",
              "          const docLink = document.createElement('div');\n",
              "          docLink.innerHTML = docLinkHtml;\n",
              "          element.appendChild(docLink);\n",
              "        }\n",
              "      </script>\n",
              "    </div>\n",
              "  </div>\n",
              "  "
            ]
          },
          "metadata": {},
          "execution_count": 84
        }
      ],
      "source": [
        "df"
      ]
    },
    {
      "cell_type": "code",
      "execution_count": null,
      "metadata": {
        "colab": {
          "base_uri": "https://localhost:8080/",
          "height": 564
        },
        "id": "VZRsmSWx1BbD",
        "outputId": "486dfadd-2e15-4e32-aeb6-c0dc13d7521a"
      },
      "outputs": [
        {
          "output_type": "display_data",
          "data": {
            "text/plain": [
              "<Figure size 1000x600 with 1 Axes>"
            ],
            "image/png": "[encoded data removed]"
          },
          "metadata": {}
        }
      ],
      "source": [
        "import matplotlib.pyplot as plt\n",
        "import seaborn as sns\n",
        "\n",
        "# Create a bar chart or countplot for Age vs. is_promoted\n",
        "plt.figure(figsize=(10, 6))\n",
        "sns.countplot(x='age', hue='is_promoted', data=df)\n",
        "\n",
        "# Add labels and title\n",
        "plt.xlabel('Age')\n",
        "plt.ylabel('Count')\n",
        "plt.title('Promotion Status by Age')\n",
        "\n",
        "# Show the plot\n",
        "plt.legend(title='Promotion Status', loc='upper right')\n",
        "plt.show()\n"
      ]
    },
    {
      "cell_type": "code",
      "execution_count": null,
      "metadata": {
        "colab": {
          "base_uri": "https://localhost:8080/",
          "height": 564
        },
        "id": "W3X2oe411pLh",
        "outputId": "d4cc7940-bd48-46aa-9a61-0cbc959d885f"
      },
      "outputs": [
        {
          "output_type": "display_data",
          "data": {
            "text/plain": [
              "<Figure size 600x600 with 1 Axes>"
            ],
            "image/png": "[encoded data removed]"
          },
          "metadata": {}
        }
      ],
      "source": [
        "import matplotlib.pyplot as plt\n",
        "import seaborn as sns\n",
        "\n",
        "# Create a bar chart or countplot for Gender vs. is_promoted\n",
        "plt.figure(figsize=(6, 6))\n",
        "sns.countplot(x='gender', hue='is_promoted', data=df)\n",
        "\n",
        "# Add labels and title\n",
        "plt.xlabel('Gender')\n",
        "plt.ylabel('Count')\n",
        "plt.title('Promotion Status by Gender')\n",
        "\n",
        "# Show the plot\n",
        "plt.legend(title='Promotion Status', loc='upper right')\n",
        "plt.show()\n"
      ]
    },
    {
      "cell_type": "code",
      "execution_count": null,
      "metadata": {
        "colab": {
          "base_uri": "https://localhost:8080/",
          "height": 598
        },
        "id": "ZtRH8-WP0c_3",
        "outputId": "a574de28-2179-4ee3-fbb4-7b25e27d3f45"
      },
      "outputs": [
        {
          "output_type": "stream",
          "name": "stderr",
          "text": [
            "<ipython-input-87-9c9c702335ce>:20: UserWarning: FixedFormatter should only be used together with FixedLocator\n",
            "  ax.set_yticklabels([f'{int(x)}' for x in ax.get_yticks()])\n"
          ]
        },
        {
          "output_type": "display_data",
          "data": {
            "text/plain": [
              "<Figure size 800x600 with 1 Axes>"
            ],
            "image/png": "[encoded data removed]"
          },
          "metadata": {}
        }
      ],
      "source": [
        "import matplotlib.pyplot as plt\n",
        "import seaborn as sns\n",
        "\n",
        "# Count the values of is_promoted\n",
        "promoted_counts = df['is_promoted'].value_counts()\n",
        "\n",
        "# Create a bar chart or countplot\n",
        "plt.figure(figsize=(8, 6))\n",
        "ax = sns.countplot(x='is_promoted',hue='is_promoted', data=df)\n",
        "\n",
        "# Add labels and title\n",
        "plt.xlabel('Promotion Status')\n",
        "plt.ylabel('Count')\n",
        "plt.title('Count of Promotions')\n",
        "\n",
        "\n",
        "\n",
        "# Customize y-axis label with count values\n",
        "ax.set_ylim(0, max(promoted_counts) * 1.1)\n",
        "ax.set_yticklabels([f'{int(x)}' for x in ax.get_yticks()])\n",
        "plt.legend(title='Promotion Status', loc='upper right')\n",
        "# Show the plot\n",
        "plt.show()\n",
        "\n"
      ]
    },
    {
      "cell_type": "markdown",
      "metadata": {
        "id": "bLoIB0K8Uxk7"
      },
      "source": [
        "Lets first create some new feature which will help us to predict the promotion."
      ]
    },
    {
      "cell_type": "markdown",
      "metadata": {
        "id": "fOFXYz7Cb3Lv"
      },
      "source": [
        "training score per year to know the progress of the employee year by year"
      ]
    },
    {
      "cell_type": "code",
      "execution_count": null,
      "metadata": {
        "id": "YqLWsb8mVWzg"
      },
      "outputs": [],
      "source": [
        "\n",
        "df['training_score_per_year'] = df['avg_training_score'] / df['length_of_service']\n"
      ]
    },
    {
      "cell_type": "code",
      "execution_count": null,
      "metadata": {
        "colab": {
          "base_uri": "https://localhost:8080/",
          "height": 564
        },
        "id": "3zJTBAki2vnl",
        "outputId": "c7ed54a9-d8c7-4807-cf80-11d3fb2565a2"
      },
      "outputs": [
        {
          "output_type": "display_data",
          "data": {
            "text/plain": [
              "<Figure size 1000x600 with 1 Axes>"
            ],
            "image/png": "[encoded data removed]"
          },
          "metadata": {}
        }
      ],
      "source": [
        "import matplotlib.pyplot as plt\n",
        "import seaborn as sns\n",
        "\n",
        "# Create a violin plot\n",
        "plt.figure(figsize=(10, 6))\n",
        "sns.violinplot(data=df, x='gender', y='training_score_per_year')\n",
        "\n",
        "\n",
        "plt.xlabel('Gender')\n",
        "plt.ylabel('Training Score per Year')\n",
        "plt.title('Distribution of Training Score per Year by Gender')\n",
        "\n",
        "# Show the plot\n",
        "plt.show()\n"
      ]
    },
    {
      "cell_type": "markdown",
      "metadata": {
        "id": "7JYAJEE0bsfl"
      },
      "source": [
        "Experience level: Categorize employees based on their length of service."
      ]
    },
    {
      "cell_type": "code",
      "execution_count": null,
      "metadata": {
        "id": "FnZkWHrjWQJz"
      },
      "outputs": [],
      "source": [
        "\n",
        "df['experience_level'] = pd.cut(df['length_of_service'], bins=[0, 5, 15, 20, 30, float('inf')],\n",
        "                                  labels=['Junior', 'Mid-Level', 'Senior', 'Expert', 'Veteran'])\n"
      ]
    },
    {
      "cell_type": "code",
      "execution_count": null,
      "metadata": {
        "colab": {
          "base_uri": "https://localhost:8080/",
          "height": 607
        },
        "id": "XCKMN3YZ4uIX",
        "outputId": "e7f6404c-20f6-448a-99f7-114e954162f6"
      },
      "outputs": [
        {
          "output_type": "display_data",
          "data": {
            "text/plain": [
              "<Figure size 1000x600 with 1 Axes>"
            ],
            "image/png": "[encoded data removed]"
          },
          "metadata": {}
        }
      ],
      "source": [
        "import matplotlib.pyplot as plt\n",
        "import seaborn as sns\n",
        "\n",
        "plt.figure(figsize=(10, 6))\n",
        "sns.countplot(data=df, x='experience_level')\n",
        "\n",
        "plt.xlabel('Experience Level')\n",
        "plt.ylabel('Count')\n",
        "plt.title('Distribution of Experience Levels')\n",
        "plt.xticks(rotation=45)\n",
        "plt.show()\n"
      ]
    },
    {
      "cell_type": "code",
      "execution_count": null,
      "metadata": {
        "colab": {
          "base_uri": "https://localhost:8080/"
        },
        "id": "Miicq_73W9Cs",
        "outputId": "a5ec6663-bc1b-4b90-837b-bf2bdc24812b"
      },
      "outputs": [
        {
          "output_type": "execute_result",
          "data": {
            "text/plain": [
              "Junior       30932\n",
              "Mid-Level    21529\n",
              "Senior        1829\n",
              "Expert         474\n",
              "Veteran         44\n",
              "Name: experience_level, dtype: int64"
            ]
          },
          "metadata": {},
          "execution_count": 92
        }
      ],
      "source": [
        "df['experience_level'].value_counts()"
      ]
    },
    {
      "cell_type": "markdown",
      "metadata": {
        "id": "DrG42jJAbjfS"
      },
      "source": [
        "Education level encoded: Label  Encodeing of  the education level using numerical values to prioritize their values."
      ]
    },
    {
      "cell_type": "code",
      "execution_count": null,
      "metadata": {
        "colab": {
          "base_uri": "https://localhost:8080/"
        },
        "id": "Tn7_6B4nQQ-y",
        "outputId": "7aee3646-0111-473e-a41f-7e42682e9932"
      },
      "outputs": [
        {
          "output_type": "execute_result",
          "data": {
            "text/plain": [
              "Bachelor's          36669\n",
              "Master's & above    14925\n",
              "Below Secondary       805\n",
              "Name: education, dtype: int64"
            ]
          },
          "metadata": {},
          "execution_count": 93
        }
      ],
      "source": [
        "df['education'].value_counts()"
      ]
    },
    {
      "cell_type": "code",
      "execution_count": null,
      "metadata": {
        "id": "yJLwnpK2YET9"
      },
      "outputs": [],
      "source": [
        "\n",
        "education_mapping = {'Below Secondary': 0, \"Bachelor's\": 1, \"Master's & above\": 2}\n",
        "df['education_encoded'] = df['education'].map(education_mapping)\n"
      ]
    },
    {
      "cell_type": "code",
      "execution_count": null,
      "metadata": {
        "colab": {
          "base_uri": "https://localhost:8080/"
        },
        "id": "IdBFTwixYsy0",
        "outputId": "646749be-ade2-458b-e7e9-e64c735886b4"
      },
      "outputs": [
        {
          "output_type": "execute_result",
          "data": {
            "text/plain": [
              "1.0    36669\n",
              "2.0    14925\n",
              "0.0      805\n",
              "Name: education_encoded, dtype: int64"
            ]
          },
          "metadata": {},
          "execution_count": 95
        }
      ],
      "source": [
        "df['education_encoded'].value_counts()"
      ]
    },
    {
      "cell_type": "code",
      "execution_count": null,
      "metadata": {
        "colab": {
          "base_uri": "https://localhost:8080/",
          "height": 564
        },
        "id": "Fo1EM8ec5WIK",
        "outputId": "2c195ca2-e6f8-4b70-cd3e-d1fabb776790"
      },
      "outputs": [
        {
          "output_type": "display_data",
          "data": {
            "text/plain": [
              "<Figure size 1000x600 with 1 Axes>"
            ],
            "image/png": "[encoded data removed]"
          },
          "metadata": {}
        }
      ],
      "source": [
        "import matplotlib.pyplot as plt\n",
        "import seaborn as sns\n",
        "\n",
        "# Create a histogram\n",
        "plt.figure(figsize=(10, 6))\n",
        "sns.histplot(data=df, x='education_encoded', hue='education', bins=10, multiple='stack', edgecolor='black')\n",
        "\n",
        "# Add labels and title\n",
        "plt.xlabel('Encoded Education')\n",
        "plt.ylabel('Count')\n",
        "plt.title('Histogram of Encoded Education ')\n",
        "\n",
        "# Show the plot\n",
        "plt.show()\n",
        "\n"
      ]
    },
    {
      "cell_type": "markdown",
      "metadata": {
        "id": "bVYSmcNfbZ6g"
      },
      "source": [
        "Training score category: Categorize employees based on their average training score"
      ]
    },
    {
      "cell_type": "markdown",
      "metadata": {
        "id": "jh43L8ZKdSbD"
      },
      "source": [
        "Gender-education interaction: Create an interaction feature between gender and education."
      ]
    },
    {
      "cell_type": "code",
      "execution_count": null,
      "metadata": {
        "id": "A1tBiFplc_Iy"
      },
      "outputs": [],
      "source": [
        "df['gender_education_interaction'] = df['gender'] + '_' + df['education']"
      ]
    },
    {
      "cell_type": "code",
      "execution_count": null,
      "metadata": {
        "colab": {
          "base_uri": "https://localhost:8080/"
        },
        "id": "QjJEkhtLdZWi",
        "outputId": "39fcfe89-6540-4343-cdca-bfb7bb555748"
      },
      "outputs": [
        {
          "output_type": "execute_result",
          "data": {
            "text/plain": [
              "m_Bachelor's          25815\n",
              "f_Bachelor's          10854\n",
              "m_Master's & above    10147\n",
              "f_Master's & above     4778\n",
              "m_Below Secondary       516\n",
              "f_Below Secondary       289\n",
              "Name: gender_education_interaction, dtype: int64"
            ]
          },
          "metadata": {},
          "execution_count": 98
        }
      ],
      "source": [
        "df['gender_education_interaction'].value_counts()"
      ]
    },
    {
      "cell_type": "code",
      "execution_count": null,
      "metadata": {
        "colab": {
          "base_uri": "https://localhost:8080/",
          "height": 660
        },
        "id": "NeUMvwErRci8",
        "outputId": "3ae98f36-f439-4704-a201-341cf53a817a"
      },
      "outputs": [
        {
          "output_type": "display_data",
          "data": {
            "text/plain": [
              "<Figure size 1000x600 with 1 Axes>"
            ],
            "image/png": "[encoded data removed]"
          },
          "metadata": {}
        }
      ],
      "source": [
        "import matplotlib.pyplot as plt\n",
        "\n",
        "# Given frequency counts\n",
        "education_interaction = ['m_Bachelor\\'s', 'f_Bachelor\\'s', 'm_Master\\'s & above', 'f_Master\\'s & above', 'm_Below Secondary', 'f_Below Secondary']\n",
        "counts = [25815, 10854, 10147, 4778, 516, 289]\n",
        "\n",
        "# Create a histogram plot\n",
        "plt.figure(figsize=(10, 6))\n",
        "plt.bar(education_interaction, counts)\n",
        "\n",
        "# Add labels and title\n",
        "plt.xlabel('Gender Education Interaction')\n",
        "plt.ylabel('Frequency Count')\n",
        "plt.title('Histogram of Gender Education Interaction')\n",
        "plt.xticks(rotation=45)\n",
        "# Show the plot\n",
        "plt.show()\n",
        "\n"
      ]
    },
    {
      "cell_type": "markdown",
      "metadata": {
        "id": "Xr1gtQAhen6w"
      },
      "source": [
        "Create a interaction feature gender_experience_interaction"
      ]
    },
    {
      "cell_type": "code",
      "execution_count": null,
      "metadata": {
        "id": "osHUxl0adj26"
      },
      "outputs": [],
      "source": [
        "df['gender_experience_interaction'] = df['gender'] + '_' + df['experience_level'].astype(str)"
      ]
    },
    {
      "cell_type": "code",
      "execution_count": null,
      "metadata": {
        "colab": {
          "base_uri": "https://localhost:8080/"
        },
        "id": "XY571EwTe4DR",
        "outputId": "734def86-4f4b-43e8-aa0b-164eccbfbd1d"
      },
      "outputs": [
        {
          "output_type": "execute_result",
          "data": {
            "text/plain": [
              "m_Junior       21980\n",
              "m_Mid-Level    14880\n",
              "f_Junior        8952\n",
              "f_Mid-Level     6649\n",
              "m_Senior        1298\n",
              "f_Senior         531\n",
              "m_Expert         312\n",
              "f_Expert         162\n",
              "m_Veteran         26\n",
              "f_Veteran         18\n",
              "Name: gender_experience_interaction, dtype: int64"
            ]
          },
          "metadata": {},
          "execution_count": 101
        }
      ],
      "source": [
        "df['gender_experience_interaction'].value_counts()"
      ]
    },
    {
      "cell_type": "code",
      "execution_count": null,
      "metadata": {
        "colab": {
          "base_uri": "https://localhost:8080/",
          "height": 621
        },
        "id": "bjHp3EgCTIf-",
        "outputId": "987877b7-5c26-4b79-ff65-ede1a4136a38"
      },
      "outputs": [
        {
          "output_type": "display_data",
          "data": {
            "text/plain": [
              "<Figure size 1000x600 with 1 Axes>"
            ],
            "image/png": "[encoded data removed]"
          },
          "metadata": {}
        }
      ],
      "source": [
        "import matplotlib.pyplot as plt\n",
        "\n",
        "# Given frequency counts\n",
        "experience_interaction = ['m_Junior', 'm_Mid-Level', 'f_Junior', 'f_Mid-Level', 'm_Senior', 'f_Senior', 'm_Expert', 'f_Expert', 'm_Veteran', 'f_Veteran']\n",
        "counts = [21980, 14880, 8952, 6649, 1298, 531, 312, 162, 26, 18]\n",
        "\n",
        "# Create a histogram plot\n",
        "plt.figure(figsize=(10, 6))\n",
        "plt.bar(experience_interaction, counts)\n",
        "\n",
        "# Add labels and title\n",
        "plt.xlabel('Gender Experience Interaction')\n",
        "plt.ylabel('Frequency Count')\n",
        "plt.title('Histogram of Gender Experience Interaction')\n",
        "plt.xticks(rotation=45)\n",
        "# Show the plot\n",
        "plt.show()"
      ]
    },
    {
      "cell_type": "markdown",
      "metadata": {
        "id": "fakqDRjDgIQS"
      },
      "source": [
        " Multiply the previous year rating by the length of service."
      ]
    },
    {
      "cell_type": "code",
      "execution_count": null,
      "metadata": {
        "id": "KPAmb_G0uHPQ"
      },
      "outputs": [],
      "source": [
        "df['rating_mult_service_years'] = df['previous_year_rating'] * df['length_of_service']\n"
      ]
    },
    {
      "cell_type": "markdown",
      "metadata": {
        "id": "qAY-wMZ7usBb"
      },
      "source": [
        " Multiply the average training score by the previous year rating."
      ]
    },
    {
      "cell_type": "code",
      "execution_count": null,
      "metadata": {
        "id": "rNK7pqTIurKP"
      },
      "outputs": [],
      "source": [
        "df['training_score_mult_prev_year_rating'] = df['avg_training_score'] * df['previous_year_rating']\n"
      ]
    },
    {
      "cell_type": "code",
      "execution_count": null,
      "metadata": {
        "colab": {
          "base_uri": "https://localhost:8080/",
          "height": 568
        },
        "id": "sKz_3IRDBj7L",
        "outputId": "da348469-294b-49fa-e2d6-6b50fd85d406"
      },
      "outputs": [
        {
          "output_type": "execute_result",
          "data": {
            "text/plain": [
              "       employee_id         department     region         education gender  \\\n",
              "0            65438  Sales & Marketing   region_7  Master's & above      f   \n",
              "1            65141         Operations  region_22        Bachelor's      m   \n",
              "2             7513  Sales & Marketing  region_19        Bachelor's      m   \n",
              "3             2542  Sales & Marketing  region_23        Bachelor's      m   \n",
              "4            48945         Technology  region_26        Bachelor's      m   \n",
              "...            ...                ...        ...               ...    ...   \n",
              "54803         3030         Technology  region_14        Bachelor's      m   \n",
              "54804        74592         Operations  region_27  Master's & above      f   \n",
              "54805        13918          Analytics   region_1        Bachelor's      m   \n",
              "54806        13614  Sales & Marketing   region_9               NaN      m   \n",
              "54807        51526                 HR  region_22        Bachelor's      m   \n",
              "\n",
              "      recruitment_channel  no_of_trainings  age  previous_year_rating  \\\n",
              "0                sourcing                1   35                   5.0   \n",
              "1                   other                1   30                   5.0   \n",
              "2                sourcing                1   34                   3.0   \n",
              "3                   other                2   39                   1.0   \n",
              "4                   other                1   45                   3.0   \n",
              "...                   ...              ...  ...                   ...   \n",
              "54803            sourcing                1   48                   3.0   \n",
              "54804               other                1   37                   2.0   \n",
              "54805               other                1   27                   5.0   \n",
              "54806            sourcing                1   29                   1.0   \n",
              "54807               other                1   27                   1.0   \n",
              "\n",
              "       length_of_service  awards_won  avg_training_score  is_promoted  \\\n",
              "0                      8           0                49.0            0   \n",
              "1                      4           0                60.0            0   \n",
              "2                      7           0                50.0            0   \n",
              "3                     10           0                50.0            0   \n",
              "4                      2           0                73.0            0   \n",
              "...                  ...         ...                 ...          ...   \n",
              "54803                 17           0                78.0            0   \n",
              "54804                  6           0                56.0            0   \n",
              "54805                  3           0                79.0            0   \n",
              "54806                  2           0                 NaN            0   \n",
              "54807                  5           0                49.0            0   \n",
              "\n",
              "       training_score_per_year experience_level  education_encoded  \\\n",
              "0                     6.125000        Mid-Level                2.0   \n",
              "1                    15.000000           Junior                1.0   \n",
              "2                     7.142857        Mid-Level                1.0   \n",
              "3                     5.000000        Mid-Level                1.0   \n",
              "4                    36.500000           Junior                1.0   \n",
              "...                        ...              ...                ...   \n",
              "54803                 4.588235           Senior                1.0   \n",
              "54804                 9.333333        Mid-Level                2.0   \n",
              "54805                26.333333           Junior                1.0   \n",
              "54806                      NaN           Junior                NaN   \n",
              "54807                 9.800000           Junior                1.0   \n",
              "\n",
              "      gender_education_interaction gender_experience_interaction  \\\n",
              "0               f_Master's & above                   f_Mid-Level   \n",
              "1                     m_Bachelor's                      m_Junior   \n",
              "2                     m_Bachelor's                   m_Mid-Level   \n",
              "3                     m_Bachelor's                   m_Mid-Level   \n",
              "4                     m_Bachelor's                      m_Junior   \n",
              "...                            ...                           ...   \n",
              "54803                 m_Bachelor's                      m_Senior   \n",
              "54804           f_Master's & above                   f_Mid-Level   \n",
              "54805                 m_Bachelor's                      m_Junior   \n",
              "54806                          NaN                      m_Junior   \n",
              "54807                 m_Bachelor's                      m_Junior   \n",
              "\n",
              "       rating_mult_service_years  training_score_mult_prev_year_rating  \n",
              "0                           40.0                                 245.0  \n",
              "1                           20.0                                 300.0  \n",
              "2                           21.0                                 150.0  \n",
              "3                           10.0                                  50.0  \n",
              "4                            6.0                                 219.0  \n",
              "...                          ...                                   ...  \n",
              "54803                       51.0                                 234.0  \n",
              "54804                       12.0                                 112.0  \n",
              "54805                       15.0                                 395.0  \n",
              "54806                        2.0                                   NaN  \n",
              "54807                        5.0                                  49.0  \n",
              "\n",
              "[54808 rows x 20 columns]"
            ],
            "text/html": [
              "\n",
              "  <div id=\"df-b8a4cf42-6641-4531-ad91-7840864ba21f\">\n",
              "    <div class=\"colab-df-container\">\n",
              "      <div>\n",
              "<style scoped>\n",
              "    .dataframe tbody tr th:only-of-type {\n",
              "        vertical-align: middle;\n",
              "    }\n",
              "\n",
              "    .dataframe tbody tr th {\n",
              "        vertical-align: top;\n",
              "    }\n",
              "\n",
              "    .dataframe thead th {\n",
              "        text-align: right;\n",
              "    }\n",
              "</style>\n",
              "<table border=\"1\" class=\"dataframe\">\n",
              "  <thead>\n",
              "    <tr style=\"text-align: right;\">\n",
              "      <th></th>\n",
              "      <th>employee_id</th>\n",
              "      <th>department</th>\n",
              "      <th>region</th>\n",
              "      <th>education</th>\n",
              "      <th>gender</th>\n",
              "      <th>recruitment_channel</th>\n",
              "      <th>no_of_trainings</th>\n",
              "      <th>age</th>\n",
              "      <th>previous_year_rating</th>\n",
              "      <th>length_of_service</th>\n",
              "      <th>awards_won</th>\n",
              "      <th>avg_training_score</th>\n",
              "      <th>is_promoted</th>\n",
              "      <th>training_score_per_year</th>\n",
              "      <th>experience_level</th>\n",
              "      <th>education_encoded</th>\n",
              "      <th>gender_education_interaction</th>\n",
              "      <th>gender_experience_interaction</th>\n",
              "      <th>rating_mult_service_years</th>\n",
              "      <th>training_score_mult_prev_year_rating</th>\n",
              "    </tr>\n",
              "  </thead>\n",
              "  <tbody>\n",
              "    <tr>\n",
              "      <th>0</th>\n",
              "      <td>65438</td>\n",
              "      <td>Sales &amp; Marketing</td>\n",
              "      <td>region_7</td>\n",
              "      <td>Master's &amp; above</td>\n",
              "      <td>f</td>\n",
              "      <td>sourcing</td>\n",
              "      <td>1</td>\n",
              "      <td>35</td>\n",
              "      <td>5.0</td>\n",
              "      <td>8</td>\n",
              "      <td>0</td>\n",
              "      <td>49.0</td>\n",
              "      <td>0</td>\n",
              "      <td>6.125000</td>\n",
              "      <td>Mid-Level</td>\n",
              "      <td>2.0</td>\n",
              "      <td>f_Master's &amp; above</td>\n",
              "      <td>f_Mid-Level</td>\n",
              "      <td>40.0</td>\n",
              "      <td>245.0</td>\n",
              "    </tr>\n",
              "    <tr>\n",
              "      <th>1</th>\n",
              "      <td>65141</td>\n",
              "      <td>Operations</td>\n",
              "      <td>region_22</td>\n",
              "      <td>Bachelor's</td>\n",
              "      <td>m</td>\n",
              "      <td>other</td>\n",
              "      <td>1</td>\n",
              "      <td>30</td>\n",
              "      <td>5.0</td>\n",
              "      <td>4</td>\n",
              "      <td>0</td>\n",
              "      <td>60.0</td>\n",
              "      <td>0</td>\n",
              "      <td>15.000000</td>\n",
              "      <td>Junior</td>\n",
              "      <td>1.0</td>\n",
              "      <td>m_Bachelor's</td>\n",
              "      <td>m_Junior</td>\n",
              "      <td>20.0</td>\n",
              "      <td>300.0</td>\n",
              "    </tr>\n",
              "    <tr>\n",
              "      <th>2</th>\n",
              "      <td>7513</td>\n",
              "      <td>Sales &amp; Marketing</td>\n",
              "      <td>region_19</td>\n",
              "      <td>Bachelor's</td>\n",
              "      <td>m</td>\n",
              "      <td>sourcing</td>\n",
              "      <td>1</td>\n",
              "      <td>34</td>\n",
              "      <td>3.0</td>\n",
              "      <td>7</td>\n",
              "      <td>0</td>\n",
              "      <td>50.0</td>\n",
              "      <td>0</td>\n",
              "      <td>7.142857</td>\n",
              "      <td>Mid-Level</td>\n",
              "      <td>1.0</td>\n",
              "      <td>m_Bachelor's</td>\n",
              "      <td>m_Mid-Level</td>\n",
              "      <td>21.0</td>\n",
              "      <td>150.0</td>\n",
              "    </tr>\n",
              "    <tr>\n",
              "      <th>3</th>\n",
              "      <td>2542</td>\n",
              "      <td>Sales &amp; Marketing</td>\n",
              "      <td>region_23</td>\n",
              "      <td>Bachelor's</td>\n",
              "      <td>m</td>\n",
              "      <td>other</td>\n",
              "      <td>2</td>\n",
              "      <td>39</td>\n",
              "      <td>1.0</td>\n",
              "      <td>10</td>\n",
              "      <td>0</td>\n",
              "      <td>50.0</td>\n",
              "      <td>0</td>\n",
              "      <td>5.000000</td>\n",
              "      <td>Mid-Level</td>\n",
              "      <td>1.0</td>\n",
              "      <td>m_Bachelor's</td>\n",
              "      <td>m_Mid-Level</td>\n",
              "      <td>10.0</td>\n",
              "      <td>50.0</td>\n",
              "    </tr>\n",
              "    <tr>\n",
              "      <th>4</th>\n",
              "      <td>48945</td>\n",
              "      <td>Technology</td>\n",
              "      <td>region_26</td>\n",
              "      <td>Bachelor's</td>\n",
              "      <td>m</td>\n",
              "      <td>other</td>\n",
              "      <td>1</td>\n",
              "      <td>45</td>\n",
              "      <td>3.0</td>\n",
              "      <td>2</td>\n",
              "      <td>0</td>\n",
              "      <td>73.0</td>\n",
              "      <td>0</td>\n",
              "      <td>36.500000</td>\n",
              "      <td>Junior</td>\n",
              "      <td>1.0</td>\n",
              "      <td>m_Bachelor's</td>\n",
              "      <td>m_Junior</td>\n",
              "      <td>6.0</td>\n",
              "      <td>219.0</td>\n",
              "    </tr>\n",
              "    <tr>\n",
              "      <th>...</th>\n",
              "      <td>...</td>\n",
              "      <td>...</td>\n",
              "      <td>...</td>\n",
              "      <td>...</td>\n",
              "      <td>...</td>\n",
              "      <td>...</td>\n",
              "      <td>...</td>\n",
              "      <td>...</td>\n",
              "      <td>...</td>\n",
              "      <td>...</td>\n",
              "      <td>...</td>\n",
              "      <td>...</td>\n",
              "      <td>...</td>\n",
              "      <td>...</td>\n",
              "      <td>...</td>\n",
              "      <td>...</td>\n",
              "      <td>...</td>\n",
              "      <td>...</td>\n",
              "      <td>...</td>\n",
              "      <td>...</td>\n",
              "    </tr>\n",
              "    <tr>\n",
              "      <th>54803</th>\n",
              "      <td>3030</td>\n",
              "      <td>Technology</td>\n",
              "      <td>region_14</td>\n",
              "      <td>Bachelor's</td>\n",
              "      <td>m</td>\n",
              "      <td>sourcing</td>\n",
              "      <td>1</td>\n",
              "      <td>48</td>\n",
              "      <td>3.0</td>\n",
              "      <td>17</td>\n",
              "      <td>0</td>\n",
              "      <td>78.0</td>\n",
              "      <td>0</td>\n",
              "      <td>4.588235</td>\n",
              "      <td>Senior</td>\n",
              "      <td>1.0</td>\n",
              "      <td>m_Bachelor's</td>\n",
              "      <td>m_Senior</td>\n",
              "      <td>51.0</td>\n",
              "      <td>234.0</td>\n",
              "    </tr>\n",
              "    <tr>\n",
              "      <th>54804</th>\n",
              "      <td>74592</td>\n",
              "      <td>Operations</td>\n",
              "      <td>region_27</td>\n",
              "      <td>Master's &amp; above</td>\n",
              "      <td>f</td>\n",
              "      <td>other</td>\n",
              "      <td>1</td>\n",
              "      <td>37</td>\n",
              "      <td>2.0</td>\n",
              "      <td>6</td>\n",
              "      <td>0</td>\n",
              "      <td>56.0</td>\n",
              "      <td>0</td>\n",
              "      <td>9.333333</td>\n",
              "      <td>Mid-Level</td>\n",
              "      <td>2.0</td>\n",
              "      <td>f_Master's &amp; above</td>\n",
              "      <td>f_Mid-Level</td>\n",
              "      <td>12.0</td>\n",
              "      <td>112.0</td>\n",
              "    </tr>\n",
              "    <tr>\n",
              "      <th>54805</th>\n",
              "      <td>13918</td>\n",
              "      <td>Analytics</td>\n",
              "      <td>region_1</td>\n",
              "      <td>Bachelor's</td>\n",
              "      <td>m</td>\n",
              "      <td>other</td>\n",
              "      <td>1</td>\n",
              "      <td>27</td>\n",
              "      <td>5.0</td>\n",
              "      <td>3</td>\n",
              "      <td>0</td>\n",
              "      <td>79.0</td>\n",
              "      <td>0</td>\n",
              "      <td>26.333333</td>\n",
              "      <td>Junior</td>\n",
              "      <td>1.0</td>\n",
              "      <td>m_Bachelor's</td>\n",
              "      <td>m_Junior</td>\n",
              "      <td>15.0</td>\n",
              "      <td>395.0</td>\n",
              "    </tr>\n",
              "    <tr>\n",
              "      <th>54806</th>\n",
              "      <td>13614</td>\n",
              "      <td>Sales &amp; Marketing</td>\n",
              "      <td>region_9</td>\n",
              "      <td>NaN</td>\n",
              "      <td>m</td>\n",
              "      <td>sourcing</td>\n",
              "      <td>1</td>\n",
              "      <td>29</td>\n",
              "      <td>1.0</td>\n",
              "      <td>2</td>\n",
              "      <td>0</td>\n",
              "      <td>NaN</td>\n",
              "      <td>0</td>\n",
              "      <td>NaN</td>\n",
              "      <td>Junior</td>\n",
              "      <td>NaN</td>\n",
              "      <td>NaN</td>\n",
              "      <td>m_Junior</td>\n",
              "      <td>2.0</td>\n",
              "      <td>NaN</td>\n",
              "    </tr>\n",
              "    <tr>\n",
              "      <th>54807</th>\n",
              "      <td>51526</td>\n",
              "      <td>HR</td>\n",
              "      <td>region_22</td>\n",
              "      <td>Bachelor's</td>\n",
              "      <td>m</td>\n",
              "      <td>other</td>\n",
              "      <td>1</td>\n",
              "      <td>27</td>\n",
              "      <td>1.0</td>\n",
              "      <td>5</td>\n",
              "      <td>0</td>\n",
              "      <td>49.0</td>\n",
              "      <td>0</td>\n",
              "      <td>9.800000</td>\n",
              "      <td>Junior</td>\n",
              "      <td>1.0</td>\n",
              "      <td>m_Bachelor's</td>\n",
              "      <td>m_Junior</td>\n",
              "      <td>5.0</td>\n",
              "      <td>49.0</td>\n",
              "    </tr>\n",
              "  </tbody>\n",
              "</table>\n",
              "<p>54808 rows × 20 columns</p>\n",
              "</div>\n",
              "      <button class=\"colab-df-convert\" onclick=\"convertToInteractive('df-b8a4cf42-6641-4531-ad91-7840864ba21f')\"\n",
              "              title=\"Convert this dataframe to an interactive table.\"\n",
              "              style=\"display:none;\">\n",
              "        \n",
              "  <svg xmlns=\"http://www.w3.org/2000/svg\" height=\"24px\"viewBox=\"0 0 24 24\"\n",
              "       width=\"24px\">\n",
              "    <path d=\"M0 0h24v24H0V0z\" fill=\"none\"/>\n",
              "    <path d=\"M18.56 5.44l.94 2.06.94-2.06 2.06-.94-2.06-.94-.94-2.06-.94 2.06-2.06.94zm-11 1L8.5 8.5l.94-2.06 2.06-.94-2.06-.94L8.5 2.5l-.94 2.06-2.06.94zm10 10l.94 2.06.94-2.06 2.06-.94-2.06-.94-.94-2.06-.94 2.06-2.06.94z\"/><path d=\"M17.41 7.96l-1.37-1.37c-.4-.4-.92-.59-1.43-.59-.52 0-1.04.2-1.43.59L10.3 9.45l-7.72 7.72c-.78.78-.78 2.05 0 2.83L4 21.41c.39.39.9.59 1.41.59.51 0 1.02-.2 1.41-.59l7.78-7.78 2.81-2.81c.8-.78.8-2.07 0-2.86zM5.41 20L4 18.59l7.72-7.72 1.47 1.35L5.41 20z\"/>\n",
              "  </svg>\n",
              "      </button>\n",
              "      \n",
              "  <style>\n",
              "    .colab-df-container {\n",
              "      display:flex;\n",
              "      flex-wrap:wrap;\n",
              "      gap: 12px;\n",
              "    }\n",
              "\n",
              "    .colab-df-convert {\n",
              "      background-color: #E8F0FE;\n",
              "      border: none;\n",
              "      border-radius: 50%;\n",
              "      cursor: pointer;\n",
              "      display: none;\n",
              "      fill: #1967D2;\n",
              "      height: 32px;\n",
              "      padding: 0 0 0 0;\n",
              "      width: 32px;\n",
              "    }\n",
              "\n",
              "    .colab-df-convert:hover {\n",
              "      background-color: #E2EBFA;\n",
              "      box-shadow: 0px 1px 2px rgba(60, 64, 67, 0.3), 0px 1px 3px 1px rgba(60, 64, 67, 0.15);\n",
              "      fill: #174EA6;\n",
              "    }\n",
              "\n",
              "    [theme=dark] .colab-df-convert {\n",
              "      background-color: #3B4455;\n",
              "      fill: #D2E3FC;\n",
              "    }\n",
              "\n",
              "    [theme=dark] .colab-df-convert:hover {\n",
              "      background-color: #434B5C;\n",
              "      box-shadow: 0px 1px 3px 1px rgba(0, 0, 0, 0.15);\n",
              "      filter: drop-shadow(0px 1px 2px rgba(0, 0, 0, 0.3));\n",
              "      fill: #FFFFFF;\n",
              "    }\n",
              "  </style>\n",
              "\n",
              "      <script>\n",
              "        const buttonEl =\n",
              "          document.querySelector('#df-b8a4cf42-6641-4531-ad91-7840864ba21f button.colab-df-convert');\n",
              "        buttonEl.style.display =\n",
              "          google.colab.kernel.accessAllowed ? 'block' : 'none';\n",
              "\n",
              "        async function convertToInteractive(key) {\n",
              "          const element = document.querySelector('#df-b8a4cf42-6641-4531-ad91-7840864ba21f');\n",
              "          const dataTable =\n",
              "            await google.colab.kernel.invokeFunction('convertToInteractive',\n",
              "                                                     [key], {});\n",
              "          if (!dataTable) return;\n",
              "\n",
              "          const docLinkHtml = 'Like what you see? Visit the ' +\n",
              "            '<a target=\"_blank\" href=https://colab.research.google.com/notebooks/data_table.ipynb>data table notebook</a>'\n",
              "            + ' to learn more about interactive tables.';\n",
              "          element.innerHTML = '';\n",
              "          dataTable['output_type'] = 'display_data';\n",
              "          await google.colab.output.renderOutput(dataTable, element);\n",
              "          const docLink = document.createElement('div');\n",
              "          docLink.innerHTML = docLinkHtml;\n",
              "          element.appendChild(docLink);\n",
              "        }\n",
              "      </script>\n",
              "    </div>\n",
              "  </div>\n",
              "  "
            ]
          },
          "metadata": {},
          "execution_count": 105
        }
      ],
      "source": [
        "df"
      ]
    },
    {
      "cell_type": "code",
      "execution_count": null,
      "metadata": {
        "id": "zmfKF6HblYnT"
      },
      "outputs": [],
      "source": [
        "df = df.drop([\"employee_id\",\"gender\",\"region\",\"education\",\"experience_level\",\"education_encoded\"], axis =1)"
      ]
    },
    {
      "cell_type": "code",
      "execution_count": null,
      "metadata": {
        "colab": {
          "base_uri": "https://localhost:8080/",
          "height": 551
        },
        "id": "-RhKwfl6xZL8",
        "outputId": "05d9fcf2-b65d-486a-a0f6-20227142ac39"
      },
      "outputs": [
        {
          "output_type": "execute_result",
          "data": {
            "text/plain": [
              "              department recruitment_channel  no_of_trainings  age  \\\n",
              "0      Sales & Marketing            sourcing                1   35   \n",
              "1             Operations               other                1   30   \n",
              "2      Sales & Marketing            sourcing                1   34   \n",
              "3      Sales & Marketing               other                2   39   \n",
              "4             Technology               other                1   45   \n",
              "...                  ...                 ...              ...  ...   \n",
              "54803         Technology            sourcing                1   48   \n",
              "54804         Operations               other                1   37   \n",
              "54805          Analytics               other                1   27   \n",
              "54806  Sales & Marketing            sourcing                1   29   \n",
              "54807                 HR               other                1   27   \n",
              "\n",
              "       previous_year_rating  length_of_service  awards_won  \\\n",
              "0                       5.0                  8           0   \n",
              "1                       5.0                  4           0   \n",
              "2                       3.0                  7           0   \n",
              "3                       1.0                 10           0   \n",
              "4                       3.0                  2           0   \n",
              "...                     ...                ...         ...   \n",
              "54803                   3.0                 17           0   \n",
              "54804                   2.0                  6           0   \n",
              "54805                   5.0                  3           0   \n",
              "54806                   1.0                  2           0   \n",
              "54807                   1.0                  5           0   \n",
              "\n",
              "       avg_training_score  is_promoted  training_score_per_year  \\\n",
              "0                    49.0            0                 6.125000   \n",
              "1                    60.0            0                15.000000   \n",
              "2                    50.0            0                 7.142857   \n",
              "3                    50.0            0                 5.000000   \n",
              "4                    73.0            0                36.500000   \n",
              "...                   ...          ...                      ...   \n",
              "54803                78.0            0                 4.588235   \n",
              "54804                56.0            0                 9.333333   \n",
              "54805                79.0            0                26.333333   \n",
              "54806                 NaN            0                      NaN   \n",
              "54807                49.0            0                 9.800000   \n",
              "\n",
              "      gender_education_interaction gender_experience_interaction  \\\n",
              "0               f_Master's & above                   f_Mid-Level   \n",
              "1                     m_Bachelor's                      m_Junior   \n",
              "2                     m_Bachelor's                   m_Mid-Level   \n",
              "3                     m_Bachelor's                   m_Mid-Level   \n",
              "4                     m_Bachelor's                      m_Junior   \n",
              "...                            ...                           ...   \n",
              "54803                 m_Bachelor's                      m_Senior   \n",
              "54804           f_Master's & above                   f_Mid-Level   \n",
              "54805                 m_Bachelor's                      m_Junior   \n",
              "54806                          NaN                      m_Junior   \n",
              "54807                 m_Bachelor's                      m_Junior   \n",
              "\n",
              "       rating_mult_service_years  training_score_mult_prev_year_rating  \n",
              "0                           40.0                                 245.0  \n",
              "1                           20.0                                 300.0  \n",
              "2                           21.0                                 150.0  \n",
              "3                           10.0                                  50.0  \n",
              "4                            6.0                                 219.0  \n",
              "...                          ...                                   ...  \n",
              "54803                       51.0                                 234.0  \n",
              "54804                       12.0                                 112.0  \n",
              "54805                       15.0                                 395.0  \n",
              "54806                        2.0                                   NaN  \n",
              "54807                        5.0                                  49.0  \n",
              "\n",
              "[54808 rows x 14 columns]"
            ],
            "text/html": [
              "\n",
              "  <div id=\"df-d9b77a09-a098-489f-b3eb-383414bd82ae\">\n",
              "    <div class=\"colab-df-container\">\n",
              "      <div>\n",
              "<style scoped>\n",
              "    .dataframe tbody tr th:only-of-type {\n",
              "        vertical-align: middle;\n",
              "    }\n",
              "\n",
              "    .dataframe tbody tr th {\n",
              "        vertical-align: top;\n",
              "    }\n",
              "\n",
              "    .dataframe thead th {\n",
              "        text-align: right;\n",
              "    }\n",
              "</style>\n",
              "<table border=\"1\" class=\"dataframe\">\n",
              "  <thead>\n",
              "    <tr style=\"text-align: right;\">\n",
              "      <th></th>\n",
              "      <th>department</th>\n",
              "      <th>recruitment_channel</th>\n",
              "      <th>no_of_trainings</th>\n",
              "      <th>age</th>\n",
              "      <th>previous_year_rating</th>\n",
              "      <th>length_of_service</th>\n",
              "      <th>awards_won</th>\n",
              "      <th>avg_training_score</th>\n",
              "      <th>is_promoted</th>\n",
              "      <th>training_score_per_year</th>\n",
              "      <th>gender_education_interaction</th>\n",
              "      <th>gender_experience_interaction</th>\n",
              "      <th>rating_mult_service_years</th>\n",
              "      <th>training_score_mult_prev_year_rating</th>\n",
              "    </tr>\n",
              "  </thead>\n",
              "  <tbody>\n",
              "    <tr>\n",
              "      <th>0</th>\n",
              "      <td>Sales &amp; Marketing</td>\n",
              "      <td>sourcing</td>\n",
              "      <td>1</td>\n",
              "      <td>35</td>\n",
              "      <td>5.0</td>\n",
              "      <td>8</td>\n",
              "      <td>0</td>\n",
              "      <td>49.0</td>\n",
              "      <td>0</td>\n",
              "      <td>6.125000</td>\n",
              "      <td>f_Master's &amp; above</td>\n",
              "      <td>f_Mid-Level</td>\n",
              "      <td>40.0</td>\n",
              "      <td>245.0</td>\n",
              "    </tr>\n",
              "    <tr>\n",
              "      <th>1</th>\n",
              "      <td>Operations</td>\n",
              "      <td>other</td>\n",
              "      <td>1</td>\n",
              "      <td>30</td>\n",
              "      <td>5.0</td>\n",
              "      <td>4</td>\n",
              "      <td>0</td>\n",
              "      <td>60.0</td>\n",
              "      <td>0</td>\n",
              "      <td>15.000000</td>\n",
              "      <td>m_Bachelor's</td>\n",
              "      <td>m_Junior</td>\n",
              "      <td>20.0</td>\n",
              "      <td>300.0</td>\n",
              "    </tr>\n",
              "    <tr>\n",
              "      <th>2</th>\n",
              "      <td>Sales &amp; Marketing</td>\n",
              "      <td>sourcing</td>\n",
              "      <td>1</td>\n",
              "      <td>34</td>\n",
              "      <td>3.0</td>\n",
              "      <td>7</td>\n",
              "      <td>0</td>\n",
              "      <td>50.0</td>\n",
              "      <td>0</td>\n",
              "      <td>7.142857</td>\n",
              "      <td>m_Bachelor's</td>\n",
              "      <td>m_Mid-Level</td>\n",
              "      <td>21.0</td>\n",
              "      <td>150.0</td>\n",
              "    </tr>\n",
              "    <tr>\n",
              "      <th>3</th>\n",
              "      <td>Sales &amp; Marketing</td>\n",
              "      <td>other</td>\n",
              "      <td>2</td>\n",
              "      <td>39</td>\n",
              "      <td>1.0</td>\n",
              "      <td>10</td>\n",
              "      <td>0</td>\n",
              "      <td>50.0</td>\n",
              "      <td>0</td>\n",
              "      <td>5.000000</td>\n",
              "      <td>m_Bachelor's</td>\n",
              "      <td>m_Mid-Level</td>\n",
              "      <td>10.0</td>\n",
              "      <td>50.0</td>\n",
              "    </tr>\n",
              "    <tr>\n",
              "      <th>4</th>\n",
              "      <td>Technology</td>\n",
              "      <td>other</td>\n",
              "      <td>1</td>\n",
              "      <td>45</td>\n",
              "      <td>3.0</td>\n",
              "      <td>2</td>\n",
              "      <td>0</td>\n",
              "      <td>73.0</td>\n",
              "      <td>0</td>\n",
              "      <td>36.500000</td>\n",
              "      <td>m_Bachelor's</td>\n",
              "      <td>m_Junior</td>\n",
              "      <td>6.0</td>\n",
              "      <td>219.0</td>\n",
              "    </tr>\n",
              "    <tr>\n",
              "      <th>...</th>\n",
              "      <td>...</td>\n",
              "      <td>...</td>\n",
              "      <td>...</td>\n",
              "      <td>...</td>\n",
              "      <td>...</td>\n",
              "      <td>...</td>\n",
              "      <td>...</td>\n",
              "      <td>...</td>\n",
              "      <td>...</td>\n",
              "      <td>...</td>\n",
              "      <td>...</td>\n",
              "      <td>...</td>\n",
              "      <td>...</td>\n",
              "      <td>...</td>\n",
              "    </tr>\n",
              "    <tr>\n",
              "      <th>54803</th>\n",
              "      <td>Technology</td>\n",
              "      <td>sourcing</td>\n",
              "      <td>1</td>\n",
              "      <td>48</td>\n",
              "      <td>3.0</td>\n",
              "      <td>17</td>\n",
              "      <td>0</td>\n",
              "      <td>78.0</td>\n",
              "      <td>0</td>\n",
              "      <td>4.588235</td>\n",
              "      <td>m_Bachelor's</td>\n",
              "      <td>m_Senior</td>\n",
              "      <td>51.0</td>\n",
              "      <td>234.0</td>\n",
              "    </tr>\n",
              "    <tr>\n",
              "      <th>54804</th>\n",
              "      <td>Operations</td>\n",
              "      <td>other</td>\n",
              "      <td>1</td>\n",
              "      <td>37</td>\n",
              "      <td>2.0</td>\n",
              "      <td>6</td>\n",
              "      <td>0</td>\n",
              "      <td>56.0</td>\n",
              "      <td>0</td>\n",
              "      <td>9.333333</td>\n",
              "      <td>f_Master's &amp; above</td>\n",
              "      <td>f_Mid-Level</td>\n",
              "      <td>12.0</td>\n",
              "      <td>112.0</td>\n",
              "    </tr>\n",
              "    <tr>\n",
              "      <th>54805</th>\n",
              "      <td>Analytics</td>\n",
              "      <td>other</td>\n",
              "      <td>1</td>\n",
              "      <td>27</td>\n",
              "      <td>5.0</td>\n",
              "      <td>3</td>\n",
              "      <td>0</td>\n",
              "      <td>79.0</td>\n",
              "      <td>0</td>\n",
              "      <td>26.333333</td>\n",
              "      <td>m_Bachelor's</td>\n",
              "      <td>m_Junior</td>\n",
              "      <td>15.0</td>\n",
              "      <td>395.0</td>\n",
              "    </tr>\n",
              "    <tr>\n",
              "      <th>54806</th>\n",
              "      <td>Sales &amp; Marketing</td>\n",
              "      <td>sourcing</td>\n",
              "      <td>1</td>\n",
              "      <td>29</td>\n",
              "      <td>1.0</td>\n",
              "      <td>2</td>\n",
              "      <td>0</td>\n",
              "      <td>NaN</td>\n",
              "      <td>0</td>\n",
              "      <td>NaN</td>\n",
              "      <td>NaN</td>\n",
              "      <td>m_Junior</td>\n",
              "      <td>2.0</td>\n",
              "      <td>NaN</td>\n",
              "    </tr>\n",
              "    <tr>\n",
              "      <th>54807</th>\n",
              "      <td>HR</td>\n",
              "      <td>other</td>\n",
              "      <td>1</td>\n",
              "      <td>27</td>\n",
              "      <td>1.0</td>\n",
              "      <td>5</td>\n",
              "      <td>0</td>\n",
              "      <td>49.0</td>\n",
              "      <td>0</td>\n",
              "      <td>9.800000</td>\n",
              "      <td>m_Bachelor's</td>\n",
              "      <td>m_Junior</td>\n",
              "      <td>5.0</td>\n",
              "      <td>49.0</td>\n",
              "    </tr>\n",
              "  </tbody>\n",
              "</table>\n",
              "<p>54808 rows × 14 columns</p>\n",
              "</div>\n",
              "      <button class=\"colab-df-convert\" onclick=\"convertToInteractive('df-d9b77a09-a098-489f-b3eb-383414bd82ae')\"\n",
              "              title=\"Convert this dataframe to an interactive table.\"\n",
              "              style=\"display:none;\">\n",
              "        \n",
              "  <svg xmlns=\"http://www.w3.org/2000/svg\" height=\"24px\"viewBox=\"0 0 24 24\"\n",
              "       width=\"24px\">\n",
              "    <path d=\"M0 0h24v24H0V0z\" fill=\"none\"/>\n",
              "    <path d=\"M18.56 5.44l.94 2.06.94-2.06 2.06-.94-2.06-.94-.94-2.06-.94 2.06-2.06.94zm-11 1L8.5 8.5l.94-2.06 2.06-.94-2.06-.94L8.5 2.5l-.94 2.06-2.06.94zm10 10l.94 2.06.94-2.06 2.06-.94-2.06-.94-.94-2.06-.94 2.06-2.06.94z\"/><path d=\"M17.41 7.96l-1.37-1.37c-.4-.4-.92-.59-1.43-.59-.52 0-1.04.2-1.43.59L10.3 9.45l-7.72 7.72c-.78.78-.78 2.05 0 2.83L4 21.41c.39.39.9.59 1.41.59.51 0 1.02-.2 1.41-.59l7.78-7.78 2.81-2.81c.8-.78.8-2.07 0-2.86zM5.41 20L4 18.59l7.72-7.72 1.47 1.35L5.41 20z\"/>\n",
              "  </svg>\n",
              "      </button>\n",
              "      \n",
              "  <style>\n",
              "    .colab-df-container {\n",
              "      display:flex;\n",
              "      flex-wrap:wrap;\n",
              "      gap: 12px;\n",
              "    }\n",
              "\n",
              "    .colab-df-convert {\n",
              "      background-color: #E8F0FE;\n",
              "      border: none;\n",
              "      border-radius: 50%;\n",
              "      cursor: pointer;\n",
              "      display: none;\n",
              "      fill: #1967D2;\n",
              "      height: 32px;\n",
              "      padding: 0 0 0 0;\n",
              "      width: 32px;\n",
              "    }\n",
              "\n",
              "    .colab-df-convert:hover {\n",
              "      background-color: #E2EBFA;\n",
              "      box-shadow: 0px 1px 2px rgba(60, 64, 67, 0.3), 0px 1px 3px 1px rgba(60, 64, 67, 0.15);\n",
              "      fill: #174EA6;\n",
              "    }\n",
              "\n",
              "    [theme=dark] .colab-df-convert {\n",
              "      background-color: #3B4455;\n",
              "      fill: #D2E3FC;\n",
              "    }\n",
              "\n",
              "    [theme=dark] .colab-df-convert:hover {\n",
              "      background-color: #434B5C;\n",
              "      box-shadow: 0px 1px 3px 1px rgba(0, 0, 0, 0.15);\n",
              "      filter: drop-shadow(0px 1px 2px rgba(0, 0, 0, 0.3));\n",
              "      fill: #FFFFFF;\n",
              "    }\n",
              "  </style>\n",
              "\n",
              "      <script>\n",
              "        const buttonEl =\n",
              "          document.querySelector('#df-d9b77a09-a098-489f-b3eb-383414bd82ae button.colab-df-convert');\n",
              "        buttonEl.style.display =\n",
              "          google.colab.kernel.accessAllowed ? 'block' : 'none';\n",
              "\n",
              "        async function convertToInteractive(key) {\n",
              "          const element = document.querySelector('#df-d9b77a09-a098-489f-b3eb-383414bd82ae');\n",
              "          const dataTable =\n",
              "            await google.colab.kernel.invokeFunction('convertToInteractive',\n",
              "                                                     [key], {});\n",
              "          if (!dataTable) return;\n",
              "\n",
              "          const docLinkHtml = 'Like what you see? Visit the ' +\n",
              "            '<a target=\"_blank\" href=https://colab.research.google.com/notebooks/data_table.ipynb>data table notebook</a>'\n",
              "            + ' to learn more about interactive tables.';\n",
              "          element.innerHTML = '';\n",
              "          dataTable['output_type'] = 'display_data';\n",
              "          await google.colab.output.renderOutput(dataTable, element);\n",
              "          const docLink = document.createElement('div');\n",
              "          docLink.innerHTML = docLinkHtml;\n",
              "          element.appendChild(docLink);\n",
              "        }\n",
              "      </script>\n",
              "    </div>\n",
              "  </div>\n",
              "  "
            ]
          },
          "metadata": {},
          "execution_count": 107
        }
      ],
      "source": [
        "df"
      ]
    },
    {
      "cell_type": "code",
      "execution_count": null,
      "metadata": {
        "id": "moaz0g2SmiIb"
      },
      "outputs": [],
      "source": []
    },
    {
      "cell_type": "code",
      "execution_count": null,
      "metadata": {
        "colab": {
          "base_uri": "https://localhost:8080/"
        },
        "id": "WA-9v5tlPoG7",
        "outputId": "68f0daf4-77e7-4df8-b389-92dfdb8110e8"
      },
      "outputs": [
        {
          "output_type": "stream",
          "name": "stdout",
          "text": [
            "Number of columns with missing values: 6\n",
            "previous_year_rating                    4124\n",
            "avg_training_score                      2560\n",
            "training_score_per_year                 2560\n",
            "gender_education_interaction            2409\n",
            "rating_mult_service_years               4124\n",
            "training_score_mult_prev_year_rating    6482\n",
            "dtype: int64\n"
          ]
        }
      ],
      "source": [
        "#columns with missing values\n",
        "import pandas as pd\n",
        "missing_values_count = df.isnull().sum()\n",
        "columns_with_missing_values = missing_values_count[missing_values_count > 0]\n",
        "num_columns_with_missing_values = len(columns_with_missing_values)\n",
        "print(f\"Number of columns with missing values: {num_columns_with_missing_values}\")\n",
        "print(columns_with_missing_values)\n"
      ]
    },
    {
      "cell_type": "code",
      "execution_count": null,
      "metadata": {
        "id": "oUL_CRfKx1tb"
      },
      "outputs": [],
      "source": [
        "from sklearn.model_selection import train_test_split\n",
        "\n",
        "# Split the data into features (X) and target variable (y)\n",
        "X = df.drop('is_promoted', axis=1)  # Features\n",
        "y = df['is_promoted']  # Target variable\n",
        "\n"
      ]
    },
    {
      "cell_type": "code",
      "execution_count": null,
      "metadata": {
        "id": "TiRME9l36fiO"
      },
      "outputs": [],
      "source": [
        "from sklearn.model_selection import train_test_split\n",
        "\n",
        "\n",
        "# Split the data into training and testing sets\n",
        "X_train, X_test, y_train, y_test = train_test_split(X, y, test_size=0.35, random_state=0)\n",
        "\n",
        "\n",
        "\n"
      ]
    },
    {
      "cell_type": "code",
      "execution_count": null,
      "metadata": {
        "colab": {
          "base_uri": "https://localhost:8080/"
        },
        "id": "L3QaW6VhOoKN",
        "outputId": "0442dce0-aeec-4d04-9f50-13fe47095ca2"
      },
      "outputs": [
        {
          "output_type": "stream",
          "name": "stderr",
          "text": [
            "/usr/local/lib/python3.10/dist-packages/sklearn/impute/_iterative.py:785: ConvergenceWarning: [IterativeImputer] Early stopping criterion not reached.\n",
            "  warnings.warn(\n",
            "/usr/local/lib/python3.10/dist-packages/sklearn/impute/_iterative.py:785: ConvergenceWarning: [IterativeImputer] Early stopping criterion not reached.\n",
            "  warnings.warn(\n"
          ]
        }
      ],
      "source": [
        "#imputing the missing values of the dataset for numerical\n",
        "import pandas as pd\n",
        "from sklearn.ensemble import RandomForestRegressor\n",
        "from sklearn.experimental import enable_iterative_imputer\n",
        "from sklearn.impute import IterativeImputer\n",
        "\n",
        "numerical_columns = ['previous_year_rating','training_score_per_year','rating_mult_service_years','training_score_mult_prev_year_rating','avg_training_score']\n",
        "iterative_imputer = IterativeImputer(estimator=RandomForestRegressor(), random_state=42)\n",
        "X_train[numerical_columns] = iterative_imputer.fit_transform(X_train[numerical_columns])\n",
        "X_test[numerical_columns] = iterative_imputer.fit_transform(X_test[numerical_columns])\n",
        "\n",
        "\n",
        "\n",
        "\n"
      ]
    },
    {
      "cell_type": "code",
      "execution_count": null,
      "metadata": {
        "id": "AtHX6P53atVh"
      },
      "outputs": [],
      "source": [
        "#imputing the missing values of the dataset for categorical\n",
        "from sklearn.impute import SimpleImputer\n",
        "categorical_columns = ['gender_education_interaction']\n",
        "\n",
        "# SimpleImputer for categorical columns with most_frequent strategy\n",
        "categorical_imputer = SimpleImputer(strategy='most_frequent')\n",
        "X_train[categorical_columns] = categorical_imputer.fit_transform(X_train[categorical_columns])\n",
        "X_test[categorical_columns] = categorical_imputer.fit_transform(X_test[categorical_columns])"
      ]
    },
    {
      "cell_type": "code",
      "execution_count": null,
      "metadata": {
        "id": "drJjv7D8apYz"
      },
      "outputs": [],
      "source": []
    },
    {
      "cell_type": "code",
      "execution_count": null,
      "metadata": {
        "colab": {
          "base_uri": "https://localhost:8080/"
        },
        "id": "Pq4cThMNc6Tb",
        "outputId": "ed90e76d-a182-4b75-b2f1-db32e27ae5d3"
      },
      "outputs": [
        {
          "output_type": "stream",
          "name": "stdout",
          "text": [
            "Number of columns with missing values: 0\n",
            "Series([], dtype: int64)\n"
          ]
        }
      ],
      "source": [
        "#columns with missing values\n",
        "import pandas as pd\n",
        "missing_values_count = X_test.isnull().sum()\n",
        "columns_with_missing_values = missing_values_count[missing_values_count > 0]\n",
        "num_columns_with_missing_values = len(columns_with_missing_values)\n",
        "print(f\"Number of columns with missing values: {num_columns_with_missing_values}\")\n",
        "print(columns_with_missing_values)"
      ]
    },
    {
      "cell_type": "markdown",
      "metadata": {
        "id": "kZyP109CiDS5"
      },
      "source": [
        "Now after Feature Creation , Lets have some Encoding of Categorical Features."
      ]
    },
    {
      "cell_type": "code",
      "execution_count": null,
      "metadata": {
        "colab": {
          "base_uri": "https://localhost:8080/"
        },
        "id": "-_-mJ3oqeMvO",
        "outputId": "5ada59ff-332a-45ca-d11a-85bb9df8afd6"
      },
      "outputs": [
        {
          "output_type": "stream",
          "name": "stdout",
          "text": [
            "Categorical columns:\n",
            "Index(['department', 'recruitment_channel', 'gender_education_interaction',\n",
            "       'gender_experience_interaction'],\n",
            "      dtype='object')\n"
          ]
        }
      ],
      "source": [
        "import pandas as pd\n",
        "\n",
        "categorical_columns = X_train.select_dtypes(include=['object','category']).columns\n",
        "\n",
        "print(\"Categorical columns:\")\n",
        "print(categorical_columns)\n"
      ]
    },
    {
      "cell_type": "markdown",
      "metadata": {
        "id": "zy6EEgCElLYZ"
      },
      "source": [
        "one hot encoding of features like department as it have same priority.\n",
        "\n",
        "---\n",
        "\n"
      ]
    },
    {
      "cell_type": "code",
      "execution_count": null,
      "metadata": {
        "id": "Us2Yt0e0lGCf"
      },
      "outputs": [],
      "source": [
        "\n",
        "ohe_department = pd.get_dummies(X_train['department'], prefix='department')\n",
        "X_train = pd.concat([X_train, ohe_department], axis=1)\n",
        "X_train = X_train.drop('department', axis=1)\n",
        "ohe_department = pd.get_dummies(X_test['department'], prefix='department')\n",
        "X_test = pd.concat([X_test, ohe_department], axis=1)\n",
        "X_test = X_test.drop('department', axis=1)"
      ]
    },
    {
      "cell_type": "code",
      "execution_count": null,
      "metadata": {
        "id": "IAnenlGfYPCg"
      },
      "outputs": [],
      "source": [
        "\n",
        "# ohe_region = pd.get_dummies(X_train['region'], prefix='region')\n",
        "# X_train = pd.concat([X_train, ohe_region], axis=1)\n",
        "# X_train = X_train.drop('region', axis=1)\n",
        "# ohe_region = pd.get_dummies(X_test['region'], prefix='region')\n",
        "# X_test = pd.concat([X_test, ohe_region], axis=1)\n",
        "# X_test = X_test.drop('region', axis=1)"
      ]
    },
    {
      "cell_type": "code",
      "execution_count": null,
      "metadata": {
        "id": "h4zHOt_lc3Wb"
      },
      "outputs": [],
      "source": []
    },
    {
      "cell_type": "code",
      "execution_count": null,
      "metadata": {
        "colab": {
          "base_uri": "https://localhost:8080/"
        },
        "id": "az6h2LZI44mo",
        "outputId": "9b08d25b-5681-42cc-d423-5979c7211182"
      },
      "outputs": [
        {
          "output_type": "execute_result",
          "data": {
            "text/plain": [
              "other       6079\n",
              "sourcing    4658\n",
              "referred     225\n",
              "Name: recruitment_channel, dtype: int64"
            ]
          },
          "metadata": {},
          "execution_count": 116
        }
      ],
      "source": [
        "X_test['recruitment_channel'].value_counts()"
      ]
    },
    {
      "cell_type": "code",
      "execution_count": null,
      "metadata": {
        "id": "L6k9HOUa4wwU"
      },
      "outputs": [],
      "source": [
        "#for recruitment channel referred will be prefered more then sourcing then other\n",
        "\n",
        "recruitment_chan_mapping = {'other': 0, 'sourcing': 1, \"referred\": 2}\n",
        "X_train['recruitment_chan_encoded'] = X_train['recruitment_channel'].map(recruitment_chan_mapping)\n",
        "X_train = X_train.drop('recruitment_channel',axis = 1)\n",
        "X_test['recruitment_chan_encoded'] = X_test['recruitment_channel'].map(recruitment_chan_mapping)\n",
        "X_test = X_test.drop('recruitment_channel',axis = 1)"
      ]
    },
    {
      "cell_type": "code",
      "execution_count": null,
      "metadata": {
        "colab": {
          "base_uri": "https://localhost:8080/"
        },
        "id": "dsXDmh7e6X-z",
        "outputId": "7f14ff5d-5d36-4f1b-f3a1-9b794a29f824"
      },
      "outputs": [
        {
          "output_type": "execute_result",
          "data": {
            "text/plain": [
              "0    10667\n",
              "1     8133\n",
              "2      383\n",
              "Name: recruitment_chan_encoded, dtype: int64"
            ]
          },
          "metadata": {},
          "execution_count": 159
        }
      ],
      "source": [
        "X_test['recruitment_chan_encoded'].value_counts()"
      ]
    },
    {
      "cell_type": "code",
      "execution_count": null,
      "metadata": {
        "colab": {
          "base_uri": "https://localhost:8080/"
        },
        "id": "AyInGGT7-fzA",
        "outputId": "025e5f9f-a6a2-40cb-9640-e3e0a13ccfdc"
      },
      "outputs": [
        {
          "output_type": "execute_result",
          "data": {
            "text/plain": [
              "m_Bachelor's          18421\n",
              "f_Bachelor's           7062\n",
              "m_Master's & above     6478\n",
              "f_Master's & above     3141\n",
              "m_Below Secondary       325\n",
              "f_Below Secondary       198\n",
              "Name: gender_education_interaction, dtype: int64"
            ]
          },
          "metadata": {},
          "execution_count": 160
        }
      ],
      "source": [
        "X_train['gender_education_interaction'].value_counts()"
      ]
    },
    {
      "cell_type": "code",
      "execution_count": null,
      "metadata": {
        "id": "vKpD9FQh9sKl"
      },
      "outputs": [],
      "source": [
        "#for 'gender_education_interaction' priority is like m_Below Secondary = 0, f_Below Secondary = 1 ,m_Bachelor's = 2 ,f_Bachelor's = 3, m_Master's & above = 4 , f_Master's & above = 5\n",
        "\n",
        "gender_education_mapping = {'m_Below Secondary':0, 'f_Below Secondary':1, \"m_Bachelor's\":2, \"f_Bachelor's\":3, \"m_Master's & above\":4 , \"f_Master's & above\":5}\n",
        "X_train['gender_education_encoded'] = X_train['gender_education_interaction'].map(gender_education_mapping)\n",
        "X_train = X_train.drop('gender_education_interaction',axis = 1)\n",
        "X_test['gender_education_encoded'] = X_test['gender_education_interaction'].map(gender_education_mapping)\n",
        "X_test = X_test.drop('gender_education_interaction',axis = 1)"
      ]
    },
    {
      "cell_type": "code",
      "execution_count": null,
      "metadata": {
        "colab": {
          "base_uri": "https://localhost:8080/"
        },
        "id": "-_g5fPEMvaWk",
        "outputId": "f082c6da-1437-4d96-e9cb-283bbb4beff5"
      },
      "outputs": [
        {
          "output_type": "execute_result",
          "data": {
            "text/plain": [
              "2    18421\n",
              "3     7062\n",
              "4     6478\n",
              "5     3141\n",
              "0      325\n",
              "1      198\n",
              "Name: gender_education_encoded, dtype: int64"
            ]
          },
          "metadata": {},
          "execution_count": 162
        }
      ],
      "source": [
        "X_train['gender_education_encoded'].value_counts()"
      ]
    },
    {
      "cell_type": "code",
      "execution_count": null,
      "metadata": {
        "colab": {
          "base_uri": "https://localhost:8080/"
        },
        "id": "IsGfmzYfBDDZ",
        "outputId": "17000c9a-6a62-4018-c2b2-dc67f677789f"
      },
      "outputs": [
        {
          "output_type": "execute_result",
          "data": {
            "text/plain": [
              "m_Junior       14327\n",
              "m_Mid-Level     9610\n",
              "f_Junior        5830\n",
              "f_Mid-Level     4362\n",
              "m_Senior         817\n",
              "f_Senior         349\n",
              "m_Expert         201\n",
              "f_Expert         105\n",
              "m_Veteran         17\n",
              "f_Veteran          7\n",
              "Name: gender_experience_interaction, dtype: int64"
            ]
          },
          "metadata": {},
          "execution_count": 163
        }
      ],
      "source": [
        "X_train['gender_experience_interaction'].value_counts()"
      ]
    },
    {
      "cell_type": "code",
      "execution_count": null,
      "metadata": {
        "id": "JTWf_A5mAr5u"
      },
      "outputs": [],
      "source": [
        "#for 'gender_experience_interaction' priority is like \"m_Junior\":0 , \"f_Junior\":1 , \"m_Mid-Level\":2 , \"f_Mid-Level\":3 , \"m_Senior\":4 , \"f_Senior\":5 , \"m_Expert\":6 , \"f_Expert\" : 7 ,\"m_Veteren\":8 , \"f_Veteran\":9\n",
        "gender_experience_mapping = {\"m_Junior\":0 , \"f_Junior\":1 , \"m_Mid-Level\":2 , \"f_Mid-Level\":3 , \"m_Senior\":4 , \"f_Senior\":5 , \"m_Expert\":6 , \"f_Expert\" : 7 ,\"m_Veteran\":8 , \"f_Veteran\":9}\n",
        "X_train['gender_experience_encoded'] = X_train['gender_experience_interaction'].map(gender_experience_mapping)\n",
        "X_train = X_train.drop('gender_experience_interaction',axis = 1)\n",
        "X_test['gender_experience_encoded'] = X_test['gender_experience_interaction'].map(gender_experience_mapping)\n",
        "X_test = X_test.drop('gender_experience_interaction',axis = 1)"
      ]
    },
    {
      "cell_type": "code",
      "execution_count": null,
      "metadata": {
        "colab": {
          "base_uri": "https://localhost:8080/"
        },
        "id": "hjNcXJKEtV3z",
        "outputId": "09dd9992-c649-4e24-8dba-91f2af257958"
      },
      "outputs": [
        {
          "output_type": "execute_result",
          "data": {
            "text/plain": [
              "0    14327\n",
              "2     9610\n",
              "1     5830\n",
              "3     4362\n",
              "4      817\n",
              "5      349\n",
              "6      201\n",
              "7      105\n",
              "8       17\n",
              "9        7\n",
              "Name: gender_experience_encoded, dtype: int64"
            ]
          },
          "metadata": {},
          "execution_count": 165
        }
      ],
      "source": [
        "X_train['gender_experience_encoded'].value_counts()"
      ]
    },
    {
      "cell_type": "code",
      "execution_count": null,
      "metadata": {
        "id": "Jpm7vPjRXnac"
      },
      "outputs": [],
      "source": [
        "import numpy as np\n",
        "import seaborn as sns\n",
        "\n",
        "# Generate the correlation matrix\n",
        "corr_matrix = X_train.corr()\n",
        "\n"
      ]
    },
    {
      "cell_type": "code",
      "execution_count": null,
      "metadata": {
        "colab": {
          "base_uri": "https://localhost:8080/",
          "height": 810
        },
        "id": "2sfmsCX3rfF8",
        "outputId": "f31ed60f-bf58-4db0-a101-77fccb27625e"
      },
      "outputs": [
        {
          "output_type": "execute_result",
          "data": {
            "text/plain": [
              "                                      no_of_trainings       age  \\\n",
              "no_of_trainings                              1.000000 -0.083411   \n",
              "age                                         -0.083411  1.000000   \n",
              "previous_year_rating                        -0.071611  0.017557   \n",
              "length_of_service                           -0.063057  0.655720   \n",
              "awards_won                                  -0.007445 -0.006629   \n",
              "avg_training_score                           0.045839 -0.051446   \n",
              "training_score_per_year                      0.058692 -0.480962   \n",
              "rating_mult_service_years                   -0.081035  0.555241   \n",
              "training_score_mult_prev_year_rating        -0.026442 -0.002184   \n",
              "department_Analytics                         0.049744 -0.102160   \n",
              "department_Finance                           0.016252 -0.077388   \n",
              "department_HR                               -0.071059 -0.009157   \n",
              "department_Legal                            -0.038458 -0.014114   \n",
              "department_Operations                       -0.076606  0.087570   \n",
              "department_Procurement                       0.041301  0.056085   \n",
              "department_R&D                               0.035507 -0.033391   \n",
              "department_Sales & Marketing                 0.028883  0.000911   \n",
              "department_Technology                        0.001510  0.000812   \n",
              "recruitment_chan_encoded                    -0.015179 -0.028495   \n",
              "gender_education_encoded                    -0.064462  0.351939   \n",
              "gender_experience_encoded                   -0.081732  0.518978   \n",
              "\n",
              "                                      previous_year_rating  length_of_service  \\\n",
              "no_of_trainings                                  -0.071611          -0.063057   \n",
              "age                                               0.017557           0.655720   \n",
              "previous_year_rating                              1.000000           0.012239   \n",
              "length_of_service                                 0.012239           1.000000   \n",
              "awards_won                                        0.023430          -0.036791   \n",
              "avg_training_score                               -0.021627          -0.041561   \n",
              "training_score_per_year                          -0.064842          -0.639521   \n",
              "rating_mult_service_years                         0.454342           0.841073   \n",
              "training_score_mult_prev_year_rating              0.846471          -0.000462   \n",
              "department_Analytics                              0.028741          -0.071866   \n",
              "department_Finance                                0.042126          -0.056872   \n",
              "department_HR                                     0.040743          -0.006400   \n",
              "department_Legal                                  0.017024          -0.037398   \n",
              "department_Operations                             0.131638           0.067064   \n",
              "department_Procurement                           -0.027801           0.043250   \n",
              "department_R&D                                    0.006935          -0.040663   \n",
              "department_Sales & Marketing                     -0.101498           0.006615   \n",
              "department_Technology                            -0.078080           0.001444   \n",
              "recruitment_chan_encoded                          0.022429          -0.015372   \n",
              "gender_education_encoded                          0.026613           0.247633   \n",
              "gender_experience_encoded                         0.016655           0.835047   \n",
              "\n",
              "                                      awards_won  avg_training_score  \\\n",
              "no_of_trainings                        -0.007445            0.045839   \n",
              "age                                    -0.006629           -0.051446   \n",
              "previous_year_rating                    0.023430           -0.021627   \n",
              "length_of_service                      -0.036791           -0.041561   \n",
              "awards_won                              1.000000            0.068915   \n",
              "avg_training_score                      0.068915            1.000000   \n",
              "training_score_per_year                 0.031143            0.263548   \n",
              "rating_mult_service_years              -0.022135           -0.028234   \n",
              "training_score_mult_prev_year_rating    0.062072            0.479215   \n",
              "department_Analytics                    0.002532            0.518347   \n",
              "department_Finance                      0.004502           -0.057118   \n",
              "department_HR                          -0.004172           -0.206648   \n",
              "department_Legal                        0.002151           -0.037087   \n",
              "department_Operations                   0.001914           -0.138204   \n",
              "department_Procurement                  0.001330            0.192881   \n",
              "department_R&D                         -0.000782            0.210463   \n",
              "department_Sales & Marketing           -0.007670           -0.622372   \n",
              "department_Technology                   0.003826            0.464807   \n",
              "recruitment_chan_encoded               -0.007166            0.007259   \n",
              "gender_education_encoded                0.003009            0.029225   \n",
              "gender_experience_encoded              -0.033707           -0.029336   \n",
              "\n",
              "                                      training_score_per_year  \\\n",
              "no_of_trainings                                      0.058692   \n",
              "age                                                 -0.480962   \n",
              "previous_year_rating                                -0.064842   \n",
              "length_of_service                                   -0.639521   \n",
              "awards_won                                           0.031143   \n",
              "avg_training_score                                   0.263548   \n",
              "training_score_per_year                              1.000000   \n",
              "rating_mult_service_years                           -0.541230   \n",
              "training_score_mult_prev_year_rating                 0.044470   \n",
              "department_Analytics                                 0.173927   \n",
              "department_Finance                                   0.033833   \n",
              "department_HR                                       -0.034921   \n",
              "department_Legal                                     0.041628   \n",
              "department_Operations                               -0.098578   \n",
              "department_Procurement                               0.004952   \n",
              "department_R&D                                       0.075282   \n",
              "department_Sales & Marketing                        -0.146544   \n",
              "department_Technology                                0.114854   \n",
              "recruitment_chan_encoded                             0.010113   \n",
              "gender_education_encoded                            -0.243266   \n",
              "gender_experience_encoded                           -0.512063   \n",
              "\n",
              "                                      rating_mult_service_years  \\\n",
              "no_of_trainings                                       -0.081035   \n",
              "age                                                    0.555241   \n",
              "previous_year_rating                                   0.454342   \n",
              "length_of_service                                      0.841073   \n",
              "awards_won                                            -0.022135   \n",
              "avg_training_score                                    -0.028234   \n",
              "training_score_per_year                               -0.541230   \n",
              "rating_mult_service_years                              1.000000   \n",
              "training_score_mult_prev_year_rating                   0.378503   \n",
              "department_Analytics                                  -0.039282   \n",
              "department_Finance                                    -0.033410   \n",
              "department_HR                                          0.005435   \n",
              "department_Legal                                      -0.027186   \n",
              "department_Operations                                  0.119455   \n",
              "department_Procurement                                 0.032976   \n",
              "department_R&D                                        -0.029483   \n",
              "department_Sales & Marketing                          -0.054406   \n",
              "department_Technology                                 -0.027101   \n",
              "recruitment_chan_encoded                              -0.004394   \n",
              "gender_education_encoded                               0.219520   \n",
              "gender_experience_encoded                              0.707602   \n",
              "\n",
              "                                      training_score_mult_prev_year_rating  \\\n",
              "no_of_trainings                                                  -0.026442   \n",
              "age                                                              -0.002184   \n",
              "previous_year_rating                                              0.846471   \n",
              "length_of_service                                                -0.000462   \n",
              "awards_won                                                        0.062072   \n",
              "avg_training_score                                                0.479215   \n",
              "training_score_per_year                                           0.044470   \n",
              "rating_mult_service_years                                         0.378503   \n",
              "training_score_mult_prev_year_rating                              1.000000   \n",
              "department_Analytics                                              0.291471   \n",
              "department_Finance                                                0.003915   \n",
              "department_HR                                                    -0.074331   \n",
              "department_Legal                                                 -0.005679   \n",
              "department_Operations                                             0.034134   \n",
              "department_Procurement                                            0.072428   \n",
              "department_R&D                                                    0.112558   \n",
              "department_Sales & Marketing                                     -0.377072   \n",
              "department_Technology                                             0.147310   \n",
              "recruitment_chan_encoded                                          0.022710   \n",
              "gender_education_encoded                                          0.040694   \n",
              "gender_experience_encoded                                         0.003234   \n",
              "\n",
              "                                      department_Analytics  ...  \\\n",
              "no_of_trainings                                   0.049744  ...   \n",
              "age                                              -0.102160  ...   \n",
              "previous_year_rating                              0.028741  ...   \n",
              "length_of_service                                -0.071866  ...   \n",
              "awards_won                                        0.002532  ...   \n",
              "avg_training_score                                0.518347  ...   \n",
              "training_score_per_year                           0.173927  ...   \n",
              "rating_mult_service_years                        -0.039282  ...   \n",
              "training_score_mult_prev_year_rating              0.291471  ...   \n",
              "department_Analytics                              1.000000  ...   \n",
              "department_Finance                               -0.073387  ...   \n",
              "department_HR                                    -0.070908  ...   \n",
              "department_Legal                                 -0.046141  ...   \n",
              "department_Operations                            -0.168623  ...   \n",
              "department_Procurement                           -0.128871  ...   \n",
              "department_R&D                                   -0.044771  ...   \n",
              "department_Sales & Marketing                     -0.221047  ...   \n",
              "department_Technology                            -0.126503  ...   \n",
              "recruitment_chan_encoded                         -0.001701  ...   \n",
              "gender_education_encoded                         -0.103059  ...   \n",
              "gender_experience_encoded                        -0.113910  ...   \n",
              "\n",
              "                                      department_HR  department_Legal  \\\n",
              "no_of_trainings                           -0.071059         -0.038458   \n",
              "age                                       -0.009157         -0.014114   \n",
              "previous_year_rating                       0.040743          0.017024   \n",
              "length_of_service                         -0.006400         -0.037398   \n",
              "awards_won                                -0.004172          0.002151   \n",
              "avg_training_score                        -0.206648         -0.037087   \n",
              "training_score_per_year                   -0.034921          0.041628   \n",
              "rating_mult_service_years                  0.005435         -0.027186   \n",
              "training_score_mult_prev_year_rating      -0.074331         -0.005679   \n",
              "department_Analytics                      -0.070908         -0.046141   \n",
              "department_Finance                        -0.047491         -0.030903   \n",
              "department_HR                              1.000000         -0.029859   \n",
              "department_Legal                          -0.029859          1.000000   \n",
              "department_Operations                     -0.109123         -0.071008   \n",
              "department_Procurement                    -0.083397         -0.054268   \n",
              "department_R&D                            -0.028973         -0.018853   \n",
              "department_Sales & Marketing              -0.143048         -0.093084   \n",
              "department_Technology                     -0.081865         -0.053271   \n",
              "recruitment_chan_encoded                   0.003929         -0.007029   \n",
              "gender_education_encoded                   0.027689         -0.060599   \n",
              "gender_experience_encoded                  0.014154         -0.047106   \n",
              "\n",
              "                                      department_Operations  \\\n",
              "no_of_trainings                                   -0.076606   \n",
              "age                                                0.087570   \n",
              "previous_year_rating                               0.131638   \n",
              "length_of_service                                  0.067064   \n",
              "awards_won                                         0.001914   \n",
              "avg_training_score                                -0.138204   \n",
              "training_score_per_year                           -0.098578   \n",
              "rating_mult_service_years                          0.119455   \n",
              "training_score_mult_prev_year_rating               0.034134   \n",
              "department_Analytics                              -0.168623   \n",
              "department_Finance                                -0.112938   \n",
              "department_HR                                     -0.109123   \n",
              "department_Legal                                  -0.071008   \n",
              "department_Operations                              1.000000   \n",
              "department_Procurement                            -0.198325   \n",
              "department_R&D                                    -0.068900   \n",
              "department_Sales & Marketing                      -0.340178   \n",
              "department_Technology                             -0.194680   \n",
              "recruitment_chan_encoded                           0.002544   \n",
              "gender_education_encoded                           0.058303   \n",
              "gender_experience_encoded                          0.101809   \n",
              "\n",
              "                                      department_Procurement  department_R&D  \\\n",
              "no_of_trainings                                     0.041301        0.035507   \n",
              "age                                                 0.056085       -0.033391   \n",
              "previous_year_rating                               -0.027801        0.006935   \n",
              "length_of_service                                   0.043250       -0.040663   \n",
              "awards_won                                          0.001330       -0.000782   \n",
              "avg_training_score                                  0.192881        0.210463   \n",
              "training_score_per_year                             0.004952        0.075282   \n",
              "rating_mult_service_years                           0.032976       -0.029483   \n",
              "training_score_mult_prev_year_rating                0.072428        0.112558   \n",
              "department_Analytics                               -0.128871       -0.044771   \n",
              "department_Finance                                 -0.086313       -0.029986   \n",
              "department_HR                                      -0.083397       -0.028973   \n",
              "department_Legal                                   -0.054268       -0.018853   \n",
              "department_Operations                              -0.198325       -0.068900   \n",
              "department_Procurement                              1.000000       -0.052657   \n",
              "department_R&D                                     -0.052657        1.000000   \n",
              "department_Sales & Marketing                       -0.259983       -0.090320   \n",
              "department_Technology                              -0.148785       -0.051689   \n",
              "recruitment_chan_encoded                           -0.013621        0.001837   \n",
              "gender_education_encoded                            0.121499        0.010264   \n",
              "gender_experience_encoded                           0.085555       -0.064287   \n",
              "\n",
              "                                      department_Sales & Marketing  \\\n",
              "no_of_trainings                                           0.028883   \n",
              "age                                                       0.000911   \n",
              "previous_year_rating                                     -0.101498   \n",
              "length_of_service                                         0.006615   \n",
              "awards_won                                               -0.007670   \n",
              "avg_training_score                                       -0.622372   \n",
              "training_score_per_year                                  -0.146544   \n",
              "rating_mult_service_years                                -0.054406   \n",
              "training_score_mult_prev_year_rating                     -0.377072   \n",
              "department_Analytics                                     -0.221047   \n",
              "department_Finance                                       -0.148049   \n",
              "department_HR                                            -0.143048   \n",
              "department_Legal                                         -0.093084   \n",
              "department_Operations                                    -0.340178   \n",
              "department_Procurement                                   -0.259983   \n",
              "department_R&D                                           -0.090320   \n",
              "department_Sales & Marketing                              1.000000   \n",
              "department_Technology                                    -0.255205   \n",
              "recruitment_chan_encoded                                  0.000327   \n",
              "gender_education_encoded                                 -0.085187   \n",
              "gender_experience_encoded                                -0.050188   \n",
              "\n",
              "                                      department_Technology  \\\n",
              "no_of_trainings                                    0.001510   \n",
              "age                                                0.000812   \n",
              "previous_year_rating                              -0.078080   \n",
              "length_of_service                                  0.001444   \n",
              "awards_won                                         0.003826   \n",
              "avg_training_score                                 0.464807   \n",
              "training_score_per_year                            0.114854   \n",
              "rating_mult_service_years                         -0.027101   \n",
              "training_score_mult_prev_year_rating               0.147310   \n",
              "department_Analytics                              -0.126503   \n",
              "department_Finance                                -0.084727   \n",
              "department_HR                                     -0.081865   \n",
              "department_Legal                                  -0.053271   \n",
              "department_Operations                             -0.194680   \n",
              "department_Procurement                            -0.148785   \n",
              "department_R&D                                    -0.051689   \n",
              "department_Sales & Marketing                      -0.255205   \n",
              "department_Technology                              1.000000   \n",
              "recruitment_chan_encoded                           0.023994   \n",
              "gender_education_encoded                           0.049792   \n",
              "gender_experience_encoded                          0.027449   \n",
              "\n",
              "                                      recruitment_chan_encoded  \\\n",
              "no_of_trainings                                      -0.015179   \n",
              "age                                                  -0.028495   \n",
              "previous_year_rating                                  0.022429   \n",
              "length_of_service                                    -0.015372   \n",
              "awards_won                                           -0.007166   \n",
              "avg_training_score                                    0.007259   \n",
              "training_score_per_year                               0.010113   \n",
              "rating_mult_service_years                            -0.004394   \n",
              "training_score_mult_prev_year_rating                  0.022710   \n",
              "department_Analytics                                 -0.001701   \n",
              "department_Finance                                   -0.019667   \n",
              "department_HR                                         0.003929   \n",
              "department_Legal                                     -0.007029   \n",
              "department_Operations                                 0.002544   \n",
              "department_Procurement                               -0.013621   \n",
              "department_R&D                                        0.001837   \n",
              "department_Sales & Marketing                          0.000327   \n",
              "department_Technology                                 0.023994   \n",
              "recruitment_chan_encoded                              1.000000   \n",
              "gender_education_encoded                             -0.019548   \n",
              "gender_experience_encoded                            -0.014941   \n",
              "\n",
              "                                      gender_education_encoded  \\\n",
              "no_of_trainings                                      -0.064462   \n",
              "age                                                   0.351939   \n",
              "previous_year_rating                                  0.026613   \n",
              "length_of_service                                     0.247633   \n",
              "awards_won                                            0.003009   \n",
              "avg_training_score                                    0.029225   \n",
              "training_score_per_year                              -0.243266   \n",
              "rating_mult_service_years                             0.219520   \n",
              "training_score_mult_prev_year_rating                  0.040694   \n",
              "department_Analytics                                 -0.103059   \n",
              "department_Finance                                   -0.046952   \n",
              "department_HR                                         0.027689   \n",
              "department_Legal                                     -0.060599   \n",
              "department_Operations                                 0.058303   \n",
              "department_Procurement                                0.121499   \n",
              "department_R&D                                        0.010264   \n",
              "department_Sales & Marketing                         -0.085187   \n",
              "department_Technology                                 0.049792   \n",
              "recruitment_chan_encoded                             -0.019548   \n",
              "gender_education_encoded                              1.000000   \n",
              "gender_experience_encoded                             0.359904   \n",
              "\n",
              "                                      gender_experience_encoded  \n",
              "no_of_trainings                                       -0.081732  \n",
              "age                                                    0.518978  \n",
              "previous_year_rating                                   0.016655  \n",
              "length_of_service                                      0.835047  \n",
              "awards_won                                            -0.033707  \n",
              "avg_training_score                                    -0.029336  \n",
              "training_score_per_year                               -0.512063  \n",
              "rating_mult_service_years                              0.707602  \n",
              "training_score_mult_prev_year_rating                   0.003234  \n",
              "department_Analytics                                  -0.113910  \n",
              "department_Finance                                    -0.047382  \n",
              "department_HR                                          0.014154  \n",
              "department_Legal                                      -0.047106  \n",
              "department_Operations                                  0.101809  \n",
              "department_Procurement                                 0.085555  \n",
              "department_R&D                                        -0.064287  \n",
              "department_Sales & Marketing                          -0.050188  \n",
              "department_Technology                                  0.027449  \n",
              "recruitment_chan_encoded                              -0.014941  \n",
              "gender_education_encoded                               0.359904  \n",
              "gender_experience_encoded                              1.000000  \n",
              "\n",
              "[21 rows x 21 columns]"
            ],
            "text/html": [
              "\n",
              "  <div id=\"df-1b295cbf-fa0f-482f-a925-a7bebfdf8e71\">\n",
              "    <div class=\"colab-df-container\">\n",
              "      <div>\n",
              "<style scoped>\n",
              "    .dataframe tbody tr th:only-of-type {\n",
              "        vertical-align: middle;\n",
              "    }\n",
              "\n",
              "    .dataframe tbody tr th {\n",
              "        vertical-align: top;\n",
              "    }\n",
              "\n",
              "    .dataframe thead th {\n",
              "        text-align: right;\n",
              "    }\n",
              "</style>\n",
              "<table border=\"1\" class=\"dataframe\">\n",
              "  <thead>\n",
              "    <tr style=\"text-align: right;\">\n",
              "      <th></th>\n",
              "      <th>no_of_trainings</th>\n",
              "      <th>age</th>\n",
              "      <th>previous_year_rating</th>\n",
              "      <th>length_of_service</th>\n",
              "      <th>awards_won</th>\n",
              "      <th>avg_training_score</th>\n",
              "      <th>training_score_per_year</th>\n",
              "      <th>rating_mult_service_years</th>\n",
              "      <th>training_score_mult_prev_year_rating</th>\n",
              "      <th>department_Analytics</th>\n",
              "      <th>...</th>\n",
              "      <th>department_HR</th>\n",
              "      <th>department_Legal</th>\n",
              "      <th>department_Operations</th>\n",
              "      <th>department_Procurement</th>\n",
              "      <th>department_R&amp;D</th>\n",
              "      <th>department_Sales &amp; Marketing</th>\n",
              "      <th>department_Technology</th>\n",
              "      <th>recruitment_chan_encoded</th>\n",
              "      <th>gender_education_encoded</th>\n",
              "      <th>gender_experience_encoded</th>\n",
              "    </tr>\n",
              "  </thead>\n",
              "  <tbody>\n",
              "    <tr>\n",
              "      <th>no_of_trainings</th>\n",
              "      <td>1.000000</td>\n",
              "      <td>-0.083411</td>\n",
              "      <td>-0.071611</td>\n",
              "      <td>-0.063057</td>\n",
              "      <td>-0.007445</td>\n",
              "      <td>0.045839</td>\n",
              "      <td>0.058692</td>\n",
              "      <td>-0.081035</td>\n",
              "      <td>-0.026442</td>\n",
              "      <td>0.049744</td>\n",
              "      <td>...</td>\n",
              "      <td>-0.071059</td>\n",
              "      <td>-0.038458</td>\n",
              "      <td>-0.076606</td>\n",
              "      <td>0.041301</td>\n",
              "      <td>0.035507</td>\n",
              "      <td>0.028883</td>\n",
              "      <td>0.001510</td>\n",
              "      <td>-0.015179</td>\n",
              "      <td>-0.064462</td>\n",
              "      <td>-0.081732</td>\n",
              "    </tr>\n",
              "    <tr>\n",
              "      <th>age</th>\n",
              "      <td>-0.083411</td>\n",
              "      <td>1.000000</td>\n",
              "      <td>0.017557</td>\n",
              "      <td>0.655720</td>\n",
              "      <td>-0.006629</td>\n",
              "      <td>-0.051446</td>\n",
              "      <td>-0.480962</td>\n",
              "      <td>0.555241</td>\n",
              "      <td>-0.002184</td>\n",
              "      <td>-0.102160</td>\n",
              "      <td>...</td>\n",
              "      <td>-0.009157</td>\n",
              "      <td>-0.014114</td>\n",
              "      <td>0.087570</td>\n",
              "      <td>0.056085</td>\n",
              "      <td>-0.033391</td>\n",
              "      <td>0.000911</td>\n",
              "      <td>0.000812</td>\n",
              "      <td>-0.028495</td>\n",
              "      <td>0.351939</td>\n",
              "      <td>0.518978</td>\n",
              "    </tr>\n",
              "    <tr>\n",
              "      <th>previous_year_rating</th>\n",
              "      <td>-0.071611</td>\n",
              "      <td>0.017557</td>\n",
              "      <td>1.000000</td>\n",
              "      <td>0.012239</td>\n",
              "      <td>0.023430</td>\n",
              "      <td>-0.021627</td>\n",
              "      <td>-0.064842</td>\n",
              "      <td>0.454342</td>\n",
              "      <td>0.846471</td>\n",
              "      <td>0.028741</td>\n",
              "      <td>...</td>\n",
              "      <td>0.040743</td>\n",
              "      <td>0.017024</td>\n",
              "      <td>0.131638</td>\n",
              "      <td>-0.027801</td>\n",
              "      <td>0.006935</td>\n",
              "      <td>-0.101498</td>\n",
              "      <td>-0.078080</td>\n",
              "      <td>0.022429</td>\n",
              "      <td>0.026613</td>\n",
              "      <td>0.016655</td>\n",
              "    </tr>\n",
              "    <tr>\n",
              "      <th>length_of_service</th>\n",
              "      <td>-0.063057</td>\n",
              "      <td>0.655720</td>\n",
              "      <td>0.012239</td>\n",
              "      <td>1.000000</td>\n",
              "      <td>-0.036791</td>\n",
              "      <td>-0.041561</td>\n",
              "      <td>-0.639521</td>\n",
              "      <td>0.841073</td>\n",
              "      <td>-0.000462</td>\n",
              "      <td>-0.071866</td>\n",
              "      <td>...</td>\n",
              "      <td>-0.006400</td>\n",
              "      <td>-0.037398</td>\n",
              "      <td>0.067064</td>\n",
              "      <td>0.043250</td>\n",
              "      <td>-0.040663</td>\n",
              "      <td>0.006615</td>\n",
              "      <td>0.001444</td>\n",
              "      <td>-0.015372</td>\n",
              "      <td>0.247633</td>\n",
              "      <td>0.835047</td>\n",
              "    </tr>\n",
              "    <tr>\n",
              "      <th>awards_won</th>\n",
              "      <td>-0.007445</td>\n",
              "      <td>-0.006629</td>\n",
              "      <td>0.023430</td>\n",
              "      <td>-0.036791</td>\n",
              "      <td>1.000000</td>\n",
              "      <td>0.068915</td>\n",
              "      <td>0.031143</td>\n",
              "      <td>-0.022135</td>\n",
              "      <td>0.062072</td>\n",
              "      <td>0.002532</td>\n",
              "      <td>...</td>\n",
              "      <td>-0.004172</td>\n",
              "      <td>0.002151</td>\n",
              "      <td>0.001914</td>\n",
              "      <td>0.001330</td>\n",
              "      <td>-0.000782</td>\n",
              "      <td>-0.007670</td>\n",
              "      <td>0.003826</td>\n",
              "      <td>-0.007166</td>\n",
              "      <td>0.003009</td>\n",
              "      <td>-0.033707</td>\n",
              "    </tr>\n",
              "    <tr>\n",
              "      <th>avg_training_score</th>\n",
              "      <td>0.045839</td>\n",
              "      <td>-0.051446</td>\n",
              "      <td>-0.021627</td>\n",
              "      <td>-0.041561</td>\n",
              "      <td>0.068915</td>\n",
              "      <td>1.000000</td>\n",
              "      <td>0.263548</td>\n",
              "      <td>-0.028234</td>\n",
              "      <td>0.479215</td>\n",
              "      <td>0.518347</td>\n",
              "      <td>...</td>\n",
              "      <td>-0.206648</td>\n",
              "      <td>-0.037087</td>\n",
              "      <td>-0.138204</td>\n",
              "      <td>0.192881</td>\n",
              "      <td>0.210463</td>\n",
              "      <td>-0.622372</td>\n",
              "      <td>0.464807</td>\n",
              "      <td>0.007259</td>\n",
              "      <td>0.029225</td>\n",
              "      <td>-0.029336</td>\n",
              "    </tr>\n",
              "    <tr>\n",
              "      <th>training_score_per_year</th>\n",
              "      <td>0.058692</td>\n",
              "      <td>-0.480962</td>\n",
              "      <td>-0.064842</td>\n",
              "      <td>-0.639521</td>\n",
              "      <td>0.031143</td>\n",
              "      <td>0.263548</td>\n",
              "      <td>1.000000</td>\n",
              "      <td>-0.541230</td>\n",
              "      <td>0.044470</td>\n",
              "      <td>0.173927</td>\n",
              "      <td>...</td>\n",
              "      <td>-0.034921</td>\n",
              "      <td>0.041628</td>\n",
              "      <td>-0.098578</td>\n",
              "      <td>0.004952</td>\n",
              "      <td>0.075282</td>\n",
              "      <td>-0.146544</td>\n",
              "      <td>0.114854</td>\n",
              "      <td>0.010113</td>\n",
              "      <td>-0.243266</td>\n",
              "      <td>-0.512063</td>\n",
              "    </tr>\n",
              "    <tr>\n",
              "      <th>rating_mult_service_years</th>\n",
              "      <td>-0.081035</td>\n",
              "      <td>0.555241</td>\n",
              "      <td>0.454342</td>\n",
              "      <td>0.841073</td>\n",
              "      <td>-0.022135</td>\n",
              "      <td>-0.028234</td>\n",
              "      <td>-0.541230</td>\n",
              "      <td>1.000000</td>\n",
              "      <td>0.378503</td>\n",
              "      <td>-0.039282</td>\n",
              "      <td>...</td>\n",
              "      <td>0.005435</td>\n",
              "      <td>-0.027186</td>\n",
              "      <td>0.119455</td>\n",
              "      <td>0.032976</td>\n",
              "      <td>-0.029483</td>\n",
              "      <td>-0.054406</td>\n",
              "      <td>-0.027101</td>\n",
              "      <td>-0.004394</td>\n",
              "      <td>0.219520</td>\n",
              "      <td>0.707602</td>\n",
              "    </tr>\n",
              "    <tr>\n",
              "      <th>training_score_mult_prev_year_rating</th>\n",
              "      <td>-0.026442</td>\n",
              "      <td>-0.002184</td>\n",
              "      <td>0.846471</td>\n",
              "      <td>-0.000462</td>\n",
              "      <td>0.062072</td>\n",
              "      <td>0.479215</td>\n",
              "      <td>0.044470</td>\n",
              "      <td>0.378503</td>\n",
              "      <td>1.000000</td>\n",
              "      <td>0.291471</td>\n",
              "      <td>...</td>\n",
              "      <td>-0.074331</td>\n",
              "      <td>-0.005679</td>\n",
              "      <td>0.034134</td>\n",
              "      <td>0.072428</td>\n",
              "      <td>0.112558</td>\n",
              "      <td>-0.377072</td>\n",
              "      <td>0.147310</td>\n",
              "      <td>0.022710</td>\n",
              "      <td>0.040694</td>\n",
              "      <td>0.003234</td>\n",
              "    </tr>\n",
              "    <tr>\n",
              "      <th>department_Analytics</th>\n",
              "      <td>0.049744</td>\n",
              "      <td>-0.102160</td>\n",
              "      <td>0.028741</td>\n",
              "      <td>-0.071866</td>\n",
              "      <td>0.002532</td>\n",
              "      <td>0.518347</td>\n",
              "      <td>0.173927</td>\n",
              "      <td>-0.039282</td>\n",
              "      <td>0.291471</td>\n",
              "      <td>1.000000</td>\n",
              "      <td>...</td>\n",
              "      <td>-0.070908</td>\n",
              "      <td>-0.046141</td>\n",
              "      <td>-0.168623</td>\n",
              "      <td>-0.128871</td>\n",
              "      <td>-0.044771</td>\n",
              "      <td>-0.221047</td>\n",
              "      <td>-0.126503</td>\n",
              "      <td>-0.001701</td>\n",
              "      <td>-0.103059</td>\n",
              "      <td>-0.113910</td>\n",
              "    </tr>\n",
              "    <tr>\n",
              "      <th>department_Finance</th>\n",
              "      <td>0.016252</td>\n",
              "      <td>-0.077388</td>\n",
              "      <td>0.042126</td>\n",
              "      <td>-0.056872</td>\n",
              "      <td>0.004502</td>\n",
              "      <td>-0.057118</td>\n",
              "      <td>0.033833</td>\n",
              "      <td>-0.033410</td>\n",
              "      <td>0.003915</td>\n",
              "      <td>-0.073387</td>\n",
              "      <td>...</td>\n",
              "      <td>-0.047491</td>\n",
              "      <td>-0.030903</td>\n",
              "      <td>-0.112938</td>\n",
              "      <td>-0.086313</td>\n",
              "      <td>-0.029986</td>\n",
              "      <td>-0.148049</td>\n",
              "      <td>-0.084727</td>\n",
              "      <td>-0.019667</td>\n",
              "      <td>-0.046952</td>\n",
              "      <td>-0.047382</td>\n",
              "    </tr>\n",
              "    <tr>\n",
              "      <th>department_HR</th>\n",
              "      <td>-0.071059</td>\n",
              "      <td>-0.009157</td>\n",
              "      <td>0.040743</td>\n",
              "      <td>-0.006400</td>\n",
              "      <td>-0.004172</td>\n",
              "      <td>-0.206648</td>\n",
              "      <td>-0.034921</td>\n",
              "      <td>0.005435</td>\n",
              "      <td>-0.074331</td>\n",
              "      <td>-0.070908</td>\n",
              "      <td>...</td>\n",
              "      <td>1.000000</td>\n",
              "      <td>-0.029859</td>\n",
              "      <td>-0.109123</td>\n",
              "      <td>-0.083397</td>\n",
              "      <td>-0.028973</td>\n",
              "      <td>-0.143048</td>\n",
              "      <td>-0.081865</td>\n",
              "      <td>0.003929</td>\n",
              "      <td>0.027689</td>\n",
              "      <td>0.014154</td>\n",
              "    </tr>\n",
              "    <tr>\n",
              "      <th>department_Legal</th>\n",
              "      <td>-0.038458</td>\n",
              "      <td>-0.014114</td>\n",
              "      <td>0.017024</td>\n",
              "      <td>-0.037398</td>\n",
              "      <td>0.002151</td>\n",
              "      <td>-0.037087</td>\n",
              "      <td>0.041628</td>\n",
              "      <td>-0.027186</td>\n",
              "      <td>-0.005679</td>\n",
              "      <td>-0.046141</td>\n",
              "      <td>...</td>\n",
              "      <td>-0.029859</td>\n",
              "      <td>1.000000</td>\n",
              "      <td>-0.071008</td>\n",
              "      <td>-0.054268</td>\n",
              "      <td>-0.018853</td>\n",
              "      <td>-0.093084</td>\n",
              "      <td>-0.053271</td>\n",
              "      <td>-0.007029</td>\n",
              "      <td>-0.060599</td>\n",
              "      <td>-0.047106</td>\n",
              "    </tr>\n",
              "    <tr>\n",
              "      <th>department_Operations</th>\n",
              "      <td>-0.076606</td>\n",
              "      <td>0.087570</td>\n",
              "      <td>0.131638</td>\n",
              "      <td>0.067064</td>\n",
              "      <td>0.001914</td>\n",
              "      <td>-0.138204</td>\n",
              "      <td>-0.098578</td>\n",
              "      <td>0.119455</td>\n",
              "      <td>0.034134</td>\n",
              "      <td>-0.168623</td>\n",
              "      <td>...</td>\n",
              "      <td>-0.109123</td>\n",
              "      <td>-0.071008</td>\n",
              "      <td>1.000000</td>\n",
              "      <td>-0.198325</td>\n",
              "      <td>-0.068900</td>\n",
              "      <td>-0.340178</td>\n",
              "      <td>-0.194680</td>\n",
              "      <td>0.002544</td>\n",
              "      <td>0.058303</td>\n",
              "      <td>0.101809</td>\n",
              "    </tr>\n",
              "    <tr>\n",
              "      <th>department_Procurement</th>\n",
              "      <td>0.041301</td>\n",
              "      <td>0.056085</td>\n",
              "      <td>-0.027801</td>\n",
              "      <td>0.043250</td>\n",
              "      <td>0.001330</td>\n",
              "      <td>0.192881</td>\n",
              "      <td>0.004952</td>\n",
              "      <td>0.032976</td>\n",
              "      <td>0.072428</td>\n",
              "      <td>-0.128871</td>\n",
              "      <td>...</td>\n",
              "      <td>-0.083397</td>\n",
              "      <td>-0.054268</td>\n",
              "      <td>-0.198325</td>\n",
              "      <td>1.000000</td>\n",
              "      <td>-0.052657</td>\n",
              "      <td>-0.259983</td>\n",
              "      <td>-0.148785</td>\n",
              "      <td>-0.013621</td>\n",
              "      <td>0.121499</td>\n",
              "      <td>0.085555</td>\n",
              "    </tr>\n",
              "    <tr>\n",
              "      <th>department_R&amp;D</th>\n",
              "      <td>0.035507</td>\n",
              "      <td>-0.033391</td>\n",
              "      <td>0.006935</td>\n",
              "      <td>-0.040663</td>\n",
              "      <td>-0.000782</td>\n",
              "      <td>0.210463</td>\n",
              "      <td>0.075282</td>\n",
              "      <td>-0.029483</td>\n",
              "      <td>0.112558</td>\n",
              "      <td>-0.044771</td>\n",
              "      <td>...</td>\n",
              "      <td>-0.028973</td>\n",
              "      <td>-0.018853</td>\n",
              "      <td>-0.068900</td>\n",
              "      <td>-0.052657</td>\n",
              "      <td>1.000000</td>\n",
              "      <td>-0.090320</td>\n",
              "      <td>-0.051689</td>\n",
              "      <td>0.001837</td>\n",
              "      <td>0.010264</td>\n",
              "      <td>-0.064287</td>\n",
              "    </tr>\n",
              "    <tr>\n",
              "      <th>department_Sales &amp; Marketing</th>\n",
              "      <td>0.028883</td>\n",
              "      <td>0.000911</td>\n",
              "      <td>-0.101498</td>\n",
              "      <td>0.006615</td>\n",
              "      <td>-0.007670</td>\n",
              "      <td>-0.622372</td>\n",
              "      <td>-0.146544</td>\n",
              "      <td>-0.054406</td>\n",
              "      <td>-0.377072</td>\n",
              "      <td>-0.221047</td>\n",
              "      <td>...</td>\n",
              "      <td>-0.143048</td>\n",
              "      <td>-0.093084</td>\n",
              "      <td>-0.340178</td>\n",
              "      <td>-0.259983</td>\n",
              "      <td>-0.090320</td>\n",
              "      <td>1.000000</td>\n",
              "      <td>-0.255205</td>\n",
              "      <td>0.000327</td>\n",
              "      <td>-0.085187</td>\n",
              "      <td>-0.050188</td>\n",
              "    </tr>\n",
              "    <tr>\n",
              "      <th>department_Technology</th>\n",
              "      <td>0.001510</td>\n",
              "      <td>0.000812</td>\n",
              "      <td>-0.078080</td>\n",
              "      <td>0.001444</td>\n",
              "      <td>0.003826</td>\n",
              "      <td>0.464807</td>\n",
              "      <td>0.114854</td>\n",
              "      <td>-0.027101</td>\n",
              "      <td>0.147310</td>\n",
              "      <td>-0.126503</td>\n",
              "      <td>...</td>\n",
              "      <td>-0.081865</td>\n",
              "      <td>-0.053271</td>\n",
              "      <td>-0.194680</td>\n",
              "      <td>-0.148785</td>\n",
              "      <td>-0.051689</td>\n",
              "      <td>-0.255205</td>\n",
              "      <td>1.000000</td>\n",
              "      <td>0.023994</td>\n",
              "      <td>0.049792</td>\n",
              "      <td>0.027449</td>\n",
              "    </tr>\n",
              "    <tr>\n",
              "      <th>recruitment_chan_encoded</th>\n",
              "      <td>-0.015179</td>\n",
              "      <td>-0.028495</td>\n",
              "      <td>0.022429</td>\n",
              "      <td>-0.015372</td>\n",
              "      <td>-0.007166</td>\n",
              "      <td>0.007259</td>\n",
              "      <td>0.010113</td>\n",
              "      <td>-0.004394</td>\n",
              "      <td>0.022710</td>\n",
              "      <td>-0.001701</td>\n",
              "      <td>...</td>\n",
              "      <td>0.003929</td>\n",
              "      <td>-0.007029</td>\n",
              "      <td>0.002544</td>\n",
              "      <td>-0.013621</td>\n",
              "      <td>0.001837</td>\n",
              "      <td>0.000327</td>\n",
              "      <td>0.023994</td>\n",
              "      <td>1.000000</td>\n",
              "      <td>-0.019548</td>\n",
              "      <td>-0.014941</td>\n",
              "    </tr>\n",
              "    <tr>\n",
              "      <th>gender_education_encoded</th>\n",
              "      <td>-0.064462</td>\n",
              "      <td>0.351939</td>\n",
              "      <td>0.026613</td>\n",
              "      <td>0.247633</td>\n",
              "      <td>0.003009</td>\n",
              "      <td>0.029225</td>\n",
              "      <td>-0.243266</td>\n",
              "      <td>0.219520</td>\n",
              "      <td>0.040694</td>\n",
              "      <td>-0.103059</td>\n",
              "      <td>...</td>\n",
              "      <td>0.027689</td>\n",
              "      <td>-0.060599</td>\n",
              "      <td>0.058303</td>\n",
              "      <td>0.121499</td>\n",
              "      <td>0.010264</td>\n",
              "      <td>-0.085187</td>\n",
              "      <td>0.049792</td>\n",
              "      <td>-0.019548</td>\n",
              "      <td>1.000000</td>\n",
              "      <td>0.359904</td>\n",
              "    </tr>\n",
              "    <tr>\n",
              "      <th>gender_experience_encoded</th>\n",
              "      <td>-0.081732</td>\n",
              "      <td>0.518978</td>\n",
              "      <td>0.016655</td>\n",
              "      <td>0.835047</td>\n",
              "      <td>-0.033707</td>\n",
              "      <td>-0.029336</td>\n",
              "      <td>-0.512063</td>\n",
              "      <td>0.707602</td>\n",
              "      <td>0.003234</td>\n",
              "      <td>-0.113910</td>\n",
              "      <td>...</td>\n",
              "      <td>0.014154</td>\n",
              "      <td>-0.047106</td>\n",
              "      <td>0.101809</td>\n",
              "      <td>0.085555</td>\n",
              "      <td>-0.064287</td>\n",
              "      <td>-0.050188</td>\n",
              "      <td>0.027449</td>\n",
              "      <td>-0.014941</td>\n",
              "      <td>0.359904</td>\n",
              "      <td>1.000000</td>\n",
              "    </tr>\n",
              "  </tbody>\n",
              "</table>\n",
              "<p>21 rows × 21 columns</p>\n",
              "</div>\n",
              "      <button class=\"colab-df-convert\" onclick=\"convertToInteractive('df-1b295cbf-fa0f-482f-a925-a7bebfdf8e71')\"\n",
              "              title=\"Convert this dataframe to an interactive table.\"\n",
              "              style=\"display:none;\">\n",
              "        \n",
              "  <svg xmlns=\"http://www.w3.org/2000/svg\" height=\"24px\"viewBox=\"0 0 24 24\"\n",
              "       width=\"24px\">\n",
              "    <path d=\"M0 0h24v24H0V0z\" fill=\"none\"/>\n",
              "    <path d=\"M18.56 5.44l.94 2.06.94-2.06 2.06-.94-2.06-.94-.94-2.06-.94 2.06-2.06.94zm-11 1L8.5 8.5l.94-2.06 2.06-.94-2.06-.94L8.5 2.5l-.94 2.06-2.06.94zm10 10l.94 2.06.94-2.06 2.06-.94-2.06-.94-.94-2.06-.94 2.06-2.06.94z\"/><path d=\"M17.41 7.96l-1.37-1.37c-.4-.4-.92-.59-1.43-.59-.52 0-1.04.2-1.43.59L10.3 9.45l-7.72 7.72c-.78.78-.78 2.05 0 2.83L4 21.41c.39.39.9.59 1.41.59.51 0 1.02-.2 1.41-.59l7.78-7.78 2.81-2.81c.8-.78.8-2.07 0-2.86zM5.41 20L4 18.59l7.72-7.72 1.47 1.35L5.41 20z\"/>\n",
              "  </svg>\n",
              "      </button>\n",
              "      \n",
              "  <style>\n",
              "    .colab-df-container {\n",
              "      display:flex;\n",
              "      flex-wrap:wrap;\n",
              "      gap: 12px;\n",
              "    }\n",
              "\n",
              "    .colab-df-convert {\n",
              "      background-color: #E8F0FE;\n",
              "      border: none;\n",
              "      border-radius: 50%;\n",
              "      cursor: pointer;\n",
              "      display: none;\n",
              "      fill: #1967D2;\n",
              "      height: 32px;\n",
              "      padding: 0 0 0 0;\n",
              "      width: 32px;\n",
              "    }\n",
              "\n",
              "    .colab-df-convert:hover {\n",
              "      background-color: #E2EBFA;\n",
              "      box-shadow: 0px 1px 2px rgba(60, 64, 67, 0.3), 0px 1px 3px 1px rgba(60, 64, 67, 0.15);\n",
              "      fill: #174EA6;\n",
              "    }\n",
              "\n",
              "    [theme=dark] .colab-df-convert {\n",
              "      background-color: #3B4455;\n",
              "      fill: #D2E3FC;\n",
              "    }\n",
              "\n",
              "    [theme=dark] .colab-df-convert:hover {\n",
              "      background-color: #434B5C;\n",
              "      box-shadow: 0px 1px 3px 1px rgba(0, 0, 0, 0.15);\n",
              "      filter: drop-shadow(0px 1px 2px rgba(0, 0, 0, 0.3));\n",
              "      fill: #FFFFFF;\n",
              "    }\n",
              "  </style>\n",
              "\n",
              "      <script>\n",
              "        const buttonEl =\n",
              "          document.querySelector('#df-1b295cbf-fa0f-482f-a925-a7bebfdf8e71 button.colab-df-convert');\n",
              "        buttonEl.style.display =\n",
              "          google.colab.kernel.accessAllowed ? 'block' : 'none';\n",
              "\n",
              "        async function convertToInteractive(key) {\n",
              "          const element = document.querySelector('#df-1b295cbf-fa0f-482f-a925-a7bebfdf8e71');\n",
              "          const dataTable =\n",
              "            await google.colab.kernel.invokeFunction('convertToInteractive',\n",
              "                                                     [key], {});\n",
              "          if (!dataTable) return;\n",
              "\n",
              "          const docLinkHtml = 'Like what you see? Visit the ' +\n",
              "            '<a target=\"_blank\" href=https://colab.research.google.com/notebooks/data_table.ipynb>data table notebook</a>'\n",
              "            + ' to learn more about interactive tables.';\n",
              "          element.innerHTML = '';\n",
              "          dataTable['output_type'] = 'display_data';\n",
              "          await google.colab.output.renderOutput(dataTable, element);\n",
              "          const docLink = document.createElement('div');\n",
              "          docLink.innerHTML = docLinkHtml;\n",
              "          element.appendChild(docLink);\n",
              "        }\n",
              "      </script>\n",
              "    </div>\n",
              "  </div>\n",
              "  "
            ]
          },
          "metadata": {},
          "execution_count": 167
        }
      ],
      "source": [
        "corr_matrix"
      ]
    },
    {
      "cell_type": "code",
      "execution_count": null,
      "metadata": {
        "colab": {
          "base_uri": "https://localhost:8080/"
        },
        "id": "ZRTCz7g_ryER",
        "outputId": "300f81b7-a934-4c91-bde1-7423cc522212"
      },
      "outputs": [
        {
          "output_type": "execute_result",
          "data": {
            "text/plain": [
              "Index(['no_of_trainings', 'age', 'previous_year_rating', 'length_of_service',\n",
              "       'awards_won', 'avg_training_score', 'training_score_per_year',\n",
              "       'rating_mult_service_years', 'training_score_mult_prev_year_rating',\n",
              "       'department_Analytics', 'department_Finance', 'department_HR',\n",
              "       'department_Legal', 'department_Operations', 'department_Procurement',\n",
              "       'department_R&D', 'department_Sales & Marketing',\n",
              "       'department_Technology', 'recruitment_chan_encoded',\n",
              "       'gender_education_encoded', 'gender_experience_encoded'],\n",
              "      dtype='object')"
            ]
          },
          "metadata": {},
          "execution_count": 127
        }
      ],
      "source": [
        "X_train.columns"
      ]
    },
    {
      "cell_type": "code",
      "execution_count": null,
      "metadata": {
        "colab": {
          "base_uri": "https://localhost:8080/"
        },
        "id": "OiDg-WIBsrXc",
        "outputId": "94ec85d3-2196-4f4b-90a5-b6ce6677641a"
      },
      "outputs": [
        {
          "output_type": "stream",
          "name": "stdout",
          "text": [
            "Number of columns with missing values: 0\n",
            "Series([], dtype: int64)\n"
          ]
        }
      ],
      "source": [
        "#columns with missing values\n",
        "import pandas as pd\n",
        "missing_values_count = X_test.isnull().sum()\n",
        "columns_with_missing_values = missing_values_count[missing_values_count > 0]\n",
        "num_columns_with_missing_values = len(columns_with_missing_values)\n",
        "print(f\"Number of columns with missing values: {num_columns_with_missing_values}\")\n",
        "print(columns_with_missing_values)"
      ]
    },
    {
      "cell_type": "code",
      "execution_count": null,
      "metadata": {
        "colab": {
          "base_uri": "https://localhost:8080/"
        },
        "id": "Dvo8Bv7DHjHF",
        "outputId": "0a28751b-95c1-44da-c020-1f339867ea53"
      },
      "outputs": [
        {
          "output_type": "stream",
          "name": "stdout",
          "text": [
            "Accuracy: 0.8868268779648647\n",
            "              precision    recall  f1-score   support\n",
            "\n",
            "           0       0.94      0.93      0.94     17551\n",
            "           1       0.35      0.39      0.37      1632\n",
            "\n",
            "    accuracy                           0.89     19183\n",
            "   macro avg       0.65      0.66      0.65     19183\n",
            "weighted avg       0.89      0.89      0.89     19183\n",
            "\n"
          ]
        }
      ],
      "source": [
        "from sklearn.model_selection import train_test_split\n",
        "from sklearn.tree import DecisionTreeClassifier\n",
        "from sklearn.metrics import accuracy_score ,classification_report\n",
        "\n",
        "\n",
        "\n",
        "# Create a decision tree classifier\n",
        "clf = DecisionTreeClassifier()\n",
        "\n",
        "# Train the classifier\n",
        "clf.fit(X_train, y_train)\n",
        "\n",
        "# Predict the promotions on the testing set\n",
        "y_pred = clf.predict(X_test)\n",
        "\n",
        "# Calculate the accuracy of the model\n",
        "accuracy = accuracy_score(y_test, y_pred)\n",
        "classifi_report = classification_report(y_test ,y_pred)\n",
        "print(\"Accuracy:\", accuracy)\n",
        "print(classifi_report)"
      ]
    },
    {
      "cell_type": "code",
      "execution_count": null,
      "metadata": {
        "id": "rJY-TqaI0hvt"
      },
      "outputs": [],
      "source": [
        "from sklearn.preprocessing import StandardScaler\n",
        "# Create an instance of StandardScaler\n",
        "scaler = StandardScaler()\n",
        "\n",
        "# Fit the scaler on the resampled training set\n",
        "scaler.fit(X_train)\n",
        "\n",
        "# Apply standardization to the resampled training set\n",
        "X_train_scaled = scaler.transform(X_train)\n",
        "\n",
        "\n",
        "# Apply standardization to the test set\n",
        "X_test_scaled = scaler.transform(X_test)"
      ]
    },
    {
      "cell_type": "code",
      "execution_count": null,
      "metadata": {
        "id": "XvrqLAs31zVf"
      },
      "outputs": [],
      "source": [
        "from sklearn.ensemble import RandomForestClassifier\n",
        "from xgboost import XGBClassifier\n",
        "\n",
        "# Assuming you have already scaled the training and test sets as X_train_scaled and X_test_scaled\n",
        "\n",
        "# Random Forest Classifier\n",
        "rf_model = RandomForestClassifier()\n",
        "rf_model.fit(X_train_scaled, y_train)\n",
        "rf_predictions = rf_model.predict(X_test_scaled)\n",
        "\n",
        "# XGBoost Classifier\n",
        "xgb_model = XGBClassifier()\n",
        "xgb_model.fit(X_train_scaled, y_train)\n",
        "xgb_predictions = xgb_model.predict(X_test_scaled)\n"
      ]
    },
    {
      "cell_type": "code",
      "execution_count": null,
      "metadata": {
        "id": "pzV4ypNGtEtT"
      },
      "outputs": [],
      "source": []
    },
    {
      "cell_type": "code",
      "execution_count": null,
      "metadata": {
        "colab": {
          "base_uri": "https://localhost:8080/"
        },
        "id": "VmOc2xTD2b07",
        "outputId": "58af31f0-edcd-470d-b147-e709f9ed553a"
      },
      "outputs": [
        {
          "output_type": "stream",
          "name": "stdout",
          "text": [
            "Random Forest Classifier:\n",
            "F1 Score: 0.4244482173174873\n",
            "Accuracy: 0.9293124120314862\n",
            "ROC AUC Score: 0.6468048717407309\n",
            "XGBoost Classifier:\n",
            "F1 Score: 0.46627958910227774\n",
            "Accuracy: 0.9377052598655059\n",
            "ROC AUC Score: 0.6575049561446139\n",
            "              precision    recall  f1-score   support\n",
            "\n",
            "           0       0.94      1.00      0.97     17551\n",
            "           1       0.86      0.32      0.47      1632\n",
            "\n",
            "    accuracy                           0.94     19183\n",
            "   macro avg       0.90      0.66      0.72     19183\n",
            "weighted avg       0.93      0.94      0.92     19183\n",
            "\n"
          ]
        }
      ],
      "source": [
        "from sklearn.metrics import f1_score, accuracy_score, roc_auc_score , classification_report\n",
        "\n",
        "# Assuming you have the true labels for the test set as y_test\n",
        "\n",
        "# Calculate F1 score for Random Forest Classifier\n",
        "rf_f1 = f1_score(y_test, rf_predictions)\n",
        "\n",
        "# Calculate accuracy for Random Forest Classifier\n",
        "rf_accuracy = accuracy_score(y_test, rf_predictions)\n",
        "\n",
        "# Calculate ROC AUC score for Random Forest Classifier\n",
        "rf_roc_auc = roc_auc_score(y_test, rf_predictions)\n",
        "\n",
        "# Calculate F1 score for XGBoost Classifier\n",
        "xgb_f1 = f1_score(y_test, xgb_predictions)\n",
        "\n",
        "# Calculate accuracy for XGBoost Classifier\n",
        "xgb_accuracy = accuracy_score(y_test, xgb_predictions)\n",
        "\n",
        "# Calculate ROC AUC score for XGBoost Classifier\n",
        "xgb_roc_auc = roc_auc_score(y_test, xgb_predictions)\n",
        "xgb_report = classification_report(y_test , xgb_predictions)\n",
        "print(\"Random Forest Classifier:\")\n",
        "print(\"F1 Score:\", rf_f1)\n",
        "print(\"Accuracy:\", rf_accuracy)\n",
        "print(\"ROC AUC Score:\", rf_roc_auc)\n",
        "\n",
        "\n",
        "print(\"XGBoost Classifier:\")\n",
        "print(\"F1 Score:\", xgb_f1)\n",
        "print(\"Accuracy:\", xgb_accuracy)\n",
        "print(\"ROC AUC Score:\", xgb_roc_auc)\n",
        "print(xgb_report )"
      ]
    },
    {
      "cell_type": "code",
      "execution_count": null,
      "metadata": {
        "colab": {
          "base_uri": "https://localhost:8080/",
          "height": 564
        },
        "id": "bQOgu-EYeq9G",
        "outputId": "e3babf2e-f63e-4794-eb20-96462d8415f9"
      },
      "outputs": [
        {
          "data": {
            "image/png": "[encoded data removed]",
            "text/plain": [
              "<Figure size 800x600 with 1 Axes>"
            ]
          },
          "metadata": {},
          "output_type": "display_data"
        }
      ],
      "source": [
        "import numpy as np\n",
        "import matplotlib.pyplot as plt\n",
        "from sklearn.datasets import make_classification\n",
        "from sklearn.model_selection import validation_curve\n",
        "from sklearn.metrics import accuracy_score\n",
        "\n",
        "param_range = np.linspace(0.1, 1.0, 10)\n",
        "\n",
        "# Calculate validation curve\n",
        "train_scores, valid_scores = validation_curve(\n",
        "    xgb_model, X_train, y_train, param_name=\"learning_rate\", param_range=param_range, cv=5, scoring=\"f1\"\n",
        ")\n",
        "\n",
        "# Calculate accuracy scores\n",
        "train_acc = np.mean(train_scores, axis=1)\n",
        "valid_acc = np.mean(valid_scores, axis=1)\n",
        "\n",
        "# Plot validation curve\n",
        "plt.figure(figsize=(8, 6))\n",
        "plt.plot(param_range, train_acc, label=\"Training Accuracy\", color=\"blue\")\n",
        "plt.plot(param_range, valid_acc, label=\"Validation Accuracy\", color=\"red\")\n",
        "plt.title(\"XGBoost Classifier - Validation Curve\")\n",
        "plt.xlabel(\"learning_rate\")\n",
        "plt.ylabel(\"f1\")\n",
        "plt.legend(loc=\"best\")\n",
        "plt.grid(True)\n",
        "plt.show()\n"
      ]
    },
    {
      "cell_type": "code",
      "execution_count": null,
      "metadata": {
        "colab": {
          "base_uri": "https://localhost:8080/"
        },
        "id": "hWVu_Twj2u8k",
        "outputId": "8f042129-aafc-4e20-d13d-224aff4069dd"
      },
      "outputs": [
        {
          "name": "stdout",
          "output_type": "stream",
          "text": [
            "KNN Classifier:\n",
            "F1 Score: 0.22299651567944254\n",
            "Accuracy: 0.9186279875935048\n",
            "ROC AUC Score: 0.5645598972551302\n"
          ]
        }
      ],
      "source": [
        "from sklearn.neighbors import KNeighborsClassifier\n",
        "from sklearn.metrics import f1_score, accuracy_score, roc_auc_score\n",
        "\n",
        "# Assuming you have already split and scaled the training and test datasets as X_train_scaled, X_test_scaled, y_train, y_test\n",
        "\n",
        "# Create an instance of KNN Classifier\n",
        "knn_model = KNeighborsClassifier()\n",
        "\n",
        "# Fit the model on the scaled training set\n",
        "knn_model.fit(X_train_scaled, y_train)\n",
        "\n",
        "# Predict labels for the scaled test set\n",
        "knn_predictions = knn_model.predict(X_test_scaled)\n",
        "\n",
        "# Calculate F1 score for KNN Classifier\n",
        "knn_f1 = f1_score(y_test, knn_predictions)\n",
        "\n",
        "# Calculate accuracy for KNN Classifier\n",
        "knn_accuracy = accuracy_score(y_test, knn_predictions)\n",
        "\n",
        "# Calculate ROC AUC score for KNN Classifier\n",
        "knn_roc_auc = roc_auc_score(y_test, knn_predictions)\n",
        "\n",
        "print(\"KNN Classifier:\")\n",
        "print(\"F1 Score:\", knn_f1)\n",
        "print(\"Accuracy:\", knn_accuracy)\n",
        "print(\"ROC AUC Score:\", knn_roc_auc)\n"
      ]
    },
    {
      "cell_type": "code",
      "execution_count": null,
      "metadata": {
        "colab": {
          "base_uri": "https://localhost:8080/"
        },
        "id": "XpKEfK0o9Lqq",
        "outputId": "53597611-33c3-4d0e-b0f6-e3cf3405d4f9"
      },
      "outputs": [
        {
          "name": "stdout",
          "output_type": "stream",
          "text": [
            "Looking in indexes: https://pypi.org/simple, https://us-python.pkg.dev/colab-wheels/public/simple/\n",
            "Collecting catboost\n",
            "  Downloading catboost-1.2-cp310-cp310-manylinux2014_x86_64.whl (98.6 MB)\n",
            "\u001b[2K     \u001b[90m━━━━━━━━━━━━━━━━━━━━━━━━━━━━━━━━━━━━━━━━\u001b[0m \u001b[32m98.6/98.6 MB\u001b[0m \u001b[31m3.9 MB/s\u001b[0m eta \u001b[36m0:00:00\u001b[0m\n",
            "\u001b[?25hRequirement already satisfied: graphviz in /usr/local/lib/python3.10/dist-packages (from catboost) (0.20.1)\n",
            "Requirement already satisfied: matplotlib in /usr/local/lib/python3.10/dist-packages (from catboost) (3.7.1)\n",
            "Requirement already satisfied: numpy>=1.16.0 in /usr/local/lib/python3.10/dist-packages (from catboost) (1.22.4)\n",
            "Requirement already satisfied: pandas>=0.24 in /usr/local/lib/python3.10/dist-packages (from catboost) (1.5.3)\n",
            "Requirement already satisfied: scipy in /usr/local/lib/python3.10/dist-packages (from catboost) (1.10.1)\n",
            "Requirement already satisfied: plotly in /usr/local/lib/python3.10/dist-packages (from catboost) (5.13.1)\n",
            "Requirement already satisfied: six in /usr/local/lib/python3.10/dist-packages (from catboost) (1.16.0)\n",
            "Requirement already satisfied: python-dateutil>=2.8.1 in /usr/local/lib/python3.10/dist-packages (from pandas>=0.24->catboost) (2.8.2)\n",
            "Requirement already satisfied: pytz>=2020.1 in /usr/local/lib/python3.10/dist-packages (from pandas>=0.24->catboost) (2022.7.1)\n",
            "Requirement already satisfied: contourpy>=1.0.1 in /usr/local/lib/python3.10/dist-packages (from matplotlib->catboost) (1.0.7)\n",
            "Requirement already satisfied: cycler>=0.10 in /usr/local/lib/python3.10/dist-packages (from matplotlib->catboost) (0.11.0)\n",
            "Requirement already satisfied: fonttools>=4.22.0 in /usr/local/lib/python3.10/dist-packages (from matplotlib->catboost) (4.39.3)\n",
            "Requirement already satisfied: kiwisolver>=1.0.1 in /usr/local/lib/python3.10/dist-packages (from matplotlib->catboost) (1.4.4)\n",
            "Requirement already satisfied: packaging>=20.0 in /usr/local/lib/python3.10/dist-packages (from matplotlib->catboost) (23.1)\n",
            "Requirement already satisfied: pillow>=6.2.0 in /usr/local/lib/python3.10/dist-packages (from matplotlib->catboost) (8.4.0)\n",
            "Requirement already satisfied: pyparsing>=2.3.1 in /usr/local/lib/python3.10/dist-packages (from matplotlib->catboost) (3.0.9)\n",
            "Requirement already satisfied: tenacity>=6.2.0 in /usr/local/lib/python3.10/dist-packages (from plotly->catboost) (8.2.2)\n",
            "Installing collected packages: catboost\n",
            "Successfully installed catboost-1.2\n"
          ]
        }
      ],
      "source": [
        "pip install catboost"
      ]
    },
    {
      "cell_type": "code",
      "execution_count": null,
      "metadata": {
        "id": "K5Gvrcec6pHC"
      },
      "outputs": [],
      "source": [
        "from sklearn.ensemble import AdaBoostClassifier, GradientBoostingClassifier\n"
      ]
    },
    {
      "cell_type": "code",
      "execution_count": null,
      "metadata": {
        "id": "_LxFpCL6FILA"
      },
      "outputs": [],
      "source": [
        "from sklearn.metrics import accuracy_score, f1_score, roc_auc_score , classification_report"
      ]
    },
    {
      "cell_type": "code",
      "execution_count": null,
      "metadata": {
        "colab": {
          "base_uri": "https://localhost:8080/"
        },
        "id": "bklJhmjQ6tAK",
        "outputId": "aa0d705a-14c3-48bd-e0d9-5cf28ed02f59"
      },
      "outputs": [
        {
          "name": "stdout",
          "output_type": "stream",
          "text": [
            "AdaBoost Classifier (Standard Scaling):\n",
            "Accuracy: 0.9259259259259259\n",
            "F1 Score: 0.23251417769376184\n",
            "ROC AUC Score: 0.566078102580722\n"
          ]
        }
      ],
      "source": [
        "from sklearn.ensemble import AdaBoostClassifier\n",
        "\n",
        "\n",
        "# AdaBoost Classifier\n",
        "ada_model = AdaBoostClassifier(n_estimators=100, learning_rate=0.1)\n",
        "ada_model.fit(X_train_scaled, y_train)\n",
        "ada_predictions = ada_model.predict(X_test_scaled)\n",
        "ada_accuracy = accuracy_score(y_test, ada_predictions)\n",
        "ada_f1 = f1_score(y_test, ada_predictions)\n",
        "ada_roc_auc = roc_auc_score(y_test, ada_predictions)\n",
        "\n",
        "print(\"AdaBoost Classifier (Standard Scaling):\")\n",
        "print(\"Accuracy:\", ada_accuracy)\n",
        "print(\"F1 Score:\", ada_f1)\n",
        "print(\"ROC AUC Score:\", ada_roc_auc)\n",
        "\n",
        "\n"
      ]
    },
    {
      "cell_type": "code",
      "execution_count": null,
      "metadata": {
        "id": "ve9Mh221_HZj"
      },
      "outputs": [],
      "source": [
        "from sklearn.model_selection import cross_validate"
      ]
    },
    {
      "cell_type": "code",
      "execution_count": null,
      "metadata": {
        "colab": {
          "base_uri": "https://localhost:8080/"
        },
        "id": "rw0ycqJp-_Fg",
        "outputId": "fee301db-52c0-4fe2-ed35-ad37abb063be"
      },
      "outputs": [
        {
          "name": "stderr",
          "output_type": "stream",
          "text": [
            "[Parallel(n_jobs=1)]: Using backend SequentialBackend with 1 concurrent workers.\n"
          ]
        },
        {
          "name": "stdout",
          "output_type": "stream",
          "text": [
            "[CV] END .................................................... total time= 1.1min\n"
          ]
        },
        {
          "name": "stderr",
          "output_type": "stream",
          "text": [
            "[Parallel(n_jobs=1)]: Done   1 out of   1 | elapsed:  1.1min remaining:    0.0s\n"
          ]
        },
        {
          "name": "stdout",
          "output_type": "stream",
          "text": [
            "[CV] END .................................................... total time=  27.4s\n",
            "[CV] END .................................................... total time=  27.6s\n",
            "[CV] END .................................................... total time=  28.4s\n",
            "[CV] END .................................................... total time=  31.7s\n",
            "Avg Test score:  0.934178684551792\n",
            "Avg Precision:  0.8555154669526128\n",
            "Avg Recall:  0.6591655344543976\n",
            "Avg F1 score:  0.4594765267428462\n"
          ]
        },
        {
          "name": "stderr",
          "output_type": "stream",
          "text": [
            "[Parallel(n_jobs=1)]: Done   5 out of   5 | elapsed:  3.0min finished\n"
          ]
        }
      ],
      "source": [
        "scores = cross_validate(\n",
        "    GradientBoostingClassifier(max_depth=10,random_state=0),\n",
        "    X_train_scaled,\n",
        "    y_train,\n",
        "    cv=5,\n",
        "    scoring=['accuracy','precision_macro','recall_macro','f1'],\n",
        "    verbose=2\n",
        ")\n",
        "print('Avg Test score: ',np.mean(scores['test_accuracy']))\n",
        "print('Avg Precision: ',np.mean(scores['test_precision_macro']))\n",
        "print('Avg Recall: ',np.mean(scores['test_recall_macro']))\n",
        "print('Avg F1 score: ',np.mean(scores['test_f1']))"
      ]
    },
    {
      "cell_type": "code",
      "execution_count": null,
      "metadata": {
        "id": "YtqFm9TUFyGf"
      },
      "outputs": [],
      "source": []
    },
    {
      "cell_type": "code",
      "execution_count": null,
      "metadata": {
        "colab": {
          "base_uri": "https://localhost:8080/",
          "height": 91
        },
        "id": "gt-cXFfaC_9k",
        "outputId": "217c2192-9037-4c86-d3b0-90daf64eaf05"
      },
      "outputs": [
        {
          "output_type": "execute_result",
          "data": {
            "text/plain": [
              "GradientBoostingClassifier(learning_rate=0.6, max_depth=20, n_estimators=300,\n",
              "                           random_state=0)"
            ],
            "text/html": [
              "<style>#sk-container-id-1 {color: black;background-color: white;}#sk-container-id-1 pre{padding: 0;}#sk-container-id-1 div.sk-toggleable {background-color: white;}#sk-container-id-1 label.sk-toggleable__label {cursor: pointer;display: block;width: 100%;margin-bottom: 0;padding: 0.3em;box-sizing: border-box;text-align: center;}#sk-container-id-1 label.sk-toggleable__label-arrow:before {content: \"▸\";float: left;margin-right: 0.25em;color: #696969;}#sk-container-id-1 label.sk-toggleable__label-arrow:hover:before {color: black;}#sk-container-id-1 div.sk-estimator:hover label.sk-toggleable__label-arrow:before {color: black;}#sk-container-id-1 div.sk-toggleable__content {max-height: 0;max-width: 0;overflow: hidden;text-align: left;background-color: #f0f8ff;}#sk-container-id-1 div.sk-toggleable__content pre {margin: 0.2em;color: black;border-radius: 0.25em;background-color: #f0f8ff;}#sk-container-id-1 input.sk-toggleable__control:checked~div.sk-toggleable__content {max-height: 200px;max-width: 100%;overflow: auto;}#sk-container-id-1 input.sk-toggleable__control:checked~label.sk-toggleable__label-arrow:before {content: \"▾\";}#sk-container-id-1 div.sk-estimator input.sk-toggleable__control:checked~label.sk-toggleable__label {background-color: #d4ebff;}#sk-container-id-1 div.sk-label input.sk-toggleable__control:checked~label.sk-toggleable__label {background-color: #d4ebff;}#sk-container-id-1 input.sk-hidden--visually {border: 0;clip: rect(1px 1px 1px 1px);clip: rect(1px, 1px, 1px, 1px);height: 1px;margin: -1px;overflow: hidden;padding: 0;position: absolute;width: 1px;}#sk-container-id-1 div.sk-estimator {font-family: monospace;background-color: #f0f8ff;border: 1px dotted black;border-radius: 0.25em;box-sizing: border-box;margin-bottom: 0.5em;}#sk-container-id-1 div.sk-estimator:hover {background-color: #d4ebff;}#sk-container-id-1 div.sk-parallel-item::after {content: \"\";width: 100%;border-bottom: 1px solid gray;flex-grow: 1;}#sk-container-id-1 div.sk-label:hover label.sk-toggleable__label {background-color: #d4ebff;}#sk-container-id-1 div.sk-serial::before {content: \"\";position: absolute;border-left: 1px solid gray;box-sizing: border-box;top: 0;bottom: 0;left: 50%;z-index: 0;}#sk-container-id-1 div.sk-serial {display: flex;flex-direction: column;align-items: center;background-color: white;padding-right: 0.2em;padding-left: 0.2em;position: relative;}#sk-container-id-1 div.sk-item {position: relative;z-index: 1;}#sk-container-id-1 div.sk-parallel {display: flex;align-items: stretch;justify-content: center;background-color: white;position: relative;}#sk-container-id-1 div.sk-item::before, #sk-container-id-1 div.sk-parallel-item::before {content: \"\";position: absolute;border-left: 1px solid gray;box-sizing: border-box;top: 0;bottom: 0;left: 50%;z-index: -1;}#sk-container-id-1 div.sk-parallel-item {display: flex;flex-direction: column;z-index: 1;position: relative;background-color: white;}#sk-container-id-1 div.sk-parallel-item:first-child::after {align-self: flex-end;width: 50%;}#sk-container-id-1 div.sk-parallel-item:last-child::after {align-self: flex-start;width: 50%;}#sk-container-id-1 div.sk-parallel-item:only-child::after {width: 0;}#sk-container-id-1 div.sk-dashed-wrapped {border: 1px dashed gray;margin: 0 0.4em 0.5em 0.4em;box-sizing: border-box;padding-bottom: 0.4em;background-color: white;}#sk-container-id-1 div.sk-label label {font-family: monospace;font-weight: bold;display: inline-block;line-height: 1.2em;}#sk-container-id-1 div.sk-label-container {text-align: center;}#sk-container-id-1 div.sk-container {/* jupyter's `normalize.less` sets `[hidden] { display: none; }` but bootstrap.min.css set `[hidden] { display: none !important; }` so we also need the `!important` here to be able to override the default hidden behavior on the sphinx rendered scikit-learn.org. See: https://github.com/scikit-learn/scikit-learn/issues/21755 */display: inline-block !important;position: relative;}#sk-container-id-1 div.sk-text-repr-fallback {display: none;}</style><div id=\"sk-container-id-1\" class=\"sk-top-container\"><div class=\"sk-text-repr-fallback\"><pre>GradientBoostingClassifier(learning_rate=0.6, max_depth=20, n_estimators=300,\n",
              "                           random_state=0)</pre><b>In a Jupyter environment, please rerun this cell to show the HTML representation or trust the notebook. <br />On GitHub, the HTML representation is unable to render, please try loading this page with nbviewer.org.</b></div><div class=\"sk-container\" hidden><div class=\"sk-item\"><div class=\"sk-estimator sk-toggleable\"><input class=\"sk-toggleable__control sk-hidden--visually\" id=\"sk-estimator-id-1\" type=\"checkbox\" checked><label for=\"sk-estimator-id-1\" class=\"sk-toggleable__label sk-toggleable__label-arrow\">GradientBoostingClassifier</label><div class=\"sk-toggleable__content\"><pre>GradientBoostingClassifier(learning_rate=0.6, max_depth=20, n_estimators=300,\n",
              "                           random_state=0)</pre></div></div></div></div></div>"
            ]
          },
          "metadata": {},
          "execution_count": 143
        }
      ],
      "source": [
        "#Applying Gradient Boosting Classifier\n",
        "model = GradientBoostingClassifier(learning_rate=0.6,n_estimators=300,max_depth=20,random_state=0)\n",
        "model.fit(X_train_scaled,y_train)\n",
        "# print(model.score(X_train_scaled,y_train))\n",
        "# print(model.score(X_test_scaled,y_test))"
      ]
    },
    {
      "cell_type": "code",
      "execution_count": null,
      "metadata": {
        "colab": {
          "base_uri": "https://localhost:8080/"
        },
        "id": "RNSFxCHADBUO",
        "outputId": "9a70e221-3919-4aba-8eba-b80ab2bea3ed"
      },
      "outputs": [
        {
          "output_type": "stream",
          "name": "stdout",
          "text": [
            "              precision    recall  f1-score   support\n",
            "\n",
            "           0       0.97      0.94      0.96     10399\n",
            "           1       0.33      0.54      0.41       563\n",
            "\n",
            "    accuracy                           0.92     10962\n",
            "   macro avg       0.65      0.74      0.68     10962\n",
            "weighted avg       0.94      0.92      0.93     10962\n",
            "\n",
            "Gradient Boosting Classifier:\n",
            "Accuracy: 0.9199051268016786\n",
            "ROC AUC Score: 0.6515481963688291\n",
            "f1_score: 0.408355795148248\n"
          ]
        }
      ],
      "source": [
        "pred = model.predict(X_test_scaled)\n",
        "gb_accuracy = accuracy_score(y_test, pred)\n",
        "gb_f1 = f1_score(y_test, pred)\n",
        "gb_roc_auc = roc_auc_score(y_test, pred)\n",
        "print(classification_report(pred,y_test))\n",
        "print(\"Gradient Boosting Classifier:\")\n",
        "print(\"Accuracy:\", gb_accuracy)\n",
        "print(\"ROC AUC Score:\", gb_roc_auc)\n",
        "print(\"f1_score:\" , gb_f1)\n"
      ]
    },
    {
      "cell_type": "code",
      "execution_count": null,
      "metadata": {
        "colab": {
          "base_uri": "https://localhost:8080/",
          "height": 564
        },
        "id": "jWF2ctLzB2Pk",
        "outputId": "7d9f051d-f9c4-440b-e48b-6d5f9f61978c"
      },
      "outputs": [
        {
          "data": {
            "image/png": "[encoded data removed]",
            "text/plain": [
              "<Figure size 800x600 with 1 Axes>"
            ]
          },
          "metadata": {},
          "output_type": "display_data"
        }
      ],
      "source": [
        "import numpy as np\n",
        "import matplotlib.pyplot as plt\n",
        "from sklearn.ensemble import GradientBoostingClassifier\n",
        "from sklearn.model_selection import validation_curve\n",
        "from sklearn.metrics import f1_score\n",
        "\n",
        "param_range = np.linspace(0.1, 1.0, 10)\n",
        "\n",
        "# Create a Gradient Boosting classifier\n",
        "gb_model = GradientBoostingClassifier()\n",
        "\n",
        "# Calculate validation curve\n",
        "train_scores, valid_scores = validation_curve(\n",
        "    gb_model, X_train, y_train, param_name=\"learning_rate\", param_range=param_range, cv=5, scoring=\"f1\"\n",
        ")\n",
        "\n",
        "# Calculate F1 scores\n",
        "train_f1 = np.mean(train_scores, axis=1)\n",
        "valid_f1 = np.mean(valid_scores, axis=1)\n",
        "\n",
        "# Plot validation curve\n",
        "plt.figure(figsize=(8, 6))\n",
        "plt.plot(param_range, train_f1, label=\"Training F1 Score\", color=\"blue\")\n",
        "plt.plot(param_range, valid_f1, label=\"Validation F1 Score\", color=\"red\")\n",
        "plt.title(\"Gradient Boosting Classifier - Validation Curve\")\n",
        "plt.xlabel(\"Learning Rate\")\n",
        "plt.ylabel(\"F1 Score\")\n",
        "plt.legend(loc=\"best\")\n",
        "plt.grid(True)\n",
        "plt.show()\n"
      ]
    },
    {
      "cell_type": "code",
      "execution_count": null,
      "metadata": {
        "colab": {
          "base_uri": "https://localhost:8080/"
        },
        "id": "MQ5dv8Qa-4oN",
        "outputId": "796cd9fc-e946-4bbe-a4f3-4d5dccf99b4f"
      },
      "outputs": [
        {
          "output_type": "stream",
          "name": "stdout",
          "text": [
            "LightGBM Classifier:\n",
            "Accuracy: 0.9379659073137674\n",
            "F1 Score: 0.4654088050314466\n",
            "ROC AUC Score: 0.6565358615955071\n"
          ]
        }
      ],
      "source": [
        "import lightgbm as lgb\n",
        "from sklearn.metrics import accuracy_score, f1_score, roc_auc_score\n",
        "\n",
        "# Create LightGBM classifier\n",
        "lgb_model = lgb.LGBMClassifier(colsample_bytree = 1.0, learning_rate = 0.05, max_depth = 8, min_child_samples = 48, n_estimators = 291, num_leaves  = 83, reg_alpha =  0.1,  reg_lambda = 1.0, subsample = 0.9)\n",
        "\n",
        "# Fit the model on the scaled training data\n",
        "lgb_model.fit(X_train_scaled, y_train)\n",
        "\n",
        "# Predict labels for the scaled test data\n",
        "lgb_predictions = lgb_model.predict(X_test_scaled)\n",
        "\n",
        "# Calculate accuracy for LightGBM classifier\n",
        "lgb_accuracy = accuracy_score(y_test, lgb_predictions)\n",
        "\n",
        "# Calculate F1 score for LightGBM classifier\n",
        "lgb_f1 = f1_score(y_test, lgb_predictions)\n",
        "\n",
        "# Calculate ROC AUC score for LightGBM classifier\n",
        "lgb_roc_auc = roc_auc_score(y_test, lgb_predictions)\n",
        "\n",
        "# Print the evaluation metrics\n",
        "print(\"LightGBM Classifier:\")\n",
        "print(\"Accuracy:\", lgb_accuracy)\n",
        "print(\"F1 Score:\", lgb_f1)\n",
        "print(\"ROC AUC Score:\", lgb_roc_auc)\n"
      ]
    },
    {
      "cell_type": "code",
      "execution_count": null,
      "metadata": {
        "id": "oxSvJl-mtca7"
      },
      "outputs": [],
      "source": [
        "from sklearn.ensemble import VotingClassifier\n",
        "from xgboost import XGBClassifier\n",
        "from lightgbm import LGBMClassifier\n",
        "\n",
        "# Create XGBoost and LightGBM classifiers\n",
        "xgb_model = XGBClassifier()\n",
        "lgbm_model = LGBMClassifier()\n",
        "\n",
        "# Create the VotingClassifier with hard voting\n",
        "voting_clf = VotingClassifier(\n",
        "    estimators=[('xgb', xgb_model), ('lgbm', lgbm_model)],\n",
        "    voting='hard'\n",
        ")\n",
        "\n",
        "# Fit the VotingClassifier on the training data\n",
        "voting_clf.fit(X_train, y_train)\n",
        "\n",
        "# Make predictions using the VotingClassifier\n",
        "predictions = voting_clf.predict(X_test)\n"
      ]
    },
    {
      "cell_type": "code",
      "source": [
        "print(classification_report(y_test , predictions))"
      ],
      "metadata": {
        "colab": {
          "base_uri": "https://localhost:8080/"
        },
        "id": "OVktvAfbK_iJ",
        "outputId": "30cbc88d-7d7e-4023-ef5c-d22b16995391"
      },
      "execution_count": null,
      "outputs": [
        {
          "output_type": "stream",
          "name": "stdout",
          "text": [
            "              precision    recall  f1-score   support\n",
            "\n",
            "           0       0.94      1.00      0.97     17551\n",
            "           1       0.90      0.31      0.46      1632\n",
            "\n",
            "    accuracy                           0.94     19183\n",
            "   macro avg       0.92      0.65      0.71     19183\n",
            "weighted avg       0.94      0.94      0.92     19183\n",
            "\n"
          ]
        }
      ]
    },
    {
      "cell_type": "code",
      "execution_count": null,
      "metadata": {
        "id": "xTZi8lIx_xdp"
      },
      "outputs": [],
      "source": [
        "from sklearn.ensemble import BaggingClassifier, ExtraTreesClassifier\n",
        "from sklearn.linear_model import LogisticRegression\n",
        "from sklearn.metrics import accuracy_score, f1_score, roc_auc_score\n",
        "from sklearn.model_selection import cross_val_score\n",
        "from sklearn.neighbors import KNeighborsClassifier\n",
        "from sklearn.svm import SVC"
      ]
    },
    {
      "cell_type": "code",
      "execution_count": null,
      "metadata": {
        "colab": {
          "base_uri": "https://localhost:8080/"
        },
        "id": "ImZkH5Eu_-OI",
        "outputId": "22d2d94b-71b2-4b9e-9858-78e6fbc3d01e"
      },
      "outputs": [
        {
          "name": "stdout",
          "output_type": "stream",
          "text": [
            "Extra Trees Classifier:\n",
            "Accuracy: 0.9275679620507207\n",
            "F1 Score: 0.3984848484848485\n",
            "ROC AUC Score: 0.6360073535637437\n"
          ]
        }
      ],
      "source": [
        "# Extra Trees Classifier\n",
        "extra_trees_model = ExtraTreesClassifier(n_estimators=100, random_state=42)\n",
        "extra_trees_model.fit(X_train_scaled, y_train)\n",
        "extra_trees_predictions = extra_trees_model.predict(X_test_scaled)\n",
        "extra_trees_accuracy = accuracy_score(y_test, extra_trees_predictions)\n",
        "extra_trees_f1 = f1_score(y_test, extra_trees_predictions)\n",
        "extra_trees_roc_auc = roc_auc_score(y_test, extra_trees_predictions)\n",
        "\n",
        "print(\"Extra Trees Classifier:\")\n",
        "print(\"Accuracy:\", extra_trees_accuracy)\n",
        "print(\"F1 Score:\", extra_trees_f1)\n",
        "print(\"ROC AUC Score:\", extra_trees_roc_auc)\n"
      ]
    },
    {
      "cell_type": "code",
      "source": [
        "import numpy as np\n",
        "import matplotlib.pyplot as plt\n",
        "from sklearn.ensemble import HistGradientBoostingClassifier\n",
        "from sklearn.model_selection import validation_curve\n",
        "from sklearn.metrics import f1_score\n",
        "\n",
        "param_range = np.linspace(0.1, 1.0, 10)\n",
        "\n",
        "# Create a HistGradientBoostingClassifier\n",
        "hist_gb_model = HistGradientBoostingClassifier()\n",
        "\n",
        "# Calculate validation curve\n",
        "train_scores, valid_scores = validation_curve(\n",
        "    hist_gb_model, X_train_scaled, y_train, param_name=\"learning_rate\", param_range=param_range, cv=5, scoring=\"f1\"\n",
        ")\n",
        "\n",
        "# Calculate F1 scores\n",
        "train_f1 = np.mean(train_scores, axis=1)\n",
        "valid_f1 = np.mean(valid_scores, axis=1)\n",
        "\n",
        "# Plot validation curve\n",
        "plt.figure(figsize=(8, 6))\n",
        "plt.plot(param_range, train_f1, label=\"Training F1 Score\", color=\"blue\")\n",
        "plt.plot(param_range, valid_f1, label=\"Validation F1 Score\", color=\"red\")\n",
        "plt.title(\"HistGradientBoostingClassifier - Validation Curve\")\n",
        "plt.xlabel(\"Learning Rate\")\n",
        "plt.ylabel(\"F1 Score\")\n",
        "plt.legend(loc=\"best\")\n",
        "plt.grid(True)\n",
        "plt.show()\n"
      ],
      "metadata": {
        "colab": {
          "base_uri": "https://localhost:8080/",
          "height": 564
        },
        "id": "NzttWYYWBAvy",
        "outputId": "5dcd797f-ee99-44a6-e8b8-bcd5c78fb3ec"
      },
      "execution_count": null,
      "outputs": [
        {
          "output_type": "display_data",
          "data": {
            "text/plain": [
              "<Figure size 800x600 with 1 Axes>"
            ],
            "image/png": "[encoded data removed]"
          },
          "metadata": {}
        }
      ]
    },
    {
      "cell_type": "code",
      "source": [
        "import numpy as np\n",
        "import matplotlib.pyplot as plt\n",
        "from lightgbm import LGBMClassifier\n",
        "from sklearn.model_selection import validation_curve\n",
        "from sklearn.metrics import f1_score\n",
        "\n",
        "param_range = np.linspace(0.1, 1.0, 10)\n",
        "\n",
        "# Create an LGBMClassifier\n",
        "lgbm_model = LGBMClassifier()\n",
        "\n",
        "# Calculate validation curve\n",
        "train_scores, valid_scores = validation_curve(\n",
        "    lgbm_model, X_train_scaled, y_train, param_name=\"learning_rate\", param_range=param_range, cv=5, scoring=\"f1\"\n",
        ")\n",
        "\n",
        "# Calculate F1 scores\n",
        "train_f1 = np.mean(train_scores, axis=1)\n",
        "valid_f1 = np.mean(valid_scores, axis=1)\n",
        "\n",
        "# Plot validation curve\n",
        "plt.figure(figsize=(8, 6))\n",
        "plt.plot(param_range, train_f1, label=\"Training F1 Score\", color=\"blue\")\n",
        "plt.plot(param_range, valid_f1, label=\"Validation F1 Score\", color=\"red\")\n",
        "plt.title(\"LGBMClassifier - Validation Curve\")\n",
        "plt.xlabel(\"Learning Rate\")\n",
        "plt.ylabel(\"F1 Score\")\n",
        "plt.legend(loc=\"best\")\n",
        "plt.grid(True)\n",
        "plt.show()\n"
      ],
      "metadata": {
        "colab": {
          "base_uri": "https://localhost:8080/",
          "height": 564
        },
        "id": "jzYezWPSGq6Y",
        "outputId": "c0332581-f6ba-4459-e3f4-cdcb8fac792f"
      },
      "execution_count": null,
      "outputs": [
        {
          "output_type": "display_data",
          "data": {
            "text/plain": [
              "<Figure size 800x600 with 1 Axes>"
            ],
            "image/png": "[encoded data removed]"
          },
          "metadata": {}
        }
      ]
    },
    {
      "cell_type": "code",
      "source": [
        "import numpy as np\n",
        "import matplotlib.pyplot as plt\n",
        "\n",
        "labels = ['LightGBM', 'XGBoost', 'HistGradientBoosting', 'Gradient Boosting']\n",
        "accuracy_scores = [lgb_accuracy, xgb_accuracy, hist_gb_accuracy, gb_accuracy]\n",
        "roc_auc_scores = [lgb_roc_auc, xgb_roc_auc, hist_gb_roc_auc, gb_roc_auc]\n",
        "f1_scores = [lgb_f1, xgb_f1, hist_gb_f1, gb_f1]\n",
        "\n",
        "x = np.arange(len(labels))\n",
        "\n",
        "plt.figure(figsize=(10, 6))\n",
        "\n",
        "plt.plot(x, accuracy_scores, marker='o', label='Accuracy')\n",
        "plt.plot(x, roc_auc_scores, marker='o', label='ROC-AUC')\n",
        "plt.plot(x, f1_scores, marker='o', label='F1 Score')\n",
        "\n",
        "plt.xlabel('Models')\n",
        "plt.ylabel('Scores')\n",
        "plt.title('Performance Metrics Comparison')\n",
        "plt.xticks(x, labels)\n",
        "plt.legend()\n",
        "\n",
        "plt.grid(True)\n",
        "plt.show()\n"
      ],
      "metadata": {
        "colab": {
          "base_uri": "https://localhost:8080/",
          "height": 564
        },
        "id": "MpH4ZQcBHjjk",
        "outputId": "43081417-f45b-4533-e14c-4d94d48bef06"
      },
      "execution_count": null,
      "outputs": [
        {
          "output_type": "display_data",
          "data": {
            "text/plain": [
              "<Figure size 1000x600 with 1 Axes>"
            ],
            "image/png": "[encoded data removed]"
          },
          "metadata": {}
        }
      ]
    }
  ],
  "metadata": {
    "colab": {
      "provenance": [],
      "authorship_tag": "ABX9TyPtidnZmt3NU09l1IhIdoXC",
      "include_colab_link": true
    },
    "kernelspec": {
      "display_name": "Python 3",
      "name": "python3"
    },
    "language_info": {
      "name": "python"
    }
  },
  "nbformat": 4,
  "nbformat_minor": 0
}